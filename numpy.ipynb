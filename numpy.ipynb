{
 "cells": [
  {
   "cell_type": "code",
   "execution_count": 3,
   "id": "58edd8dd",
   "metadata": {},
   "outputs": [],
   "source": [
    "# !pip install numpy\n",
    "import numpy as np"
   ]
  },
  {
   "cell_type": "code",
   "execution_count": 7,
   "id": "99d5b476",
   "metadata": {},
   "outputs": [
    {
     "name": "stdout",
     "output_type": "stream",
     "text": [
      "[1 2 3 4 5 6]\n",
      "<class 'numpy.ndarray'>\n",
      "int32\n"
     ]
    }
   ],
   "source": [
    "l = [1,2,3,4,5,6]  # list\n",
    "a = np.array(l)    # numpy array\n",
    "print(a)\n",
    "print(type(a))\n",
    "print(a.dtype)"
   ]
  },
  {
   "cell_type": "code",
   "execution_count": 8,
   "id": "146ff82f",
   "metadata": {},
   "outputs": [
    {
     "name": "stdout",
     "output_type": "stream",
     "text": [
      "[ 3  4  5  6  7  8  9 10 11]\n",
      "[-1  0  1  2  3  4  5  6  7]\n",
      "[ 2  4  6  8 10 12 14 16 18]\n",
      "[0.5 1.  1.5 2.  2.5 3.  3.5 4.  4.5]\n"
     ]
    }
   ],
   "source": [
    "# Operations\n",
    "\n",
    "l = [1,2,3,4,5,6,7,8,9]\n",
    "a = np.array(l)\n",
    "print(a+2)\n",
    "print(a-2)\n",
    "print(a*2)\n",
    "print(a/2)"
   ]
  },
  {
   "cell_type": "code",
   "execution_count": 9,
   "id": "26e3afa7",
   "metadata": {},
   "outputs": [
    {
     "data": {
      "text/plain": [
       "(9,)"
      ]
     },
     "execution_count": 9,
     "metadata": {},
     "output_type": "execute_result"
    }
   ],
   "source": [
    "# shape : shows row and cloumn\n",
    "a.shape"
   ]
  },
  {
   "cell_type": "code",
   "execution_count": 11,
   "id": "ea8cb6c9",
   "metadata": {},
   "outputs": [
    {
     "name": "stdout",
     "output_type": "stream",
     "text": [
      "[[1 2 3]\n",
      " [4 5 6]\n",
      " [7 8 9]]\n",
      "(3, 3)\n"
     ]
    }
   ],
   "source": [
    "# In numpy array rows and columns should be equal. Data should be structured.\n",
    "# Two dimensional data\n",
    "\n",
    "a = np.array([[1,2,3],\n",
    "            [4,5,6],\n",
    "            [7,8,9]])\n",
    "print(a)\n",
    "print(a.shape)"
   ]
  },
  {
   "cell_type": "code",
   "execution_count": 12,
   "id": "8a833620",
   "metadata": {},
   "outputs": [
    {
     "name": "stdout",
     "output_type": "stream",
     "text": [
      "[[[1]\n",
      "  [2]\n",
      "  [3]]\n",
      "\n",
      " [[4]\n",
      "  [5]\n",
      "  [6]]\n",
      "\n",
      " [[7]\n",
      "  [8]\n",
      "  [9]]]\n",
      "(3, 3, 1)\n"
     ]
    }
   ],
   "source": [
    "# Three dimensional data\n",
    "\n",
    "a = np.array([[[1],[2],[3]],\n",
    "            [[4],[5],[6]],\n",
    "            [[7],[8],[9]]])\n",
    "print(a)\n",
    "print(a.shape)"
   ]
  },
  {
   "cell_type": "code",
   "execution_count": 13,
   "id": "44e2d17c",
   "metadata": {},
   "outputs": [],
   "source": [
    "# In ouptut (3,3,1), the first 3 represent the data inside 1st big barcket, the second 3 represent the data inside 2nd big \n",
    "# bracket and the last 1 represent single value inside each bracket."
   ]
  },
  {
   "cell_type": "code",
   "execution_count": 14,
   "id": "20127eb6",
   "metadata": {},
   "outputs": [
    {
     "data": {
      "text/plain": [
       "array([[0., 0., 0.],\n",
       "       [0., 0., 0.],\n",
       "       [0., 0., 0.]])"
      ]
     },
     "execution_count": 14,
     "metadata": {},
     "output_type": "execute_result"
    }
   ],
   "source": [
    "np.zeros((3,3))"
   ]
  },
  {
   "cell_type": "code",
   "execution_count": 16,
   "id": "18708ac2",
   "metadata": {},
   "outputs": [
    {
     "data": {
      "text/plain": [
       "array([[1., 1., 1., 1., 1., 1.],\n",
       "       [1., 1., 1., 1., 1., 1.],\n",
       "       [1., 1., 1., 1., 1., 1.],\n",
       "       [1., 1., 1., 1., 1., 1.],\n",
       "       [1., 1., 1., 1., 1., 1.],\n",
       "       [1., 1., 1., 1., 1., 1.]])"
      ]
     },
     "execution_count": 16,
     "metadata": {},
     "output_type": "execute_result"
    }
   ],
   "source": [
    "np.ones((6,6))"
   ]
  },
  {
   "cell_type": "code",
   "execution_count": 18,
   "id": "577edcb6",
   "metadata": {},
   "outputs": [
    {
     "data": {
      "text/plain": [
       "array([[2., 2., 2., 2., 2., 2.],\n",
       "       [2., 2., 2., 2., 2., 2.],\n",
       "       [2., 2., 2., 2., 2., 2.],\n",
       "       [2., 2., 2., 2., 2., 2.],\n",
       "       [2., 2., 2., 2., 2., 2.],\n",
       "       [2., 2., 2., 2., 2., 2.]])"
      ]
     },
     "execution_count": 18,
     "metadata": {},
     "output_type": "execute_result"
    }
   ],
   "source": [
    "np.ones((6,6))+1"
   ]
  },
  {
   "cell_type": "code",
   "execution_count": 20,
   "id": "053ae978",
   "metadata": {},
   "outputs": [
    {
     "data": {
      "text/plain": [
       "array([[1., 0., 0., 0., 0.],\n",
       "       [0., 1., 0., 0., 0.],\n",
       "       [0., 0., 1., 0., 0.],\n",
       "       [0., 0., 0., 1., 0.],\n",
       "       [0., 0., 0., 0., 1.]])"
      ]
     },
     "execution_count": 20,
     "metadata": {},
     "output_type": "execute_result"
    }
   ],
   "source": [
    "np.eye(5,5)"
   ]
  },
  {
   "cell_type": "code",
   "execution_count": 23,
   "id": "c3f23838",
   "metadata": {},
   "outputs": [
    {
     "name": "stdout",
     "output_type": "stream",
     "text": [
      "[[1 2 3]\n",
      " [4 5 6]]\n",
      "[[1 2]\n",
      " [3 4]\n",
      " [5 6]]\n",
      "[[1 2 3]\n",
      " [4 5 6]]\n",
      "[[1 2 3 4 5 6]]\n",
      "[[1]\n",
      " [2]\n",
      " [3]\n",
      " [4]\n",
      " [5]\n",
      " [6]]\n"
     ]
    }
   ],
   "source": [
    "a = np.array([(1,2,3),\n",
    "             (4,5,6)])\n",
    "print(a)\n",
    "\n",
    "# Using numpy we can also reshape the matrix\n",
    "\n",
    "print(a.reshape(3,2))\n",
    "print(a.reshape(2,3))\n",
    "print(a.reshape(1,6))c\n",
    "print(a.reshape(6,1))"
   ]
  },
  {
   "cell_type": "code",
   "execution_count": 2,
   "id": "6c3c668f",
   "metadata": {},
   "outputs": [
    {
     "data": {
      "text/plain": [
       "array([1, 2, 3, 4, 5, 6])"
      ]
     },
     "execution_count": 2,
     "metadata": {},
     "output_type": "execute_result"
    }
   ],
   "source": [
    "#flatten: converts multi-dimensioanl array into one dimensional\n",
    "\n",
    "import numpy as np\n",
    "\n",
    "a = np.array([(1,2,3),\n",
    "             (4,5,6)])\n",
    "a.flatten()"
   ]
  },
  {
   "cell_type": "code",
   "execution_count": 3,
   "id": "932f69c3",
   "metadata": {},
   "outputs": [
    {
     "name": "stdout",
     "output_type": "stream",
     "text": [
      "[ 7  9 11 13 15]\n"
     ]
    }
   ],
   "source": [
    "# Numpy array concatination\n",
    "\n",
    "a = np.array([1,2,3,4,5])\n",
    "b = np.array([6,7,8,9,10])\n",
    "c = a+b    # This adds up numbers instead of concatinating\n",
    "print(c)"
   ]
  },
  {
   "cell_type": "code",
   "execution_count": 6,
   "id": "557579aa",
   "metadata": {},
   "outputs": [
    {
     "name": "stdout",
     "output_type": "stream",
     "text": [
      "[ 1  2  3  4  5  6  7  8  9 10]\n"
     ]
    }
   ],
   "source": [
    "# Horizontal Stacking\n",
    "\n",
    "a = np.array([1,2,3,4,5])\n",
    "b = np.array([6,7,8,9,10])\n",
    "c = np.hstack((a,b))\n",
    "print(c)"
   ]
  },
  {
   "cell_type": "code",
   "execution_count": 5,
   "id": "2e8ace0c",
   "metadata": {},
   "outputs": [
    {
     "name": "stdout",
     "output_type": "stream",
     "text": [
      "[[ 1  2  3  4  5]\n",
      " [ 6  7  8  9 10]]\n"
     ]
    }
   ],
   "source": [
    "# Vertical Stacking\n",
    "\n",
    "a = np.array([1,2,3,4,5])\n",
    "b = np.array([6,7,8,9,10])\n",
    "c = np.vstack((a,b))\n",
    "print(c)"
   ]
  },
  {
   "cell_type": "code",
   "execution_count": 8,
   "id": "8d23441b",
   "metadata": {},
   "outputs": [
    {
     "name": "stdout",
     "output_type": "stream",
     "text": [
      "[[0.46823216 0.46890662]\n",
      " [0.50989808 0.84484125]]\n",
      "[[0.15877276 0.07647637 0.73027716 0.04567508 0.37592542]\n",
      " [0.37222788 0.16506216 0.33069498 0.97625186 0.09346687]\n",
      " [0.52604738 0.77958849 0.29193097 0.65866585 0.30047041]\n",
      " [0.16242909 0.1292756  0.73565561 0.74568461 0.44251563]\n",
      " [0.49645239 0.54196526 0.90892824 0.40586229 0.0859986 ]]\n"
     ]
    }
   ],
   "source": [
    "# Generating random number: generates values form 0 to 1 if choice is not specified\n",
    "\n",
    "print(np.random.rand(2,2))\n",
    "print(np.random.rand(5,5))"
   ]
  },
  {
   "cell_type": "code",
   "execution_count": 9,
   "id": "43953d68",
   "metadata": {},
   "outputs": [
    {
     "name": "stdout",
     "output_type": "stream",
     "text": [
      "[[7 5]\n",
      " [5 4]]\n"
     ]
    }
   ],
   "source": [
    "print(np.random.randint(0,10, size=[2,2]))"
   ]
  },
  {
   "cell_type": "code",
   "execution_count": 10,
   "id": "33c6785a",
   "metadata": {},
   "outputs": [
    {
     "name": "stdout",
     "output_type": "stream",
     "text": [
      "['u' 'o' 'u' 'i' 'u' 'o' 'u' 'a' 'i' 'a']\n"
     ]
    }
   ],
   "source": [
    "print(np.random.choice(['a','e','i','o','u'], size=10))"
   ]
  },
  {
   "cell_type": "code",
   "execution_count": 11,
   "id": "7e5c3216",
   "metadata": {},
   "outputs": [
    {
     "name": "stdout",
     "output_type": "stream",
     "text": [
      "[['a' 'e' 'i' 'u' 'u']\n",
      " ['o' 'i' 'e' 'o' 'a']\n",
      " ['i' 'u' 'a' 'u' 'a']\n",
      " ['i' 'i' 'i' 'u' 'a']\n",
      " ['i' 'i' 'i' 'i' 'u']]\n"
     ]
    }
   ],
   "source": [
    "print(np.random.choice(['a','e','i','o','u'], size=(5,5)))"
   ]
  },
  {
   "cell_type": "code",
   "execution_count": 12,
   "id": "d8eb6ab9",
   "metadata": {},
   "outputs": [
    {
     "name": "stdout",
     "output_type": "stream",
     "text": [
      "['i' '4' '8' '0' '8' '8' '1' '9' '0' 'a' 'i' 'a' '7' '3' '3' 'u']\n"
     ]
    }
   ],
   "source": [
    "print(np.random.choice([0,1,2,3,4,5,6,7,8,9,'a','e','i','o','u'], size=16))"
   ]
  },
  {
   "cell_type": "code",
   "execution_count": 13,
   "id": "705ca867",
   "metadata": {},
   "outputs": [
    {
     "data": {
      "text/plain": [
       "'82a3u122ie76oo57'"
      ]
     },
     "execution_count": 13,
     "metadata": {},
     "output_type": "execute_result"
    }
   ],
   "source": [
    "\"\".join(np.random.choice([0,1,2,3,4,5,6,7,8,9,'a','e','i','o','u'], size=16))"
   ]
  },
  {
   "cell_type": "code",
   "execution_count": 15,
   "id": "53bd4c36",
   "metadata": {},
   "outputs": [
    {
     "name": "stdout",
     "output_type": "stream",
     "text": [
      "[[185 225  13 242  47  17 108  79 108 119]\n",
      " [204 108 156 186 147  31 147 117 173 226]\n",
      " [220 200 242  18 193 177  63  72 125  64]\n",
      " [ 76 103 121 196  17 155 253 182  23 105]\n",
      " [ 33 135  74  24 146 154 243 175 138 156]\n",
      " [140 150 222 185 242  85 237 253 104 148]\n",
      " [ 15  33  50 129 110 111 117 102 242 206]\n",
      " [ 99  71  78  12 155  71  15 229  75  25]\n",
      " [221  10 175  52 183   0 188 253 107  76]\n",
      " [118 133 161 219  23  48 166  18  23  39]]\n"
     ]
    }
   ],
   "source": [
    "b = np.random.randint(0,255, size=[10,10])\n",
    "print(b)"
   ]
  },
  {
   "cell_type": "code",
   "execution_count": 20,
   "id": "e657cf7a",
   "metadata": {},
   "outputs": [
    {
     "name": "stdout",
     "output_type": "stream",
     "text": [
      "Minimum value =  33\n",
      "Maximun value =  789\n",
      "Mean value =  308.53846153846155\n",
      "Median value =  234.0\n",
      "Standard Deviation value =  258.1361046438682\n"
     ]
    }
   ],
   "source": [
    "# Statistical Functions\n",
    "\n",
    "a = np.array([123,456,789,655,456,345,67,89,654,234,33,45,65])\n",
    "print(\"Minimum value = \",np.min(a))\n",
    "print(\"Maximun value = \",np.max(a))\n",
    "print(\"Mean value = \",np.mean(a))\n",
    "print(\"Median value = \",np.median(a))\n",
    "print(\"Standard Deviation value = \",np.std(a))"
   ]
  },
  {
   "cell_type": "code",
   "execution_count": 21,
   "id": "9d72d9a2",
   "metadata": {},
   "outputs": [
    {
     "data": {
      "text/plain": [
       "104.00000000000003"
      ]
     },
     "execution_count": 21,
     "metadata": {},
     "output_type": "execute_result"
    }
   ],
   "source": [
    "# Matrix Operations\n",
    "\n",
    "# To find determinant\n",
    "\n",
    "import scipy.linalg as slin\n",
    "import numpy as np\n",
    "\n",
    "a = np.array([[3,-5,4],\n",
    "            [8,4,2],\n",
    "            [4,6,1]])\n",
    "slin.det(a)"
   ]
  },
  {
   "cell_type": "code",
   "execution_count": 22,
   "id": "6d68beb2",
   "metadata": {},
   "outputs": [
    {
     "data": {
      "text/plain": [
       "8"
      ]
     },
     "execution_count": 22,
     "metadata": {},
     "output_type": "execute_result"
    }
   ],
   "source": [
    "# Trace of matrix: adding diagonal of matrix (3+4+1)\n",
    "\n",
    "a = np.array([[3,-5,4],\n",
    "            [8,4,2],\n",
    "            [4,6,1]])\n",
    "np.trace(a)"
   ]
  },
  {
   "cell_type": "code",
   "execution_count": 24,
   "id": "8e78d6e2",
   "metadata": {},
   "outputs": [
    {
     "data": {
      "text/plain": [
       "array([[ 0.08494208, -0.14671815, -0.11969112],\n",
       "       [-0.05019305,  0.17760618, -0.06563707],\n",
       "       [ 0.06177606,  0.16602317,  0.003861  ]])"
      ]
     },
     "execution_count": 24,
     "metadata": {},
     "output_type": "execute_result"
    }
   ],
   "source": [
    "# Inverse of Matrix\n",
    "\n",
    "a = np.array([[3,-5,8],\n",
    "            [-1,2,3],\n",
    "            [-5,-6,2]])\n",
    "slin.inv(a)"
   ]
  },
  {
   "cell_type": "code",
   "execution_count": 27,
   "id": "3bde61ed",
   "metadata": {},
   "outputs": [
    {
     "data": {
      "text/plain": [
       "array([[ 3, -1, -5],\n",
       "       [-5,  2, -6],\n",
       "       [ 8,  3,  2]])"
      ]
     },
     "execution_count": 27,
     "metadata": {},
     "output_type": "execute_result"
    }
   ],
   "source": [
    "# Transpose of Matrix\n",
    "\n",
    "a = np.array([[3,-5,8],\n",
    "            [-1,2,3],\n",
    "            [-5,-6,2]])\n",
    "np.transpose(a)"
   ]
  },
  {
   "cell_type": "code",
   "execution_count": 28,
   "id": "222fa9f3",
   "metadata": {},
   "outputs": [
    {
     "data": {
      "text/plain": [
       "matrix([[-19],\n",
       "        [  2],\n",
       "        [-41]])"
      ]
     },
     "execution_count": 28,
     "metadata": {},
     "output_type": "execute_result"
    }
   ],
   "source": [
    "# Matrix Multiplication\n",
    "\n",
    "a=np.matrix([[ 3, -5, 8],\n",
    "             [-1, 2, 3],\n",
    "             [-5, -6, 2]])\n",
    "\n",
    "b=np.matrix([[3],\n",
    "             [4],\n",
    "             [-1]])\n",
    "\n",
    "a*b"
   ]
  }
 ],
 "metadata": {
  "kernelspec": {
   "display_name": "Python 3 (ipykernel)",
   "language": "python",
   "name": "python3"
  },
  "language_info": {
   "codemirror_mode": {
    "name": "ipython",
    "version": 3
   },
   "file_extension": ".py",
   "mimetype": "text/x-python",
   "name": "python",
   "nbconvert_exporter": "python",
   "pygments_lexer": "ipython3",
   "version": "3.9.12"
  }
 },
 "nbformat": 4,
 "nbformat_minor": 5
}
