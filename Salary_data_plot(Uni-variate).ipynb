{
 "cells": [
  {
   "cell_type": "code",
   "execution_count": null,
   "metadata": {
    "id": "Z_h7LcE03lgq"
   },
   "outputs": [],
   "source": [
    "# libraries"
   ]
  },
  {
   "cell_type": "code",
   "execution_count": 1,
   "metadata": {},
   "outputs": [],
   "source": [
    "### IMPORT: ------------------------------------\n",
    "\n",
    "import scipy.stats as stats #It has all the probability distributions available along with many statistical functions.\n",
    "import pandas as pd\n",
    "import numpy as np\n",
    "import matplotlib.pyplot as plt\n",
    "%matplotlib inline\n",
    "import seaborn as sns\n",
    "import warnings\n",
    "warnings.filterwarnings('ignore') # To supress warnings\n",
    "sns.set(style=\"darkgrid\") # set the background for the graphs\n",
    "# from scipy.stats import skew"
   ]
  },
  {
   "cell_type": "markdown",
   "metadata": {
    "id": "-leACZRg3lgr"
   },
   "source": [
    "<!-- Read and Understand data -->"
   ]
  },
  {
   "cell_type": "code",
   "execution_count": 2,
   "metadata": {
    "id": "ViPq5zV83lgr"
   },
   "outputs": [],
   "source": [
    "# Reading the csv file salary.csv\n",
    "\n",
    "df = pd.read_csv('Salary Data.csv')\n",
    "insured=df.copy()"
   ]
  },
  {
   "cell_type": "code",
   "execution_count": 3,
   "metadata": {
    "colab": {
     "base_uri": "https://localhost:8080/",
     "height": 206
    },
    "id": "DcAdupw33lgs",
    "outputId": "84b2cefe-d29a-4824-e680-714861afc385"
   },
   "outputs": [
    {
     "data": {
      "text/html": [
       "<div>\n",
       "<style scoped>\n",
       "    .dataframe tbody tr th:only-of-type {\n",
       "        vertical-align: middle;\n",
       "    }\n",
       "\n",
       "    .dataframe tbody tr th {\n",
       "        vertical-align: top;\n",
       "    }\n",
       "\n",
       "    .dataframe thead th {\n",
       "        text-align: right;\n",
       "    }\n",
       "</style>\n",
       "<table border=\"1\" class=\"dataframe\">\n",
       "  <thead>\n",
       "    <tr style=\"text-align: right;\">\n",
       "      <th></th>\n",
       "      <th>Age</th>\n",
       "      <th>Gender</th>\n",
       "      <th>Education Level</th>\n",
       "      <th>Job Title</th>\n",
       "      <th>Years of Experience</th>\n",
       "      <th>Salary</th>\n",
       "    </tr>\n",
       "  </thead>\n",
       "  <tbody>\n",
       "    <tr>\n",
       "      <th>0</th>\n",
       "      <td>32.0</td>\n",
       "      <td>Male</td>\n",
       "      <td>Bachelor's</td>\n",
       "      <td>Software Engineer</td>\n",
       "      <td>5.0</td>\n",
       "      <td>90000.0</td>\n",
       "    </tr>\n",
       "    <tr>\n",
       "      <th>1</th>\n",
       "      <td>28.0</td>\n",
       "      <td>Female</td>\n",
       "      <td>Master's</td>\n",
       "      <td>Data Analyst</td>\n",
       "      <td>3.0</td>\n",
       "      <td>65000.0</td>\n",
       "    </tr>\n",
       "    <tr>\n",
       "      <th>2</th>\n",
       "      <td>45.0</td>\n",
       "      <td>Male</td>\n",
       "      <td>PhD</td>\n",
       "      <td>Senior Manager</td>\n",
       "      <td>15.0</td>\n",
       "      <td>150000.0</td>\n",
       "    </tr>\n",
       "    <tr>\n",
       "      <th>3</th>\n",
       "      <td>36.0</td>\n",
       "      <td>Female</td>\n",
       "      <td>Bachelor's</td>\n",
       "      <td>Sales Associate</td>\n",
       "      <td>7.0</td>\n",
       "      <td>60000.0</td>\n",
       "    </tr>\n",
       "    <tr>\n",
       "      <th>4</th>\n",
       "      <td>52.0</td>\n",
       "      <td>Male</td>\n",
       "      <td>Master's</td>\n",
       "      <td>Director</td>\n",
       "      <td>20.0</td>\n",
       "      <td>200000.0</td>\n",
       "    </tr>\n",
       "  </tbody>\n",
       "</table>\n",
       "</div>"
      ],
      "text/plain": [
       "    Age  Gender Education Level          Job Title  Years of Experience  \\\n",
       "0  32.0    Male      Bachelor's  Software Engineer                  5.0   \n",
       "1  28.0  Female        Master's       Data Analyst                  3.0   \n",
       "2  45.0    Male             PhD     Senior Manager                 15.0   \n",
       "3  36.0  Female      Bachelor's    Sales Associate                  7.0   \n",
       "4  52.0    Male        Master's           Director                 20.0   \n",
       "\n",
       "     Salary  \n",
       "0   90000.0  \n",
       "1   65000.0  \n",
       "2  150000.0  \n",
       "3   60000.0  \n",
       "4  200000.0  "
      ]
     },
     "execution_count": 3,
     "metadata": {},
     "output_type": "execute_result"
    }
   ],
   "source": [
    "# head() inspect data, print top 5\n",
    "\n",
    "insured.head()"
   ]
  },
  {
   "cell_type": "code",
   "execution_count": 4,
   "metadata": {
    "colab": {
     "base_uri": "https://localhost:8080/",
     "height": 206
    },
    "id": "XIgdhw1W3lgs",
    "outputId": "750277a5-cb89-498f-f750-5d6472591ffa"
   },
   "outputs": [
    {
     "data": {
      "text/html": [
       "<div>\n",
       "<style scoped>\n",
       "    .dataframe tbody tr th:only-of-type {\n",
       "        vertical-align: middle;\n",
       "    }\n",
       "\n",
       "    .dataframe tbody tr th {\n",
       "        vertical-align: top;\n",
       "    }\n",
       "\n",
       "    .dataframe thead th {\n",
       "        text-align: right;\n",
       "    }\n",
       "</style>\n",
       "<table border=\"1\" class=\"dataframe\">\n",
       "  <thead>\n",
       "    <tr style=\"text-align: right;\">\n",
       "      <th></th>\n",
       "      <th>Age</th>\n",
       "      <th>Gender</th>\n",
       "      <th>Education Level</th>\n",
       "      <th>Job Title</th>\n",
       "      <th>Years of Experience</th>\n",
       "      <th>Salary</th>\n",
       "    </tr>\n",
       "  </thead>\n",
       "  <tbody>\n",
       "    <tr>\n",
       "      <th>365</th>\n",
       "      <td>43.0</td>\n",
       "      <td>Male</td>\n",
       "      <td>Master's</td>\n",
       "      <td>Director of Marketing</td>\n",
       "      <td>18.0</td>\n",
       "      <td>170000.0</td>\n",
       "    </tr>\n",
       "    <tr>\n",
       "      <th>366</th>\n",
       "      <td>31.0</td>\n",
       "      <td>Female</td>\n",
       "      <td>Bachelor's</td>\n",
       "      <td>Junior Financial Analyst</td>\n",
       "      <td>3.0</td>\n",
       "      <td>50000.0</td>\n",
       "    </tr>\n",
       "    <tr>\n",
       "      <th>367</th>\n",
       "      <td>41.0</td>\n",
       "      <td>Male</td>\n",
       "      <td>Bachelor's</td>\n",
       "      <td>Senior Product Manager</td>\n",
       "      <td>14.0</td>\n",
       "      <td>150000.0</td>\n",
       "    </tr>\n",
       "    <tr>\n",
       "      <th>368</th>\n",
       "      <td>44.0</td>\n",
       "      <td>Female</td>\n",
       "      <td>PhD</td>\n",
       "      <td>Senior Data Engineer</td>\n",
       "      <td>16.0</td>\n",
       "      <td>160000.0</td>\n",
       "    </tr>\n",
       "    <tr>\n",
       "      <th>369</th>\n",
       "      <td>33.0</td>\n",
       "      <td>Male</td>\n",
       "      <td>Bachelor's</td>\n",
       "      <td>Junior Business Analyst</td>\n",
       "      <td>4.0</td>\n",
       "      <td>60000.0</td>\n",
       "    </tr>\n",
       "    <tr>\n",
       "      <th>370</th>\n",
       "      <td>35.0</td>\n",
       "      <td>Female</td>\n",
       "      <td>Bachelor's</td>\n",
       "      <td>Senior Marketing Analyst</td>\n",
       "      <td>8.0</td>\n",
       "      <td>85000.0</td>\n",
       "    </tr>\n",
       "    <tr>\n",
       "      <th>371</th>\n",
       "      <td>43.0</td>\n",
       "      <td>Male</td>\n",
       "      <td>Master's</td>\n",
       "      <td>Director of Operations</td>\n",
       "      <td>19.0</td>\n",
       "      <td>170000.0</td>\n",
       "    </tr>\n",
       "    <tr>\n",
       "      <th>372</th>\n",
       "      <td>29.0</td>\n",
       "      <td>Female</td>\n",
       "      <td>Bachelor's</td>\n",
       "      <td>Junior Project Manager</td>\n",
       "      <td>2.0</td>\n",
       "      <td>40000.0</td>\n",
       "    </tr>\n",
       "    <tr>\n",
       "      <th>373</th>\n",
       "      <td>34.0</td>\n",
       "      <td>Male</td>\n",
       "      <td>Bachelor's</td>\n",
       "      <td>Senior Operations Coordinator</td>\n",
       "      <td>7.0</td>\n",
       "      <td>90000.0</td>\n",
       "    </tr>\n",
       "    <tr>\n",
       "      <th>374</th>\n",
       "      <td>44.0</td>\n",
       "      <td>Female</td>\n",
       "      <td>PhD</td>\n",
       "      <td>Senior Business Analyst</td>\n",
       "      <td>15.0</td>\n",
       "      <td>150000.0</td>\n",
       "    </tr>\n",
       "  </tbody>\n",
       "</table>\n",
       "</div>"
      ],
      "text/plain": [
       "      Age  Gender Education Level                      Job Title  \\\n",
       "365  43.0    Male        Master's          Director of Marketing   \n",
       "366  31.0  Female      Bachelor's       Junior Financial Analyst   \n",
       "367  41.0    Male      Bachelor's         Senior Product Manager   \n",
       "368  44.0  Female             PhD           Senior Data Engineer   \n",
       "369  33.0    Male      Bachelor's        Junior Business Analyst   \n",
       "370  35.0  Female      Bachelor's       Senior Marketing Analyst   \n",
       "371  43.0    Male        Master's         Director of Operations   \n",
       "372  29.0  Female      Bachelor's         Junior Project Manager   \n",
       "373  34.0    Male      Bachelor's  Senior Operations Coordinator   \n",
       "374  44.0  Female             PhD        Senior Business Analyst   \n",
       "\n",
       "     Years of Experience    Salary  \n",
       "365                 18.0  170000.0  \n",
       "366                  3.0   50000.0  \n",
       "367                 14.0  150000.0  \n",
       "368                 16.0  160000.0  \n",
       "369                  4.0   60000.0  \n",
       "370                  8.0   85000.0  \n",
       "371                 19.0  170000.0  \n",
       "372                  2.0   40000.0  \n",
       "373                  7.0   90000.0  \n",
       "374                 15.0  150000.0  "
      ]
     },
     "execution_count": 4,
     "metadata": {},
     "output_type": "execute_result"
    }
   ],
   "source": [
    "# bottom 5 rows:\n",
    "insured.tail(10)"
   ]
  },
  {
   "cell_type": "code",
   "execution_count": 5,
   "metadata": {
    "colab": {
     "base_uri": "https://localhost:8080/"
    },
    "id": "BHRN90-xjmrv",
    "outputId": "00b00a17-371b-47f6-c2fc-5c5a281d506e"
   },
   "outputs": [
    {
     "data": {
      "text/plain": [
       "(375, 6)"
      ]
     },
     "execution_count": 5,
     "metadata": {},
     "output_type": "execute_result"
    }
   ],
   "source": [
    "# shape shows rows and columns of dataset\n",
    "\n",
    "insured.shape"
   ]
  },
  {
   "cell_type": "code",
   "execution_count": 6,
   "metadata": {
    "colab": {
     "base_uri": "https://localhost:8080/"
    },
    "id": "gLlykhT5xR1c",
    "outputId": "21f85f44-b914-4517-eff5-e939800c4f7b"
   },
   "outputs": [
    {
     "name": "stdout",
     "output_type": "stream",
     "text": [
      "<class 'pandas.core.frame.DataFrame'>\n",
      "RangeIndex: 375 entries, 0 to 374\n",
      "Data columns (total 6 columns):\n",
      " #   Column               Non-Null Count  Dtype  \n",
      "---  ------               --------------  -----  \n",
      " 0   Age                  373 non-null    float64\n",
      " 1   Gender               373 non-null    object \n",
      " 2   Education Level      373 non-null    object \n",
      " 3   Job Title            373 non-null    object \n",
      " 4   Years of Experience  373 non-null    float64\n",
      " 5   Salary               373 non-null    float64\n",
      "dtypes: float64(3), object(3)\n",
      "memory usage: 17.7+ KB\n"
     ]
    }
   ],
   "source": [
    "# it gives information about datatype of different columns\n",
    "\n",
    "insured.info()   "
   ]
  },
  {
   "cell_type": "code",
   "execution_count": 7,
   "metadata": {
    "colab": {
     "base_uri": "https://localhost:8080/",
     "height": 300
    },
    "id": "Yr4BEDukyLeu",
    "outputId": "86a4ebcb-1ae1-4d79-b587-0370c3cef220"
   },
   "outputs": [
    {
     "data": {
      "text/html": [
       "<div>\n",
       "<style scoped>\n",
       "    .dataframe tbody tr th:only-of-type {\n",
       "        vertical-align: middle;\n",
       "    }\n",
       "\n",
       "    .dataframe tbody tr th {\n",
       "        vertical-align: top;\n",
       "    }\n",
       "\n",
       "    .dataframe thead th {\n",
       "        text-align: right;\n",
       "    }\n",
       "</style>\n",
       "<table border=\"1\" class=\"dataframe\">\n",
       "  <thead>\n",
       "    <tr style=\"text-align: right;\">\n",
       "      <th></th>\n",
       "      <th>Age</th>\n",
       "      <th>Years of Experience</th>\n",
       "      <th>Salary</th>\n",
       "    </tr>\n",
       "  </thead>\n",
       "  <tbody>\n",
       "    <tr>\n",
       "      <th>count</th>\n",
       "      <td>373.000000</td>\n",
       "      <td>373.000000</td>\n",
       "      <td>373.000000</td>\n",
       "    </tr>\n",
       "    <tr>\n",
       "      <th>mean</th>\n",
       "      <td>37.431635</td>\n",
       "      <td>10.030831</td>\n",
       "      <td>100577.345845</td>\n",
       "    </tr>\n",
       "    <tr>\n",
       "      <th>std</th>\n",
       "      <td>7.069073</td>\n",
       "      <td>6.557007</td>\n",
       "      <td>48240.013482</td>\n",
       "    </tr>\n",
       "    <tr>\n",
       "      <th>min</th>\n",
       "      <td>23.000000</td>\n",
       "      <td>0.000000</td>\n",
       "      <td>350.000000</td>\n",
       "    </tr>\n",
       "    <tr>\n",
       "      <th>25%</th>\n",
       "      <td>31.000000</td>\n",
       "      <td>4.000000</td>\n",
       "      <td>55000.000000</td>\n",
       "    </tr>\n",
       "    <tr>\n",
       "      <th>50%</th>\n",
       "      <td>36.000000</td>\n",
       "      <td>9.000000</td>\n",
       "      <td>95000.000000</td>\n",
       "    </tr>\n",
       "    <tr>\n",
       "      <th>75%</th>\n",
       "      <td>44.000000</td>\n",
       "      <td>15.000000</td>\n",
       "      <td>140000.000000</td>\n",
       "    </tr>\n",
       "    <tr>\n",
       "      <th>max</th>\n",
       "      <td>53.000000</td>\n",
       "      <td>25.000000</td>\n",
       "      <td>250000.000000</td>\n",
       "    </tr>\n",
       "  </tbody>\n",
       "</table>\n",
       "</div>"
      ],
      "text/plain": [
       "              Age  Years of Experience         Salary\n",
       "count  373.000000           373.000000     373.000000\n",
       "mean    37.431635            10.030831  100577.345845\n",
       "std      7.069073             6.557007   48240.013482\n",
       "min     23.000000             0.000000     350.000000\n",
       "25%     31.000000             4.000000   55000.000000\n",
       "50%     36.000000             9.000000   95000.000000\n",
       "75%     44.000000            15.000000  140000.000000\n",
       "max     53.000000            25.000000  250000.000000"
      ]
     },
     "execution_count": 7,
     "metadata": {},
     "output_type": "execute_result"
    }
   ],
   "source": [
    "# it calculates missing values, average value, fluctuating values, minimum, quadratical values and maximum of numerical values \n",
    "# in dataset\n",
    "\n",
    "insured.describe()"
   ]
  },
  {
   "cell_type": "code",
   "execution_count": 8,
   "metadata": {
    "colab": {
     "base_uri": "https://localhost:8080/"
    },
    "id": "kMHuBu8wz0tR",
    "outputId": "779d2034-c7c0-4551-a968-790847057e4d"
   },
   "outputs": [
    {
     "name": "stdout",
     "output_type": "stream",
     "text": [
      "Rows     :  375\n",
      "Columns  :  6\n"
     ]
    }
   ],
   "source": [
    "insured.shape\n",
    "#get the size of dataframe\n",
    "print (\"Rows     : \" , insured.shape[0])\n",
    "print (\"Columns  : \" , insured.shape[1])"
   ]
  },
  {
   "cell_type": "code",
   "execution_count": 9,
   "metadata": {
    "colab": {
     "base_uri": "https://localhost:8080/",
     "height": 272
    },
    "id": "dyQyULPw1PdT",
    "outputId": "cb37d914-e3e2-4254-dae1-1983bcbdb759"
   },
   "outputs": [
    {
     "data": {
      "text/html": [
       "<div>\n",
       "<style scoped>\n",
       "    .dataframe tbody tr th:only-of-type {\n",
       "        vertical-align: middle;\n",
       "    }\n",
       "\n",
       "    .dataframe tbody tr th {\n",
       "        vertical-align: top;\n",
       "    }\n",
       "\n",
       "    .dataframe thead th {\n",
       "        text-align: right;\n",
       "    }\n",
       "</style>\n",
       "<table border=\"1\" class=\"dataframe\">\n",
       "  <thead>\n",
       "    <tr style=\"text-align: right;\">\n",
       "      <th></th>\n",
       "      <th>Age</th>\n",
       "      <th>Gender</th>\n",
       "      <th>Education Level</th>\n",
       "      <th>Job Title</th>\n",
       "      <th>Years of Experience</th>\n",
       "      <th>Salary</th>\n",
       "    </tr>\n",
       "  </thead>\n",
       "  <tbody>\n",
       "    <tr>\n",
       "      <th>0</th>\n",
       "      <td>False</td>\n",
       "      <td>False</td>\n",
       "      <td>False</td>\n",
       "      <td>False</td>\n",
       "      <td>False</td>\n",
       "      <td>False</td>\n",
       "    </tr>\n",
       "    <tr>\n",
       "      <th>1</th>\n",
       "      <td>False</td>\n",
       "      <td>False</td>\n",
       "      <td>False</td>\n",
       "      <td>False</td>\n",
       "      <td>False</td>\n",
       "      <td>False</td>\n",
       "    </tr>\n",
       "    <tr>\n",
       "      <th>2</th>\n",
       "      <td>False</td>\n",
       "      <td>False</td>\n",
       "      <td>False</td>\n",
       "      <td>False</td>\n",
       "      <td>False</td>\n",
       "      <td>False</td>\n",
       "    </tr>\n",
       "    <tr>\n",
       "      <th>3</th>\n",
       "      <td>False</td>\n",
       "      <td>False</td>\n",
       "      <td>False</td>\n",
       "      <td>False</td>\n",
       "      <td>False</td>\n",
       "      <td>False</td>\n",
       "    </tr>\n",
       "    <tr>\n",
       "      <th>4</th>\n",
       "      <td>False</td>\n",
       "      <td>False</td>\n",
       "      <td>False</td>\n",
       "      <td>False</td>\n",
       "      <td>False</td>\n",
       "      <td>False</td>\n",
       "    </tr>\n",
       "    <tr>\n",
       "      <th>...</th>\n",
       "      <td>...</td>\n",
       "      <td>...</td>\n",
       "      <td>...</td>\n",
       "      <td>...</td>\n",
       "      <td>...</td>\n",
       "      <td>...</td>\n",
       "    </tr>\n",
       "    <tr>\n",
       "      <th>370</th>\n",
       "      <td>False</td>\n",
       "      <td>False</td>\n",
       "      <td>False</td>\n",
       "      <td>False</td>\n",
       "      <td>False</td>\n",
       "      <td>False</td>\n",
       "    </tr>\n",
       "    <tr>\n",
       "      <th>371</th>\n",
       "      <td>False</td>\n",
       "      <td>False</td>\n",
       "      <td>False</td>\n",
       "      <td>False</td>\n",
       "      <td>False</td>\n",
       "      <td>False</td>\n",
       "    </tr>\n",
       "    <tr>\n",
       "      <th>372</th>\n",
       "      <td>False</td>\n",
       "      <td>False</td>\n",
       "      <td>False</td>\n",
       "      <td>False</td>\n",
       "      <td>False</td>\n",
       "      <td>False</td>\n",
       "    </tr>\n",
       "    <tr>\n",
       "      <th>373</th>\n",
       "      <td>False</td>\n",
       "      <td>False</td>\n",
       "      <td>False</td>\n",
       "      <td>False</td>\n",
       "      <td>False</td>\n",
       "      <td>False</td>\n",
       "    </tr>\n",
       "    <tr>\n",
       "      <th>374</th>\n",
       "      <td>False</td>\n",
       "      <td>False</td>\n",
       "      <td>False</td>\n",
       "      <td>False</td>\n",
       "      <td>False</td>\n",
       "      <td>False</td>\n",
       "    </tr>\n",
       "  </tbody>\n",
       "</table>\n",
       "<p>375 rows × 6 columns</p>\n",
       "</div>"
      ],
      "text/plain": [
       "       Age  Gender  Education Level  Job Title  Years of Experience  Salary\n",
       "0    False   False            False      False                False   False\n",
       "1    False   False            False      False                False   False\n",
       "2    False   False            False      False                False   False\n",
       "3    False   False            False      False                False   False\n",
       "4    False   False            False      False                False   False\n",
       "..     ...     ...              ...        ...                  ...     ...\n",
       "370  False   False            False      False                False   False\n",
       "371  False   False            False      False                False   False\n",
       "372  False   False            False      False                False   False\n",
       "373  False   False            False      False                False   False\n",
       "374  False   False            False      False                False   False\n",
       "\n",
       "[375 rows x 6 columns]"
      ]
     },
     "execution_count": 9,
     "metadata": {},
     "output_type": "execute_result"
    }
   ],
   "source": [
    "# It shows which value is empty.\n",
    "\n",
    "insured.isnull()"
   ]
  },
  {
   "cell_type": "code",
   "execution_count": 10,
   "metadata": {},
   "outputs": [
    {
     "data": {
      "text/plain": [
       "Age                    2\n",
       "Gender                 2\n",
       "Education Level        2\n",
       "Job Title              2\n",
       "Years of Experience    2\n",
       "Salary                 2\n",
       "dtype: int64"
      ]
     },
     "execution_count": 10,
     "metadata": {},
     "output_type": "execute_result"
    }
   ],
   "source": [
    "# It shows which value is empty and counts null values.\n",
    "\n",
    "insured.isnull().sum()"
   ]
  },
  {
   "cell_type": "code",
   "execution_count": 11,
   "metadata": {
    "colab": {
     "base_uri": "https://localhost:8080/"
    },
    "id": "O2A2wqMfbbwe",
    "outputId": "b10fe330-5aeb-4e68-e6e9-c18fa59104e9"
   },
   "outputs": [
    {
     "data": {
      "text/plain": [
       "12"
      ]
     },
     "execution_count": 11,
     "metadata": {},
     "output_type": "execute_result"
    }
   ],
   "source": [
    "# It shows which value is empty and counts all null values and calculates total null values.\n",
    "\n",
    "insured.isnull().sum().values.sum()"
   ]
  },
  {
   "cell_type": "code",
   "execution_count": 12,
   "metadata": {
    "id": "SUi0Vtq1HWef"
   },
   "outputs": [],
   "source": [
    "# It removes all rows having empty values\n",
    "\n",
    "insured = insured.dropna()"
   ]
  },
  {
   "cell_type": "code",
   "execution_count": 13,
   "metadata": {
    "colab": {
     "base_uri": "https://localhost:8080/"
    },
    "id": "ol5HBsLbpwYu",
    "outputId": "7cd37791-5c6c-4f86-8862-261e0ac58124"
   },
   "outputs": [
    {
     "name": "stdout",
     "output_type": "stream",
     "text": [
      "Number of rows:  373\n",
      "Number of columns:  6\n"
     ]
    }
   ],
   "source": [
    "row, col = insured.shape\n",
    "print(\"Number of rows: \",row)\n",
    "print(\"Number of columns: \",col)"
   ]
  },
  {
   "cell_type": "code",
   "execution_count": 14,
   "metadata": {
    "colab": {
     "base_uri": "https://localhost:8080/"
    },
    "id": "C8eg57Mw3lgt",
    "outputId": "0d8b7762-ccbb-4a85-ba19-c261f8c683f3"
   },
   "outputs": [
    {
     "name": "stdout",
     "output_type": "stream",
     "text": [
      "\n",
      "Values : \n",
      " [[32.0 'Male' \"Bachelor's\" 'Software Engineer' 5.0 90000.0]\n",
      " [28.0 'Female' \"Master's\" 'Data Analyst' 3.0 65000.0]\n",
      " [45.0 'Male' 'PhD' 'Senior Manager' 15.0 150000.0]\n",
      " ...\n",
      " [29.0 'Female' \"Bachelor's\" 'Junior Project Manager' 2.0 40000.0]\n",
      " [34.0 'Male' \"Bachelor's\" 'Senior Operations Coordinator' 7.0 90000.0]\n",
      " [44.0 'Female' 'PhD' 'Senior Business Analyst' 15.0 150000.0]]\n",
      "\n",
      "Features : \n",
      " ['Age', 'Gender', 'Education Level', 'Job Title', 'Years of Experience', 'Salary']\n"
     ]
    }
   ],
   "source": [
    "print (\"\\nValues : \\n\", insured.values)\n",
    "print (\"\\nFeatures : \\n\", list(insured.columns))"
   ]
  },
  {
   "cell_type": "code",
   "execution_count": 15,
   "metadata": {
    "colab": {
     "base_uri": "https://localhost:8080/"
    },
    "id": "xkPbWGby3lgt",
    "outputId": "555ef0b1-a8a4-473e-8659-d9a03d362339"
   },
   "outputs": [
    {
     "name": "stdout",
     "output_type": "stream",
     "text": [
      "<class 'pandas.core.frame.DataFrame'>\n",
      "Int64Index: 373 entries, 0 to 374\n",
      "Data columns (total 6 columns):\n",
      " #   Column               Non-Null Count  Dtype  \n",
      "---  ------               --------------  -----  \n",
      " 0   Age                  373 non-null    float64\n",
      " 1   Gender               373 non-null    object \n",
      " 2   Education Level      373 non-null    object \n",
      " 3   Job Title            373 non-null    object \n",
      " 4   Years of Experience  373 non-null    float64\n",
      " 5   Salary               373 non-null    float64\n",
      "dtypes: float64(3), object(3)\n",
      "memory usage: 20.4+ KB\n"
     ]
    }
   ],
   "source": [
    "insured.info()"
   ]
  },
  {
   "cell_type": "code",
   "execution_count": 16,
   "metadata": {
    "colab": {
     "base_uri": "https://localhost:8080/",
     "height": 272
    },
    "id": "zrtAdMG8ccLX",
    "outputId": "62d05b60-abac-4a70-bf35-b2c4d70918a2"
   },
   "outputs": [
    {
     "data": {
      "text/plain": [
       "Age                    0\n",
       "Gender                 0\n",
       "Education Level        0\n",
       "Job Title              0\n",
       "Years of Experience    0\n",
       "Salary                 0\n",
       "dtype: int64"
      ]
     },
     "execution_count": 16,
     "metadata": {},
     "output_type": "execute_result"
    }
   ],
   "source": [
    "insured.isnull().sum()"
   ]
  },
  {
   "cell_type": "code",
   "execution_count": 17,
   "metadata": {},
   "outputs": [],
   "source": [
    "# astype(): It converts one datatype into another. It performs datatype conversion"
   ]
  },
  {
   "cell_type": "code",
   "execution_count": 18,
   "metadata": {
    "id": "OXj9O-MA3lgt"
   },
   "outputs": [],
   "source": [
    "#changing object dtype to category  to save memory\n",
    "\n",
    "insured['Gender']=insured['Gender'].astype(\"category\")\n",
    "insured['Education Level']=insured['Education Level'].astype(\"category\")\n",
    "insured['Job Title']=insured['Job Title'].astype(\"category\")"
   ]
  },
  {
   "cell_type": "code",
   "execution_count": 19,
   "metadata": {},
   "outputs": [],
   "source": [
    "insured['Age'] = insured['Age'].astype('int')\n",
    "insured['Salary'] = insured['Salary'].astype('int')\n",
    "insured['Years of Experience'] = insured['Years of Experience'].astype('int')"
   ]
  },
  {
   "cell_type": "markdown",
   "metadata": {
    "id": "79ifGdNpwzNT"
   },
   "source": []
  },
  {
   "cell_type": "code",
   "execution_count": 20,
   "metadata": {
    "colab": {
     "base_uri": "https://localhost:8080/"
    },
    "id": "gxZfnHTW3lgu",
    "outputId": "39f7fc44-53c7-4a32-cb81-c95d18f47eb6"
   },
   "outputs": [
    {
     "name": "stdout",
     "output_type": "stream",
     "text": [
      "<class 'pandas.core.frame.DataFrame'>\n",
      "Int64Index: 373 entries, 0 to 374\n",
      "Data columns (total 6 columns):\n",
      " #   Column               Non-Null Count  Dtype   \n",
      "---  ------               --------------  -----   \n",
      " 0   Age                  373 non-null    int32   \n",
      " 1   Gender               373 non-null    category\n",
      " 2   Education Level      373 non-null    category\n",
      " 3   Job Title            373 non-null    category\n",
      " 4   Years of Experience  373 non-null    int32   \n",
      " 5   Salary               373 non-null    int32   \n",
      "dtypes: category(3), int32(3)\n",
      "memory usage: 14.4 KB\n"
     ]
    }
   ],
   "source": [
    "insured.info()"
   ]
  },
  {
   "cell_type": "code",
   "execution_count": 21,
   "metadata": {
    "colab": {
     "base_uri": "https://localhost:8080/",
     "height": 300
    },
    "id": "NjJe79i83lgu",
    "outputId": "b5fb29bd-fcc8-4424-8ab6-fbc12a19c593"
   },
   "outputs": [
    {
     "data": {
      "text/html": [
       "<div>\n",
       "<style scoped>\n",
       "    .dataframe tbody tr th:only-of-type {\n",
       "        vertical-align: middle;\n",
       "    }\n",
       "\n",
       "    .dataframe tbody tr th {\n",
       "        vertical-align: top;\n",
       "    }\n",
       "\n",
       "    .dataframe thead th {\n",
       "        text-align: right;\n",
       "    }\n",
       "</style>\n",
       "<table border=\"1\" class=\"dataframe\">\n",
       "  <thead>\n",
       "    <tr style=\"text-align: right;\">\n",
       "      <th></th>\n",
       "      <th>Age</th>\n",
       "      <th>Years of Experience</th>\n",
       "      <th>Salary</th>\n",
       "    </tr>\n",
       "  </thead>\n",
       "  <tbody>\n",
       "    <tr>\n",
       "      <th>count</th>\n",
       "      <td>373.000000</td>\n",
       "      <td>373.000000</td>\n",
       "      <td>373.000000</td>\n",
       "    </tr>\n",
       "    <tr>\n",
       "      <th>mean</th>\n",
       "      <td>37.431635</td>\n",
       "      <td>10.013405</td>\n",
       "      <td>100577.345845</td>\n",
       "    </tr>\n",
       "    <tr>\n",
       "      <th>std</th>\n",
       "      <td>7.069073</td>\n",
       "      <td>6.580546</td>\n",
       "      <td>48240.013482</td>\n",
       "    </tr>\n",
       "    <tr>\n",
       "      <th>min</th>\n",
       "      <td>23.000000</td>\n",
       "      <td>0.000000</td>\n",
       "      <td>350.000000</td>\n",
       "    </tr>\n",
       "    <tr>\n",
       "      <th>25%</th>\n",
       "      <td>31.000000</td>\n",
       "      <td>4.000000</td>\n",
       "      <td>55000.000000</td>\n",
       "    </tr>\n",
       "    <tr>\n",
       "      <th>50%</th>\n",
       "      <td>36.000000</td>\n",
       "      <td>9.000000</td>\n",
       "      <td>95000.000000</td>\n",
       "    </tr>\n",
       "    <tr>\n",
       "      <th>75%</th>\n",
       "      <td>44.000000</td>\n",
       "      <td>15.000000</td>\n",
       "      <td>140000.000000</td>\n",
       "    </tr>\n",
       "    <tr>\n",
       "      <th>max</th>\n",
       "      <td>53.000000</td>\n",
       "      <td>25.000000</td>\n",
       "      <td>250000.000000</td>\n",
       "    </tr>\n",
       "  </tbody>\n",
       "</table>\n",
       "</div>"
      ],
      "text/plain": [
       "              Age  Years of Experience         Salary\n",
       "count  373.000000           373.000000     373.000000\n",
       "mean    37.431635            10.013405  100577.345845\n",
       "std      7.069073             6.580546   48240.013482\n",
       "min     23.000000             0.000000     350.000000\n",
       "25%     31.000000             4.000000   55000.000000\n",
       "50%     36.000000             9.000000   95000.000000\n",
       "75%     44.000000            15.000000  140000.000000\n",
       "max     53.000000            25.000000  250000.000000"
      ]
     },
     "execution_count": 21,
     "metadata": {},
     "output_type": "execute_result"
    }
   ],
   "source": [
    "insured.describe()"
   ]
  },
  {
   "cell_type": "code",
   "execution_count": 22,
   "metadata": {
    "colab": {
     "base_uri": "https://localhost:8080/",
     "height": 423
    },
    "id": "cofWaT7DfrwL",
    "outputId": "25e047fe-63b7-417a-c2a4-ddef8fd7caab"
   },
   "outputs": [
    {
     "data": {
      "text/html": [
       "<div>\n",
       "<style scoped>\n",
       "    .dataframe tbody tr th:only-of-type {\n",
       "        vertical-align: middle;\n",
       "    }\n",
       "\n",
       "    .dataframe tbody tr th {\n",
       "        vertical-align: top;\n",
       "    }\n",
       "\n",
       "    .dataframe thead th {\n",
       "        text-align: right;\n",
       "    }\n",
       "</style>\n",
       "<table border=\"1\" class=\"dataframe\">\n",
       "  <thead>\n",
       "    <tr style=\"text-align: right;\">\n",
       "      <th></th>\n",
       "      <th>Gender</th>\n",
       "      <th>Education Level</th>\n",
       "      <th>Job Title</th>\n",
       "    </tr>\n",
       "  </thead>\n",
       "  <tbody>\n",
       "    <tr>\n",
       "      <th>0</th>\n",
       "      <td>Male</td>\n",
       "      <td>Bachelor's</td>\n",
       "      <td>Software Engineer</td>\n",
       "    </tr>\n",
       "    <tr>\n",
       "      <th>1</th>\n",
       "      <td>Female</td>\n",
       "      <td>Master's</td>\n",
       "      <td>Data Analyst</td>\n",
       "    </tr>\n",
       "    <tr>\n",
       "      <th>2</th>\n",
       "      <td>Male</td>\n",
       "      <td>PhD</td>\n",
       "      <td>Senior Manager</td>\n",
       "    </tr>\n",
       "    <tr>\n",
       "      <th>3</th>\n",
       "      <td>Female</td>\n",
       "      <td>Bachelor's</td>\n",
       "      <td>Sales Associate</td>\n",
       "    </tr>\n",
       "    <tr>\n",
       "      <th>4</th>\n",
       "      <td>Male</td>\n",
       "      <td>Master's</td>\n",
       "      <td>Director</td>\n",
       "    </tr>\n",
       "    <tr>\n",
       "      <th>...</th>\n",
       "      <td>...</td>\n",
       "      <td>...</td>\n",
       "      <td>...</td>\n",
       "    </tr>\n",
       "    <tr>\n",
       "      <th>370</th>\n",
       "      <td>Female</td>\n",
       "      <td>Bachelor's</td>\n",
       "      <td>Senior Marketing Analyst</td>\n",
       "    </tr>\n",
       "    <tr>\n",
       "      <th>371</th>\n",
       "      <td>Male</td>\n",
       "      <td>Master's</td>\n",
       "      <td>Director of Operations</td>\n",
       "    </tr>\n",
       "    <tr>\n",
       "      <th>372</th>\n",
       "      <td>Female</td>\n",
       "      <td>Bachelor's</td>\n",
       "      <td>Junior Project Manager</td>\n",
       "    </tr>\n",
       "    <tr>\n",
       "      <th>373</th>\n",
       "      <td>Male</td>\n",
       "      <td>Bachelor's</td>\n",
       "      <td>Senior Operations Coordinator</td>\n",
       "    </tr>\n",
       "    <tr>\n",
       "      <th>374</th>\n",
       "      <td>Female</td>\n",
       "      <td>PhD</td>\n",
       "      <td>Senior Business Analyst</td>\n",
       "    </tr>\n",
       "  </tbody>\n",
       "</table>\n",
       "<p>373 rows × 3 columns</p>\n",
       "</div>"
      ],
      "text/plain": [
       "     Gender Education Level                      Job Title\n",
       "0      Male      Bachelor's              Software Engineer\n",
       "1    Female        Master's                   Data Analyst\n",
       "2      Male             PhD                 Senior Manager\n",
       "3    Female      Bachelor's                Sales Associate\n",
       "4      Male        Master's                       Director\n",
       "..      ...             ...                            ...\n",
       "370  Female      Bachelor's       Senior Marketing Analyst\n",
       "371    Male        Master's         Director of Operations\n",
       "372  Female      Bachelor's         Junior Project Manager\n",
       "373    Male      Bachelor's  Senior Operations Coordinator\n",
       "374  Female             PhD        Senior Business Analyst\n",
       "\n",
       "[373 rows x 3 columns]"
      ]
     },
     "execution_count": 22,
     "metadata": {},
     "output_type": "execute_result"
    }
   ],
   "source": [
    "# It fetch only category data from dataframe.\n",
    "\n",
    "insured.select_dtypes(['category'])"
   ]
  },
  {
   "cell_type": "code",
   "execution_count": 23,
   "metadata": {
    "colab": {
     "base_uri": "https://localhost:8080/"
    },
    "id": "QWtznUY-Avul",
    "outputId": "9875d253-bfe6-4023-fc89-b3034e709613"
   },
   "outputs": [
    {
     "data": {
      "text/plain": [
       "Index(['Gender', 'Education Level', 'Job Title'], dtype='object')"
      ]
     },
     "execution_count": 23,
     "metadata": {},
     "output_type": "execute_result"
    }
   ],
   "source": [
    "insured.select_dtypes(['category']).columns"
   ]
  },
  {
   "cell_type": "code",
   "execution_count": 24,
   "metadata": {
    "colab": {
     "base_uri": "https://localhost:8080/",
     "height": 423
    },
    "id": "3RjAtXTOpMAN",
    "outputId": "ee82f3ef-0f5b-4932-994f-087e968b0f60"
   },
   "outputs": [
    {
     "data": {
      "text/html": [
       "<div>\n",
       "<style scoped>\n",
       "    .dataframe tbody tr th:only-of-type {\n",
       "        vertical-align: middle;\n",
       "    }\n",
       "\n",
       "    .dataframe tbody tr th {\n",
       "        vertical-align: top;\n",
       "    }\n",
       "\n",
       "    .dataframe thead th {\n",
       "        text-align: right;\n",
       "    }\n",
       "</style>\n",
       "<table border=\"1\" class=\"dataframe\">\n",
       "  <thead>\n",
       "    <tr style=\"text-align: right;\">\n",
       "      <th></th>\n",
       "      <th>Age</th>\n",
       "      <th>Years of Experience</th>\n",
       "      <th>Salary</th>\n",
       "    </tr>\n",
       "  </thead>\n",
       "  <tbody>\n",
       "    <tr>\n",
       "      <th>0</th>\n",
       "      <td>32</td>\n",
       "      <td>5</td>\n",
       "      <td>90000</td>\n",
       "    </tr>\n",
       "    <tr>\n",
       "      <th>1</th>\n",
       "      <td>28</td>\n",
       "      <td>3</td>\n",
       "      <td>65000</td>\n",
       "    </tr>\n",
       "    <tr>\n",
       "      <th>2</th>\n",
       "      <td>45</td>\n",
       "      <td>15</td>\n",
       "      <td>150000</td>\n",
       "    </tr>\n",
       "    <tr>\n",
       "      <th>3</th>\n",
       "      <td>36</td>\n",
       "      <td>7</td>\n",
       "      <td>60000</td>\n",
       "    </tr>\n",
       "    <tr>\n",
       "      <th>4</th>\n",
       "      <td>52</td>\n",
       "      <td>20</td>\n",
       "      <td>200000</td>\n",
       "    </tr>\n",
       "    <tr>\n",
       "      <th>...</th>\n",
       "      <td>...</td>\n",
       "      <td>...</td>\n",
       "      <td>...</td>\n",
       "    </tr>\n",
       "    <tr>\n",
       "      <th>370</th>\n",
       "      <td>35</td>\n",
       "      <td>8</td>\n",
       "      <td>85000</td>\n",
       "    </tr>\n",
       "    <tr>\n",
       "      <th>371</th>\n",
       "      <td>43</td>\n",
       "      <td>19</td>\n",
       "      <td>170000</td>\n",
       "    </tr>\n",
       "    <tr>\n",
       "      <th>372</th>\n",
       "      <td>29</td>\n",
       "      <td>2</td>\n",
       "      <td>40000</td>\n",
       "    </tr>\n",
       "    <tr>\n",
       "      <th>373</th>\n",
       "      <td>34</td>\n",
       "      <td>7</td>\n",
       "      <td>90000</td>\n",
       "    </tr>\n",
       "    <tr>\n",
       "      <th>374</th>\n",
       "      <td>44</td>\n",
       "      <td>15</td>\n",
       "      <td>150000</td>\n",
       "    </tr>\n",
       "  </tbody>\n",
       "</table>\n",
       "<p>373 rows × 3 columns</p>\n",
       "</div>"
      ],
      "text/plain": [
       "     Age  Years of Experience  Salary\n",
       "0     32                    5   90000\n",
       "1     28                    3   65000\n",
       "2     45                   15  150000\n",
       "3     36                    7   60000\n",
       "4     52                   20  200000\n",
       "..   ...                  ...     ...\n",
       "370   35                    8   85000\n",
       "371   43                   19  170000\n",
       "372   29                    2   40000\n",
       "373   34                    7   90000\n",
       "374   44                   15  150000\n",
       "\n",
       "[373 rows x 3 columns]"
      ]
     },
     "execution_count": 24,
     "metadata": {},
     "output_type": "execute_result"
    }
   ],
   "source": [
    "insured.select_dtypes(['int'])"
   ]
  },
  {
   "cell_type": "code",
   "execution_count": 25,
   "metadata": {
    "colab": {
     "base_uri": "https://localhost:8080/"
    },
    "id": "SMhEEZRtBRK-",
    "outputId": "c6543d32-8feb-4183-fdc3-fd814895eb26"
   },
   "outputs": [
    {
     "data": {
      "text/plain": [
       "Index(['Age', 'Years of Experience', 'Salary'], dtype='object')"
      ]
     },
     "execution_count": 25,
     "metadata": {},
     "output_type": "execute_result"
    }
   ],
   "source": [
    "insured.select_dtypes(['int']).columns"
   ]
  },
  {
   "cell_type": "code",
   "execution_count": 26,
   "metadata": {
    "colab": {
     "base_uri": "https://localhost:8080/",
     "height": 423
    },
    "id": "nGK_-jC23lgu",
    "outputId": "333bc162-13c4-4d5f-a229-6de0e39c853a"
   },
   "outputs": [
    {
     "data": {
      "text/html": [
       "<div>\n",
       "<style scoped>\n",
       "    .dataframe tbody tr th:only-of-type {\n",
       "        vertical-align: middle;\n",
       "    }\n",
       "\n",
       "    .dataframe tbody tr th {\n",
       "        vertical-align: top;\n",
       "    }\n",
       "\n",
       "    .dataframe thead th {\n",
       "        text-align: right;\n",
       "    }\n",
       "</style>\n",
       "<table border=\"1\" class=\"dataframe\">\n",
       "  <thead>\n",
       "    <tr style=\"text-align: right;\">\n",
       "      <th></th>\n",
       "      <th>Gender</th>\n",
       "      <th>Education Level</th>\n",
       "      <th>Job Title</th>\n",
       "    </tr>\n",
       "  </thead>\n",
       "  <tbody>\n",
       "    <tr>\n",
       "      <th>0</th>\n",
       "      <td>Male</td>\n",
       "      <td>Bachelor's</td>\n",
       "      <td>Software Engineer</td>\n",
       "    </tr>\n",
       "    <tr>\n",
       "      <th>1</th>\n",
       "      <td>Female</td>\n",
       "      <td>Master's</td>\n",
       "      <td>Data Analyst</td>\n",
       "    </tr>\n",
       "    <tr>\n",
       "      <th>2</th>\n",
       "      <td>Male</td>\n",
       "      <td>PhD</td>\n",
       "      <td>Senior Manager</td>\n",
       "    </tr>\n",
       "    <tr>\n",
       "      <th>3</th>\n",
       "      <td>Female</td>\n",
       "      <td>Bachelor's</td>\n",
       "      <td>Sales Associate</td>\n",
       "    </tr>\n",
       "    <tr>\n",
       "      <th>4</th>\n",
       "      <td>Male</td>\n",
       "      <td>Master's</td>\n",
       "      <td>Director</td>\n",
       "    </tr>\n",
       "    <tr>\n",
       "      <th>...</th>\n",
       "      <td>...</td>\n",
       "      <td>...</td>\n",
       "      <td>...</td>\n",
       "    </tr>\n",
       "    <tr>\n",
       "      <th>370</th>\n",
       "      <td>Female</td>\n",
       "      <td>Bachelor's</td>\n",
       "      <td>Senior Marketing Analyst</td>\n",
       "    </tr>\n",
       "    <tr>\n",
       "      <th>371</th>\n",
       "      <td>Male</td>\n",
       "      <td>Master's</td>\n",
       "      <td>Director of Operations</td>\n",
       "    </tr>\n",
       "    <tr>\n",
       "      <th>372</th>\n",
       "      <td>Female</td>\n",
       "      <td>Bachelor's</td>\n",
       "      <td>Junior Project Manager</td>\n",
       "    </tr>\n",
       "    <tr>\n",
       "      <th>373</th>\n",
       "      <td>Male</td>\n",
       "      <td>Bachelor's</td>\n",
       "      <td>Senior Operations Coordinator</td>\n",
       "    </tr>\n",
       "    <tr>\n",
       "      <th>374</th>\n",
       "      <td>Female</td>\n",
       "      <td>PhD</td>\n",
       "      <td>Senior Business Analyst</td>\n",
       "    </tr>\n",
       "  </tbody>\n",
       "</table>\n",
       "<p>373 rows × 3 columns</p>\n",
       "</div>"
      ],
      "text/plain": [
       "     Gender Education Level                      Job Title\n",
       "0      Male      Bachelor's              Software Engineer\n",
       "1    Female        Master's                   Data Analyst\n",
       "2      Male             PhD                 Senior Manager\n",
       "3    Female      Bachelor's                Sales Associate\n",
       "4      Male        Master's                       Director\n",
       "..      ...             ...                            ...\n",
       "370  Female      Bachelor's       Senior Marketing Analyst\n",
       "371    Male        Master's         Director of Operations\n",
       "372  Female      Bachelor's         Junior Project Manager\n",
       "373    Male      Bachelor's  Senior Operations Coordinator\n",
       "374  Female             PhD        Senior Business Analyst\n",
       "\n",
       "[373 rows x 3 columns]"
      ]
     },
     "execution_count": 26,
     "metadata": {},
     "output_type": "execute_result"
    }
   ],
   "source": [
    "# get counts of unique observations for each category variable\n",
    "# It fetch row data of the columns that is category dtype.\n",
    "\n",
    "list_col=  insured[insured.select_dtypes(['category']).columns]\n",
    "list_col"
   ]
  },
  {
   "cell_type": "code",
   "execution_count": 27,
   "metadata": {
    "colab": {
     "base_uri": "https://localhost:8080/",
     "height": 423
    },
    "id": "gbp0XB0Dp9ZT",
    "outputId": "2c180d7e-d536-4e55-8d3f-3f4123f950d2"
   },
   "outputs": [
    {
     "data": {
      "text/html": [
       "<div>\n",
       "<style scoped>\n",
       "    .dataframe tbody tr th:only-of-type {\n",
       "        vertical-align: middle;\n",
       "    }\n",
       "\n",
       "    .dataframe tbody tr th {\n",
       "        vertical-align: top;\n",
       "    }\n",
       "\n",
       "    .dataframe thead th {\n",
       "        text-align: right;\n",
       "    }\n",
       "</style>\n",
       "<table border=\"1\" class=\"dataframe\">\n",
       "  <thead>\n",
       "    <tr style=\"text-align: right;\">\n",
       "      <th></th>\n",
       "      <th>Age</th>\n",
       "      <th>Years of Experience</th>\n",
       "      <th>Salary</th>\n",
       "    </tr>\n",
       "  </thead>\n",
       "  <tbody>\n",
       "    <tr>\n",
       "      <th>0</th>\n",
       "      <td>32</td>\n",
       "      <td>5</td>\n",
       "      <td>90000</td>\n",
       "    </tr>\n",
       "    <tr>\n",
       "      <th>1</th>\n",
       "      <td>28</td>\n",
       "      <td>3</td>\n",
       "      <td>65000</td>\n",
       "    </tr>\n",
       "    <tr>\n",
       "      <th>2</th>\n",
       "      <td>45</td>\n",
       "      <td>15</td>\n",
       "      <td>150000</td>\n",
       "    </tr>\n",
       "    <tr>\n",
       "      <th>3</th>\n",
       "      <td>36</td>\n",
       "      <td>7</td>\n",
       "      <td>60000</td>\n",
       "    </tr>\n",
       "    <tr>\n",
       "      <th>4</th>\n",
       "      <td>52</td>\n",
       "      <td>20</td>\n",
       "      <td>200000</td>\n",
       "    </tr>\n",
       "    <tr>\n",
       "      <th>...</th>\n",
       "      <td>...</td>\n",
       "      <td>...</td>\n",
       "      <td>...</td>\n",
       "    </tr>\n",
       "    <tr>\n",
       "      <th>370</th>\n",
       "      <td>35</td>\n",
       "      <td>8</td>\n",
       "      <td>85000</td>\n",
       "    </tr>\n",
       "    <tr>\n",
       "      <th>371</th>\n",
       "      <td>43</td>\n",
       "      <td>19</td>\n",
       "      <td>170000</td>\n",
       "    </tr>\n",
       "    <tr>\n",
       "      <th>372</th>\n",
       "      <td>29</td>\n",
       "      <td>2</td>\n",
       "      <td>40000</td>\n",
       "    </tr>\n",
       "    <tr>\n",
       "      <th>373</th>\n",
       "      <td>34</td>\n",
       "      <td>7</td>\n",
       "      <td>90000</td>\n",
       "    </tr>\n",
       "    <tr>\n",
       "      <th>374</th>\n",
       "      <td>44</td>\n",
       "      <td>15</td>\n",
       "      <td>150000</td>\n",
       "    </tr>\n",
       "  </tbody>\n",
       "</table>\n",
       "<p>373 rows × 3 columns</p>\n",
       "</div>"
      ],
      "text/plain": [
       "     Age  Years of Experience  Salary\n",
       "0     32                    5   90000\n",
       "1     28                    3   65000\n",
       "2     45                   15  150000\n",
       "3     36                    7   60000\n",
       "4     52                   20  200000\n",
       "..   ...                  ...     ...\n",
       "370   35                    8   85000\n",
       "371   43                   19  170000\n",
       "372   29                    2   40000\n",
       "373   34                    7   90000\n",
       "374   44                   15  150000\n",
       "\n",
       "[373 rows x 3 columns]"
      ]
     },
     "execution_count": 27,
     "metadata": {},
     "output_type": "execute_result"
    }
   ],
   "source": [
    "# get counts of unique observations for each category variable\n",
    "\n",
    "list_col=  insured[insured.select_dtypes(['int']).columns]\n",
    "list_col"
   ]
  },
  {
   "cell_type": "code",
   "execution_count": 28,
   "metadata": {
    "id": "O7Ci41bRf7ND"
   },
   "outputs": [],
   "source": [
    "# Count data"
   ]
  },
  {
   "cell_type": "code",
   "execution_count": 29,
   "metadata": {
    "colab": {
     "base_uri": "https://localhost:8080/",
     "height": 178
    },
    "id": "a6IGcU95t-MB",
    "outputId": "182c34bd-3c07-490b-e210-7e8ff4e6f4b9"
   },
   "outputs": [
    {
     "data": {
      "text/plain": [
       "Male      194\n",
       "Female    179\n",
       "Name: Gender, dtype: int64"
      ]
     },
     "execution_count": 29,
     "metadata": {},
     "output_type": "execute_result"
    }
   ],
   "source": [
    "insured['Gender'].value_counts()"
   ]
  },
  {
   "cell_type": "code",
   "execution_count": 30,
   "metadata": {
    "colab": {
     "base_uri": "https://localhost:8080/",
     "height": 209
    },
    "id": "udfx-lqKuKSP",
    "outputId": "a64eba8d-12e9-4870-f72b-36f81fad9f17"
   },
   "outputs": [
    {
     "data": {
      "text/plain": [
       "Bachelor's    224\n",
       "Master's       98\n",
       "PhD            51\n",
       "Name: Education Level, dtype: int64"
      ]
     },
     "execution_count": 30,
     "metadata": {},
     "output_type": "execute_result"
    }
   ],
   "source": [
    "insured['Education Level'].value_counts()"
   ]
  },
  {
   "cell_type": "code",
   "execution_count": 31,
   "metadata": {
    "colab": {
     "base_uri": "https://localhost:8080/"
    },
    "id": "24syxqE_fuTt",
    "outputId": "43bad658-c767-427e-f0cd-c60eae3a16a2"
   },
   "outputs": [
    {
     "data": {
      "text/plain": [
       "{\"Bachelor's\": 224, \"Master's\": 98, 'PhD': 51}"
      ]
     },
     "execution_count": 31,
     "metadata": {},
     "output_type": "execute_result"
    }
   ],
   "source": [
    "dict(insured['Education Level'].value_counts())"
   ]
  },
  {
   "cell_type": "code",
   "execution_count": 32,
   "metadata": {},
   "outputs": [
    {
     "data": {
      "text/plain": [
       "Age  Gender  Education Level  Job Title                      Years of Experience  Salary\n",
       "35   Female  Bachelor's       Senior Marketing Analyst       8                    85000     6\n",
       "38   Female  Bachelor's       Senior Business Analyst        10                   110000    3\n",
       "34   Male    Bachelor's       Senior Operations Coordinator  7                    90000     3\n",
       "44   Female  PhD              Senior Business Analyst        15                   150000    3\n",
       "45   Male    PhD              Senior Data Engineer           16                   150000    2\n",
       "                                                                                           ..\n",
       "38   Female  Master's         Public Relations Manager       10                   90000     1\n",
       "     Male    Bachelor's       Customer Service Manager       11                   80000     1\n",
       "             PhD              Senior Scientist               10                   110000    1\n",
       "                                                             11                   120000    1\n",
       "53   Male    Master's         Director of Marketing          25                   180000    1\n",
       "Length: 224, dtype: int64"
      ]
     },
     "execution_count": 32,
     "metadata": {},
     "output_type": "execute_result"
    }
   ],
   "source": [
    "insured[insured['Salary']> 60000].value_counts()"
   ]
  },
  {
   "cell_type": "code",
   "execution_count": 33,
   "metadata": {},
   "outputs": [
    {
     "data": {
      "text/plain": [
       "260"
      ]
     },
     "execution_count": 33,
     "metadata": {},
     "output_type": "execute_result"
    }
   ],
   "source": [
    "insured1 = insured[insured['Salary']> 60000]['Salary']\n",
    "insured1.value_counts().sum()"
   ]
  },
  {
   "cell_type": "code",
   "execution_count": 34,
   "metadata": {
    "colab": {
     "base_uri": "https://localhost:8080/",
     "height": 489
    },
    "id": "PGOvXCNQuTi8",
    "outputId": "dc12c8ca-e187-4b24-9671-88723ba27cc5"
   },
   "outputs": [
    {
     "data": {
      "text/plain": [
       "Director of Marketing                 12\n",
       "Director of Operations                11\n",
       "Senior Business Analyst               10\n",
       "Senior Marketing Analyst               9\n",
       "Senior Marketing Manager               9\n",
       "                                      ..\n",
       "Junior Designer                        1\n",
       "Junior Data Scientist                  1\n",
       "Junior Data Analyst                    1\n",
       "Junior Customer Support Specialist     1\n",
       "Web Developer                          1\n",
       "Name: Job Title, Length: 174, dtype: int64"
      ]
     },
     "execution_count": 34,
     "metadata": {},
     "output_type": "execute_result"
    }
   ],
   "source": [
    "insured['Job Title'].value_counts()"
   ]
  },
  {
   "cell_type": "code",
   "execution_count": 35,
   "metadata": {
    "colab": {
     "base_uri": "https://localhost:8080/"
    },
    "id": "v0AiSSF6t4l7",
    "outputId": "ad3c5243-b558-4f85-b97c-321f0838e612"
   },
   "outputs": [
    {
     "data": {
      "text/plain": [
       "[{'Male': 194, 'Female': 179},\n",
       " {\"Bachelor's\": 224, \"Master's\": 98, 'PhD': 51},\n",
       " {'Director of Marketing': 12,\n",
       "  'Director of Operations': 11,\n",
       "  'Senior Business Analyst': 10,\n",
       "  'Senior Marketing Analyst': 9,\n",
       "  'Senior Marketing Manager': 9,\n",
       "  'Junior Business Analyst': 8,\n",
       "  'Junior Financial Analyst': 7,\n",
       "  'Senior Project Manager': 7,\n",
       "  'Junior Business Development Associate': 7,\n",
       "  'Senior Financial Analyst': 7,\n",
       "  'Senior Data Scientist': 7,\n",
       "  'Senior Product Manager': 6,\n",
       "  'Senior Software Engineer': 6,\n",
       "  'Junior Marketing Coordinator': 6,\n",
       "  'Senior Financial Manager': 5,\n",
       "  'Senior Product Designer': 5,\n",
       "  'Senior Operations Manager': 5,\n",
       "  'Junior Marketing Specialist': 5,\n",
       "  'Junior Operations Analyst': 5,\n",
       "  'Junior Project Manager': 5,\n",
       "  'Senior Project Coordinator': 5,\n",
       "  'Senior Data Engineer': 4,\n",
       "  'Senior Marketing Specialist': 4,\n",
       "  'Senior Operations Coordinator': 4,\n",
       "  'Senior Business Development Manager': 4,\n",
       "  'Junior Product Manager': 4,\n",
       "  'Junior Sales Representative': 4,\n",
       "  'Junior Marketing Analyst': 3,\n",
       "  'Junior Marketing Manager': 3,\n",
       "  'Junior Accountant': 3,\n",
       "  'Senior Marketing Coordinator': 3,\n",
       "  'Junior Operations Manager': 3,\n",
       "  'Marketing Coordinator': 3,\n",
       "  'Senior HR Manager': 3,\n",
       "  'Senior Software Developer': 3,\n",
       "  'Sales Manager': 3,\n",
       "  'Senior UX Designer': 3,\n",
       "  'Senior Data Analyst': 3,\n",
       "  'Senior Scientist': 3,\n",
       "  'Senior Financial Advisor': 3,\n",
       "  'Senior Accountant': 2,\n",
       "  'Sales Associate': 2,\n",
       "  'Business Analyst': 2,\n",
       "  'Recruiter': 2,\n",
       "  'Senior Engineer': 2,\n",
       "  'Customer Service Manager': 2,\n",
       "  'Project Manager': 2,\n",
       "  'Senior Manager': 2,\n",
       "  'Junior HR Generalist': 2,\n",
       "  'Junior HR Coordinator': 2,\n",
       "  'Administrative Assistant': 2,\n",
       "  'Product Manager': 2,\n",
       "  'Senior Human Resources Manager': 2,\n",
       "  'Data Analyst': 2,\n",
       "  'Event Coordinator': 2,\n",
       "  'Senior Operations Analyst': 2,\n",
       "  'Senior Sales Representative': 2,\n",
       "  'Junior Account Manager': 2,\n",
       "  'Senior Sales Manager': 2,\n",
       "  'Junior Software Developer': 2,\n",
       "  'HR Generalist': 2,\n",
       "  'HR Manager': 2,\n",
       "  'Director of Human Resources': 2,\n",
       "  'Senior IT Consultant': 2,\n",
       "  'Director of Finance': 2,\n",
       "  'Marketing Analyst': 2,\n",
       "  'Director of Engineering': 2,\n",
       "  'Junior Business Operations Analyst': 2,\n",
       "  'Operations Manager': 2,\n",
       "  'Senior Consultant': 1,\n",
       "  'Senior Human Resources Coordinator': 1,\n",
       "  'Senior HR Specialist': 1,\n",
       "  'Senior Account Manager': 1,\n",
       "  'Senior HR Generalist': 1,\n",
       "  'Senior Human Resources Specialist': 1,\n",
       "  'Senior Graphic Designer': 1,\n",
       "  'Account Manager': 1,\n",
       "  'Senior IT Project Manager': 1,\n",
       "  'Software Manager': 1,\n",
       "  'VP of Operations': 1,\n",
       "  'VP of Finance': 1,\n",
       "  'UX Researcher': 1,\n",
       "  'UX Designer': 1,\n",
       "  'Training Specialist': 1,\n",
       "  'Technical Writer': 1,\n",
       "  'Technical Support Specialist': 1,\n",
       "  'Technical Recruiter': 1,\n",
       "  'Supply Chain Manager': 1,\n",
       "  'Supply Chain Analyst': 1,\n",
       "  'Strategy Consultant': 1,\n",
       "  'Software Project Manager': 1,\n",
       "  'Software Engineer': 1,\n",
       "  'Senior IT Support Specialist': 1,\n",
       "  'Software Developer': 1,\n",
       "  'Social Media Specialist': 1,\n",
       "  'Social Media Manager': 1,\n",
       "  'Senior Training Specialist': 1,\n",
       "  'Senior Software Architect': 1,\n",
       "  'Senior Researcher': 1,\n",
       "  'Senior Research Scientist': 1,\n",
       "  'Senior Quality Assurance Analyst': 1,\n",
       "  'Senior Product Marketing Manager': 1,\n",
       "  'Senior Product Development Manager': 1,\n",
       "  'Sales Representative': 1,\n",
       "  'Senior Marketing Director': 1,\n",
       "  'Senior Account Executive': 1,\n",
       "  'Operations Analyst': 1,\n",
       "  'Sales Operations Manager': 1,\n",
       "  'Digital Marketing Manager': 1,\n",
       "  'IT Manager': 1,\n",
       "  'Human Resources Director': 1,\n",
       "  'Help Desk Analyst': 1,\n",
       "  'Graphic Designer': 1,\n",
       "  'Financial Manager': 1,\n",
       "  'Financial Analyst': 1,\n",
       "  'Financial Advisor': 1,\n",
       "  'Director of Sales and Marketing': 1,\n",
       "  'Director of Sales': 1,\n",
       "  'Director of Product Management': 1,\n",
       "  'Director of Human Capital': 1,\n",
       "  'Director of HR': 1,\n",
       "  'Director of Business Development': 1,\n",
       "  'Director': 1,\n",
       "  'Digital Content Producer': 1,\n",
       "  'IT Support Specialist': 1,\n",
       "  'Data Scientist': 1,\n",
       "  'Data Entry Clerk': 1,\n",
       "  'Customer Success Rep': 1,\n",
       "  'Customer Success Manager': 1,\n",
       "  'Customer Service Representative': 1,\n",
       "  'Customer Service Rep': 1,\n",
       "  'Creative Director': 1,\n",
       "  'Copywriter': 1,\n",
       "  'Content Marketing Manager': 1,\n",
       "  'Chief Technology Officer': 1,\n",
       "  'Chief Data Officer': 1,\n",
       "  'CEO': 1,\n",
       "  'Business Intelligence Analyst': 1,\n",
       "  'Business Development Manager': 1,\n",
       "  'IT Support': 1,\n",
       "  'Junior Advertising Coordinator': 1,\n",
       "  'Sales Executive': 1,\n",
       "  'Marketing Manager': 1,\n",
       "  'Sales Director': 1,\n",
       "  'Research Scientist': 1,\n",
       "  'Research Director': 1,\n",
       "  'Public Relations Manager': 1,\n",
       "  'Project Engineer': 1,\n",
       "  'Product Marketing Manager': 1,\n",
       "  'Product Designer': 1,\n",
       "  'Principal Scientist': 1,\n",
       "  'Principal Engineer': 1,\n",
       "  'Operations Director': 1,\n",
       "  'Accountant': 1,\n",
       "  'Office Manager': 1,\n",
       "  'Network Engineer': 1,\n",
       "  'Marketing Specialist': 1,\n",
       "  'Junior Web Developer': 1,\n",
       "  'Junior Copywriter': 1,\n",
       "  'Junior Web Designer': 1,\n",
       "  'Junior UX Designer': 1,\n",
       "  'Junior Software Engineer': 1,\n",
       "  'Junior Social Media Specialist': 1,\n",
       "  'Junior Social Media Manager': 1,\n",
       "  'Junior Research Scientist': 1,\n",
       "  'Junior Recruiter': 1,\n",
       "  'Junior Operations Coordinator': 1,\n",
       "  'Junior Financial Advisor': 1,\n",
       "  'Junior Developer': 1,\n",
       "  'Junior Designer': 1,\n",
       "  'Junior Data Scientist': 1,\n",
       "  'Junior Data Analyst': 1,\n",
       "  'Junior Customer Support Specialist': 1,\n",
       "  'Web Developer': 1}]"
      ]
     },
     "execution_count": 35,
     "metadata": {},
     "output_type": "execute_result"
    }
   ],
   "source": [
    "cat_data = []\n",
    "list_col = insured.select_dtypes(['category']).columns\n",
    "list_col\n",
    "for i in range(len(list_col)):\n",
    "    cat_data.append(dict(insured[list_col[i]].value_counts()))\n",
    "cat_data"
   ]
  },
  {
   "cell_type": "code",
   "execution_count": 36,
   "metadata": {},
   "outputs": [],
   "source": [
    "# Exploratory Data Analysis"
   ]
  },
  {
   "cell_type": "code",
   "execution_count": 37,
   "metadata": {},
   "outputs": [],
   "source": [
    "# Univariate Analysis"
   ]
  },
  {
   "cell_type": "code",
   "execution_count": 38,
   "metadata": {
    "id": "6hgoyrqKU9Qc"
   },
   "outputs": [],
   "source": [
    "# # Function to create barplots that indicate percentage for each category.\n",
    "\n",
    "def bar_perc(plot, feature):\n",
    "    total = len(feature) # length of the column\n",
    "    for p in plot.patches:\n",
    "        percentage = '{:.1f}%'.format(100 * p.get_height()/total) # percentage of each class of the category\n",
    "        x = p.get_x() + p.get_width() / 2 - 0.05 # width of the plot\n",
    "        y = p.get_y() + p.get_height()           # hieght of the plot\n",
    "        plot.annotate(percentage, (x, y), size = 12) # annotate the percentage"
   ]
  },
  {
   "cell_type": "code",
   "execution_count": 39,
   "metadata": {
    "colab": {
     "base_uri": "https://localhost:8080/"
    },
    "id": "yhpxH5Yu_oh-",
    "outputId": "34f388ba-8571-4f6a-97d3-f7981a532c8c"
   },
   "outputs": [
    {
     "data": {
      "text/plain": [
       "179"
      ]
     },
     "execution_count": 39,
     "metadata": {},
     "output_type": "execute_result"
    }
   ],
   "source": [
    "len(insured[insured['Gender'] == 'Female'])"
   ]
  },
  {
   "cell_type": "code",
   "execution_count": 40,
   "metadata": {
    "colab": {
     "base_uri": "https://localhost:8080/",
     "height": 434
    },
    "id": "i6fvXpAufvMc",
    "outputId": "a513a4b3-aa2b-4d28-ba47-4677c8826fdb"
   },
   "outputs": [
    {
     "data": {
      "image/png": "[encoded data removed]",
      "text/plain": [
       "<Figure size 432x288 with 1 Axes>"
      ]
     },
     "metadata": {},
     "output_type": "display_data"
    }
   ],
   "source": [
    "no_of_male = len(insured[insured['Gender'] == 'Male'])\n",
    "no_of_female = len(insured[insured['Gender'] == 'Female'])\n",
    "\n",
    "plt.bar(['Male','Female'],[no_of_male,no_of_female],color = ['r','g'],label = ['Male','Female'])\n",
    "plt.legend()\n",
    "plt.show()"
   ]
  },
  {
   "cell_type": "code",
   "execution_count": 41,
   "metadata": {
    "colab": {
     "base_uri": "https://localhost:8080/",
     "height": 451
    },
    "id": "pUlWNd12BZAe",
    "outputId": "e62220d4-c092-433d-9d7f-2794944ed67e"
   },
   "outputs": [
    {
     "name": "stdout",
     "output_type": "stream",
     "text": [
      "{'Male': 194, 'Female': 179}\n"
     ]
    },
    {
     "data": {
      "image/png": "[encoded data removed]",
      "text/plain": [
       "<Figure size 432x288 with 1 Axes>"
      ]
     },
     "metadata": {},
     "output_type": "display_data"
    }
   ],
   "source": [
    "plot_data = dict(insured['Gender'].value_counts())\n",
    "print(plot_data)\n",
    "plt.bar(['Male','Female'],[plot_data['Male'],plot_data['Female']],color = ['r','g'],label = ['Male','Female'])\n",
    "plt.legend()\n",
    "plt.show()"
   ]
  },
  {
   "cell_type": "code",
   "execution_count": 42,
   "metadata": {
    "colab": {
     "base_uri": "https://localhost:8080/",
     "height": 515
    },
    "id": "GqfPRC1zCK2T",
    "outputId": "8740d6db-9b98-4cc6-85e5-33c0298f660d"
   },
   "outputs": [
    {
     "data": {
      "text/plain": [
       "<AxesSubplot:>"
      ]
     },
     "execution_count": 42,
     "metadata": {},
     "output_type": "execute_result"
    },
    {
     "data": {
      "image/png": "[encoded data removed]",
      "text/plain": [
       "<Figure size 432x288 with 1 Axes>"
      ]
     },
     "metadata": {},
     "output_type": "display_data"
    }
   ],
   "source": [
    "insured['Gender'].value_counts().plot.bar()"
   ]
  },
  {
   "cell_type": "code",
   "execution_count": 43,
   "metadata": {
    "colab": {
     "base_uri": "https://localhost:8080/",
     "height": 423
    },
    "id": "QN6xOzfVr8tH",
    "outputId": "a43d7c73-372d-4b94-9f77-964d3191445f"
   },
   "outputs": [
    {
     "data": {
      "text/plain": [
       "<AxesSubplot:ylabel='Gender'>"
      ]
     },
     "execution_count": 43,
     "metadata": {},
     "output_type": "execute_result"
    },
    {
     "data": {
      "image/png": "[encoded data removed]",
      "text/plain": [
       "<Figure size 432x288 with 1 Axes>"
      ]
     },
     "metadata": {},
     "output_type": "display_data"
    }
   ],
   "source": [
    "insured['Gender'].value_counts().plot.pie()"
   ]
  },
  {
   "cell_type": "code",
   "execution_count": 44,
   "metadata": {
    "colab": {
     "base_uri": "https://localhost:8080/",
     "height": 457
    },
    "id": "TEvuOixaORAn",
    "outputId": "57af398a-f9de-4f37-8767-f44bd94629bc"
   },
   "outputs": [
    {
     "data": {
      "image/png": "[encoded data removed]",
      "text/plain": [
       "<Figure size 432x288 with 1 Axes>"
      ]
     },
     "metadata": {},
     "output_type": "display_data"
    }
   ],
   "source": [
    "#Alternet\n",
    "#for education level\n",
    "no_of_bach = len(insured[insured['Education Level'] == \"Bachelor's\"])\n",
    "no_of_mast = len(insured[insured['Education Level'] == \"Master's\"])\n",
    "no_of_phd = len(insured[insured['Education Level'] == 'PhD'])\n",
    "\n",
    "plt.bar([\"Bachelor's\",\"Master's\",\"PhD\"],[no_of_bach,no_of_mast,no_of_phd], color = ['r','g','b'], label=[\"Bachelor's\",\"Master's\",\"PhD\"])\n",
    "plt.title('No of people with Education level')\n",
    "plt.legend()\n",
    "plt.show()"
   ]
  },
  {
   "cell_type": "code",
   "execution_count": 45,
   "metadata": {
    "colab": {
     "base_uri": "https://localhost:8080/"
    },
    "id": "ii3ZOPZTi1NK",
    "outputId": "502f608a-36ef-4f40-ea68-1df3ce5aab95"
   },
   "outputs": [
    {
     "data": {
      "text/plain": [
       "dict_keys(['Male', 'Female'])"
      ]
     },
     "execution_count": 45,
     "metadata": {},
     "output_type": "execute_result"
    }
   ],
   "source": [
    "plot_data.keys()"
   ]
  },
  {
   "cell_type": "code",
   "execution_count": 46,
   "metadata": {
    "colab": {
     "base_uri": "https://localhost:8080/"
    },
    "id": "VH5jpAZ8i8j-",
    "outputId": "22988e19-f441-4d64-d235-61fb62050da0"
   },
   "outputs": [
    {
     "data": {
      "text/plain": [
       "dict_values([194, 179])"
      ]
     },
     "execution_count": 46,
     "metadata": {},
     "output_type": "execute_result"
    }
   ],
   "source": [
    "plot_data.values()"
   ]
  },
  {
   "cell_type": "code",
   "execution_count": 47,
   "metadata": {
    "colab": {
     "base_uri": "https://localhost:8080/",
     "height": 469
    },
    "id": "89OQ-5N8DCEP",
    "outputId": "7248d69b-bb7d-44df-9e5a-2163433a713f"
   },
   "outputs": [
    {
     "name": "stdout",
     "output_type": "stream",
     "text": [
      "{\"Bachelor's\": 224, \"Master's\": 98, 'PhD': 51}\n"
     ]
    },
    {
     "data": {
      "image/png": "[encoded data removed]",
      "text/plain": [
       "<Figure size 432x288 with 1 Axes>"
      ]
     },
     "metadata": {},
     "output_type": "display_data"
    },
    {
     "data": {
      "text/plain": [
       "dict_keys([\"Bachelor's\", \"Master's\", 'PhD'])"
      ]
     },
     "execution_count": 47,
     "metadata": {},
     "output_type": "execute_result"
    }
   ],
   "source": [
    "plot_data = dict(insured['Education Level'].value_counts())\n",
    "print(plot_data)\n",
    "plt.bar(plot_data.keys(),plot_data.values(),color = ['r','g','b'],label = plot_data.keys())\n",
    "plt.legend()\n",
    "plt.show()\n",
    "plot_data\n",
    "plot_data.keys()"
   ]
  },
  {
   "cell_type": "code",
   "execution_count": 48,
   "metadata": {
    "colab": {
     "base_uri": "https://localhost:8080/",
     "height": 540
    },
    "id": "9IXC-tAsGRz2",
    "outputId": "acbbbe2c-f9a2-4e2c-d8f6-56541b988681"
   },
   "outputs": [
    {
     "data": {
      "image/png": "[encoded data removed]",
      "text/plain": [
       "<Figure size 432x288 with 1 Axes>"
      ]
     },
     "metadata": {},
     "output_type": "display_data"
    }
   ],
   "source": [
    "insured['Education Level'].value_counts().plot.bar(color = ['r','g','b'])\n",
    "plt.show()"
   ]
  },
  {
   "cell_type": "code",
   "execution_count": 49,
   "metadata": {
    "colab": {
     "base_uri": "https://localhost:8080/",
     "height": 423
    },
    "id": "8sxxj0V4Sj0J",
    "outputId": "f9f2dc4e-4f57-4e65-f497-6728716de7e7"
   },
   "outputs": [
    {
     "data": {
      "image/png": "[encoded data removed]",
      "text/plain": [
       "<Figure size 432x288 with 1 Axes>"
      ]
     },
     "metadata": {},
     "output_type": "display_data"
    }
   ],
   "source": [
    "insured['Education Level'].value_counts().plot.pie(colors = ['r','g','b'])\n",
    "plt.show()"
   ]
  },
  {
   "cell_type": "code",
   "execution_count": 50,
   "metadata": {
    "colab": {
     "base_uri": "https://localhost:8080/"
    },
    "id": "R-P8lEzUjfwK",
    "outputId": "f19d16ad-bd69-4082-dbd0-a04f1b839b16"
   },
   "outputs": [
    {
     "data": {
      "text/plain": [
       "174"
      ]
     },
     "execution_count": 50,
     "metadata": {},
     "output_type": "execute_result"
    }
   ],
   "source": [
    "len(set(insured['Job Title']))"
   ]
  },
  {
   "cell_type": "code",
   "execution_count": 51,
   "metadata": {},
   "outputs": [
    {
     "data": {
      "text/plain": [
       "<AxesSubplot:>"
      ]
     },
     "execution_count": 51,
     "metadata": {},
     "output_type": "execute_result"
    },
    {
     "data": {
      "image/png": "[encoded data removed]",
      "text/plain": [
       "<Figure size 432x288 with 1 Axes>"
      ]
     },
     "metadata": {},
     "output_type": "display_data"
    }
   ],
   "source": [
    "insured['Job Title'].value_counts().plot.bar()"
   ]
  },
  {
   "cell_type": "code",
   "execution_count": null,
   "metadata": {
    "id": "mAhheE9Kgetg"
   },
   "outputs": [],
   "source": [
    "# Analyzing categorical data"
   ]
  },
  {
   "cell_type": "code",
   "execution_count": null,
   "metadata": {
    "id": "rMMxEzyKrR0o"
   },
   "outputs": [],
   "source": [
    "# list_col=  insured.select_dtypes(['category']).columns\n",
    "# print(list_col)\n",
    "# plot_data2 = dict(insured['Gender'].value_counts())\n",
    "# insured[list_col[2]].value_counts()\n",
    "\n",
    "# plot_data1 = dict(insured['Education Level'].value_counts())\n",
    "\n",
    "# plot_data3 = dict(insured['Job Title'].value_counts())\n"
   ]
  },
  {
   "cell_type": "code",
   "execution_count": null,
   "metadata": {
    "colab": {
     "base_uri": "https://localhost:8080/"
    },
    "id": "fAqIwvVJi2It",
    "outputId": "0627409c-9eb5-40b1-b173-882c1ebefa54"
   },
   "outputs": [
    {
     "name": "stdout",
     "output_type": "stream",
     "text": [
      "Index(['Gender', 'Education Level', 'Job Title'], dtype='object')\n",
      "{'Gender': [['Male', 'Female'], [194, 179]], 'Education Level': [[\"Bachelor's\", \"Master's\", 'PhD'], [224, 98, 51]], 'Job Title': [['Director of Marketing', 'Director of Operations', 'Senior Business Analyst', 'Senior Marketing Analyst', 'Senior Marketing Manager', 'Junior Business Analyst', 'Junior Financial Analyst', 'Senior Project Manager', 'Junior Business Development Associate', 'Senior Financial Analyst', 'Senior Data Scientist', 'Senior Product Manager', 'Senior Software Engineer', 'Junior Marketing Coordinator', 'Senior Financial Manager', 'Senior Product Designer', 'Senior Operations Manager', 'Junior Marketing Specialist', 'Junior Operations Analyst', 'Junior Project Manager', 'Senior Project Coordinator', 'Senior Data Engineer', 'Senior Marketing Specialist', 'Senior Operations Coordinator', 'Senior Business Development Manager', 'Junior Product Manager', 'Junior Sales Representative', 'Junior Marketing Analyst', 'Junior Marketing Manager', 'Junior Accountant', 'Senior Marketing Coordinator', 'Junior Operations Manager', 'Marketing Coordinator', 'Senior HR Manager', 'Senior Software Developer', 'Sales Manager', 'Senior UX Designer', 'Senior Data Analyst', 'Senior Scientist', 'Senior Financial Advisor', 'Senior Accountant', 'Sales Associate', 'Business Analyst', 'Recruiter', 'Senior Engineer', 'Customer Service Manager', 'Project Manager', 'Senior Manager', 'Junior HR Generalist', 'Junior HR Coordinator', 'Administrative Assistant', 'Product Manager', 'Senior Human Resources Manager', 'Data Analyst', 'Event Coordinator', 'Senior Operations Analyst', 'Senior Sales Representative', 'Junior Account Manager', 'Senior Sales Manager', 'Junior Software Developer', 'HR Generalist', 'HR Manager', 'Director of Human Resources', 'Senior IT Consultant', 'Director of Finance', 'Marketing Analyst', 'Director of Engineering', 'Junior Business Operations Analyst', 'Operations Manager', 'Senior Consultant', 'Senior Human Resources Coordinator', 'Senior HR Specialist', 'Senior Account Manager', 'Senior HR Generalist', 'Senior Human Resources Specialist', 'Senior Graphic Designer', 'Account Manager', 'Senior IT Project Manager', 'Software Manager', 'VP of Operations', 'VP of Finance', 'UX Researcher', 'UX Designer', 'Training Specialist', 'Technical Writer', 'Technical Support Specialist', 'Technical Recruiter', 'Supply Chain Manager', 'Supply Chain Analyst', 'Strategy Consultant', 'Software Project Manager', 'Software Engineer', 'Senior IT Support Specialist', 'Software Developer', 'Social Media Specialist', 'Social Media Manager', 'Senior Training Specialist', 'Senior Software Architect', 'Senior Researcher', 'Senior Research Scientist', 'Senior Quality Assurance Analyst', 'Senior Product Marketing Manager', 'Senior Product Development Manager', 'Sales Representative', 'Senior Marketing Director', 'Senior Account Executive', 'Operations Analyst', 'Sales Operations Manager', 'Digital Marketing Manager', 'IT Manager', 'Human Resources Director', 'Help Desk Analyst', 'Graphic Designer', 'Financial Manager', 'Financial Analyst', 'Financial Advisor', 'Director of Sales and Marketing', 'Director of Sales', 'Director of Product Management', 'Director of Human Capital', 'Director of HR', 'Director of Business Development', 'Director', 'Digital Content Producer', 'IT Support Specialist', 'Data Scientist', 'Data Entry Clerk', 'Customer Success Rep', 'Customer Success Manager', 'Customer Service Representative', 'Customer Service Rep', 'Creative Director', 'Copywriter', 'Content Marketing Manager', 'Chief Technology Officer', 'Chief Data Officer', 'CEO', 'Business Intelligence Analyst', 'Business Development Manager', 'IT Support', 'Junior Advertising Coordinator', 'Sales Executive', 'Marketing Manager', 'Sales Director', 'Research Scientist', 'Research Director', 'Public Relations Manager', 'Project Engineer', 'Product Marketing Manager', 'Product Designer', 'Principal Scientist', 'Principal Engineer', 'Operations Director', 'Accountant', 'Office Manager', 'Network Engineer', 'Marketing Specialist', 'Junior Web Developer', 'Junior Copywriter', 'Junior Web Designer', 'Junior UX Designer', 'Junior Software Engineer', 'Junior Social Media Specialist', 'Junior Social Media Manager', 'Junior Research Scientist', 'Junior Recruiter', 'Junior Operations Coordinator', 'Junior Financial Advisor', 'Junior Developer', 'Junior Designer', 'Junior Data Scientist', 'Junior Data Analyst', 'Junior Customer Support Specialist', 'Web Developer'], [12, 11, 10, 9, 9, 8, 7, 7, 7, 7, 7, 6, 6, 6, 5, 5, 5, 5, 5, 5, 5, 4, 4, 4, 4, 4, 4, 3, 3, 3, 3, 3, 3, 3, 3, 3, 3, 3, 3, 3, 2, 2, 2, 2, 2, 2, 2, 2, 2, 2, 2, 2, 2, 2, 2, 2, 2, 2, 2, 2, 2, 2, 2, 2, 2, 2, 2, 2, 2, 1, 1, 1, 1, 1, 1, 1, 1, 1, 1, 1, 1, 1, 1, 1, 1, 1, 1, 1, 1, 1, 1, 1, 1, 1, 1, 1, 1, 1, 1, 1, 1, 1, 1, 1, 1, 1, 1, 1, 1, 1, 1, 1, 1, 1, 1, 1, 1, 1, 1, 1, 1, 1, 1, 1, 1, 1, 1, 1, 1, 1, 1, 1, 1, 1, 1, 1, 1, 1, 1, 1, 1, 1, 1, 1, 1, 1, 1, 1, 1, 1, 1, 1, 1, 1, 1, 1, 1, 1, 1, 1, 1, 1, 1, 1, 1, 1, 1, 1, 1, 1, 1, 1, 1, 1]]}\n"
     ]
    }
   ],
   "source": [
    "data = {}\n",
    "list_col=  insured.select_dtypes(['category']).columns\n",
    "print(list_col)\n",
    "for i in range(len(list_col)):\n",
    "  values = list(insured[list_col[i]].value_counts())\n",
    "  subcategory = list(insured[list_col[i]].value_counts().index)\n",
    "  # data['x'] = values\n",
    "  data[list_col[i]] = [subcategory,values]\n",
    "#   # print(subcategory,values)\n",
    "\n",
    "print(data)"
   ]
  },
  {
   "cell_type": "code",
   "execution_count": null,
   "metadata": {
    "id": "QgW_uFlki3Qm"
   },
   "outputs": [],
   "source": [
    "# Bar Graph"
   ]
  },
  {
   "cell_type": "code",
   "execution_count": null,
   "metadata": {
    "colab": {
     "base_uri": "https://localhost:8080/",
     "height": 434
    },
    "id": "v0stAbFNjVJk",
    "outputId": "8d272211-4037-48e8-c7dd-71f5ce57fd67"
   },
   "outputs": [
    {
     "data": {
      "image/png": "[encoded data removed]",
      "text/plain": [
       "<Figure size 640x480 with 1 Axes>"
      ]
     },
     "metadata": {},
     "output_type": "display_data"
    }
   ],
   "source": [
    "plt.bar(data['Gender'][0],data['Gender'][1],label=['Male','Female'],\n",
    "        color = ['b','r'])\n",
    "plt.legend()\n",
    "plt.show()"
   ]
  },
  {
   "cell_type": "code",
   "execution_count": null,
   "metadata": {
    "id": "MCjbCgqPXr0w"
   },
   "outputs": [],
   "source": [
    "# #Alternate\n",
    "# print(data['region'])\n",
    "# plt.bar(data['region'][0],data['region'][1],\n",
    "#         label=['southeast', 'northwest', 'southwest', 'northeast'],\n",
    "#         color = ['r','b','g','k'])\n",
    "# plt.title('Region')\n",
    "# plt.legend()\n",
    "# plt.show()"
   ]
  },
  {
   "cell_type": "code",
   "execution_count": null,
   "metadata": {
    "colab": {
     "base_uri": "https://localhost:8080/",
     "height": 474
    },
    "id": "fU8KSpZVVEGB",
    "outputId": "a1686252-39e0-4ff6-dc19-cc52f648e6c9"
   },
   "outputs": [
    {
     "name": "stdout",
     "output_type": "stream",
     "text": [
      "[[\"Bachelor's\", \"Master's\", 'PhD'], [224, 98, 51]]\n"
     ]
    },
    {
     "data": {
      "image/png": "[encoded data removed]",
      "text/plain": [
       "<Figure size 640x480 with 1 Axes>"
      ]
     },
     "metadata": {},
     "output_type": "display_data"
    }
   ],
   "source": [
    "#Alternate\n",
    "print(data['Education Level'])\n",
    "plt.bar(data['Education Level'][0],data['Education Level'][1],\n",
    "        label=data['Education Level'][0],\n",
    "        color = ['g','r','b'])\n",
    "plt.title('Education level')\n",
    "plt.legend()\n",
    "plt.show()"
   ]
  }
 ],
 "metadata": {
  "colab": {
   "provenance": []
  },
  "kernelspec": {
   "display_name": "Python 3 (ipykernel)",
   "language": "python",
   "name": "python3"
  },
  "language_info": {
   "codemirror_mode": {
    "name": "ipython",
    "version": 3
   },
   "file_extension": ".py",
   "mimetype": "text/x-python",
   "name": "python",
   "nbconvert_exporter": "python",
   "pygments_lexer": "ipython3",
   "version": "3.9.12"
  }
 },
 "nbformat": 4,
 "nbformat_minor": 1
}
