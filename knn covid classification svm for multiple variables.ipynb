{
 "cells": [
  {
   "cell_type": "code",
   "execution_count": 48,
   "metadata": {
    "id": "fg-zQDPxEnst"
   },
   "outputs": [],
   "source": [
    "#Libraries\n",
    "import numpy as np\n",
    "import pandas as pd\n",
    "import matplotlib.pyplot as plt\n",
    "import seaborn as sns\n",
    "\n",
    "#Data Preprocessing\n",
    "from sklearn.model_selection import train_test_split\n",
    "from sklearn.preprocessing import StandardScaler, MinMaxScaler\n",
    "\n",
    "#Models ML\n",
    "from sklearn.svm import SVC\n",
    "#Metrics\n",
    "from sklearn.metrics import confusion_matrix,accuracy_score\n",
    "# from sklearn.metrics import mean_squared_error,r2_score\n",
    "# from sklearn.metrics import roc_curve, auc"
   ]
  },
  {
   "cell_type": "code",
   "execution_count": 49,
   "metadata": {
    "colab": {
     "base_uri": "https://localhost:8080/",
     "height": 241
    },
    "id": "vV-tg4sBJOlT",
    "outputId": "24e81857-5dea-450e-c8cf-389d1fbed93c"
   },
   "outputs": [
    {
     "name": "stderr",
     "output_type": "stream",
     "text": [
      "C:\\Users\\Rubina\\AppData\\Local\\Temp\\ipykernel_23316\\2792723377.py:1: DtypeWarning: Columns (2,3,4,5,6) have mixed types. Specify dtype option on import or set low_memory=False.\n",
      "  data = pd.read_csv('corona_tested_006.csv')\n"
     ]
    },
    {
     "data": {
      "text/html": [
       "<div>\n",
       "<style scoped>\n",
       "    .dataframe tbody tr th:only-of-type {\n",
       "        vertical-align: middle;\n",
       "    }\n",
       "\n",
       "    .dataframe tbody tr th {\n",
       "        vertical-align: top;\n",
       "    }\n",
       "\n",
       "    .dataframe thead th {\n",
       "        text-align: right;\n",
       "    }\n",
       "</style>\n",
       "<table border=\"1\" class=\"dataframe\">\n",
       "  <thead>\n",
       "    <tr style=\"text-align: right;\">\n",
       "      <th></th>\n",
       "      <th>Ind_ID</th>\n",
       "      <th>Test_date</th>\n",
       "      <th>Cough_symptoms</th>\n",
       "      <th>Fever</th>\n",
       "      <th>Sore_throat</th>\n",
       "      <th>Shortness_of_breath</th>\n",
       "      <th>Headache</th>\n",
       "      <th>Corona</th>\n",
       "      <th>Age_60_above</th>\n",
       "      <th>Sex</th>\n",
       "      <th>Known_contact</th>\n",
       "    </tr>\n",
       "  </thead>\n",
       "  <tbody>\n",
       "    <tr>\n",
       "      <th>0</th>\n",
       "      <td>1</td>\n",
       "      <td>11-03-2020</td>\n",
       "      <td>TRUE</td>\n",
       "      <td>FALSE</td>\n",
       "      <td>TRUE</td>\n",
       "      <td>FALSE</td>\n",
       "      <td>FALSE</td>\n",
       "      <td>negative</td>\n",
       "      <td>None</td>\n",
       "      <td>None</td>\n",
       "      <td>Abroad</td>\n",
       "    </tr>\n",
       "    <tr>\n",
       "      <th>1</th>\n",
       "      <td>2</td>\n",
       "      <td>11-03-2020</td>\n",
       "      <td>FALSE</td>\n",
       "      <td>TRUE</td>\n",
       "      <td>FALSE</td>\n",
       "      <td>FALSE</td>\n",
       "      <td>FALSE</td>\n",
       "      <td>positive</td>\n",
       "      <td>None</td>\n",
       "      <td>None</td>\n",
       "      <td>Abroad</td>\n",
       "    </tr>\n",
       "    <tr>\n",
       "      <th>2</th>\n",
       "      <td>3</td>\n",
       "      <td>11-03-2020</td>\n",
       "      <td>FALSE</td>\n",
       "      <td>TRUE</td>\n",
       "      <td>FALSE</td>\n",
       "      <td>FALSE</td>\n",
       "      <td>FALSE</td>\n",
       "      <td>positive</td>\n",
       "      <td>None</td>\n",
       "      <td>None</td>\n",
       "      <td>Abroad</td>\n",
       "    </tr>\n",
       "    <tr>\n",
       "      <th>3</th>\n",
       "      <td>4</td>\n",
       "      <td>11-03-2020</td>\n",
       "      <td>TRUE</td>\n",
       "      <td>FALSE</td>\n",
       "      <td>FALSE</td>\n",
       "      <td>FALSE</td>\n",
       "      <td>FALSE</td>\n",
       "      <td>negative</td>\n",
       "      <td>None</td>\n",
       "      <td>None</td>\n",
       "      <td>Abroad</td>\n",
       "    </tr>\n",
       "    <tr>\n",
       "      <th>4</th>\n",
       "      <td>5</td>\n",
       "      <td>11-03-2020</td>\n",
       "      <td>TRUE</td>\n",
       "      <td>FALSE</td>\n",
       "      <td>FALSE</td>\n",
       "      <td>FALSE</td>\n",
       "      <td>FALSE</td>\n",
       "      <td>negative</td>\n",
       "      <td>None</td>\n",
       "      <td>None</td>\n",
       "      <td>Contact with confirmed</td>\n",
       "    </tr>\n",
       "  </tbody>\n",
       "</table>\n",
       "</div>"
      ],
      "text/plain": [
       "   Ind_ID   Test_date Cough_symptoms  Fever Sore_throat Shortness_of_breath  \\\n",
       "0       1  11-03-2020           TRUE  FALSE        TRUE               FALSE   \n",
       "1       2  11-03-2020          FALSE   TRUE       FALSE               FALSE   \n",
       "2       3  11-03-2020          FALSE   TRUE       FALSE               FALSE   \n",
       "3       4  11-03-2020           TRUE  FALSE       FALSE               FALSE   \n",
       "4       5  11-03-2020           TRUE  FALSE       FALSE               FALSE   \n",
       "\n",
       "  Headache    Corona Age_60_above   Sex           Known_contact  \n",
       "0    FALSE  negative         None  None                  Abroad  \n",
       "1    FALSE  positive         None  None                  Abroad  \n",
       "2    FALSE  positive         None  None                  Abroad  \n",
       "3    FALSE  negative         None  None                  Abroad  \n",
       "4    FALSE  negative         None  None  Contact with confirmed  "
      ]
     },
     "execution_count": 49,
     "metadata": {},
     "output_type": "execute_result"
    }
   ],
   "source": [
    "data = pd.read_csv('corona_tested_006.csv')\n",
    "data.head()"
   ]
  },
  {
   "cell_type": "code",
   "execution_count": 50,
   "metadata": {
    "colab": {
     "base_uri": "https://localhost:8080/"
    },
    "id": "UzVGjmB6Kpt9",
    "outputId": "9f9fcdf2-be3a-4b76-8a54-bf489588704c"
   },
   "outputs": [
    {
     "name": "stdout",
     "output_type": "stream",
     "text": [
      "No of row =  278848\n",
      "No of col =  11\n"
     ]
    }
   ],
   "source": [
    "row,col = data.shape\n",
    "print(\"No of row = \",row)\n",
    "print(\"No of col = \",col)\n"
   ]
  },
  {
   "cell_type": "code",
   "execution_count": 51,
   "metadata": {
    "colab": {
     "base_uri": "https://localhost:8080/"
    },
    "id": "0WJIvcv1Jgbk",
    "outputId": "ce74dea4-5afc-4513-f23f-8f47037a3edd"
   },
   "outputs": [
    {
     "name": "stdout",
     "output_type": "stream",
     "text": [
      "<class 'pandas.core.frame.DataFrame'>\n",
      "RangeIndex: 278848 entries, 0 to 278847\n",
      "Data columns (total 11 columns):\n",
      " #   Column               Non-Null Count   Dtype \n",
      "---  ------               --------------   ----- \n",
      " 0   Ind_ID               278848 non-null  int64 \n",
      " 1   Test_date            278848 non-null  object\n",
      " 2   Cough_symptoms       278848 non-null  object\n",
      " 3   Fever                278848 non-null  object\n",
      " 4   Sore_throat          278848 non-null  object\n",
      " 5   Shortness_of_breath  278848 non-null  object\n",
      " 6   Headache             278848 non-null  object\n",
      " 7   Corona               278848 non-null  object\n",
      " 8   Age_60_above         278848 non-null  object\n",
      " 9   Sex                  278848 non-null  object\n",
      " 10  Known_contact        278848 non-null  object\n",
      "dtypes: int64(1), object(10)\n",
      "memory usage: 23.4+ MB\n"
     ]
    }
   ],
   "source": [
    "# There is not NaN or null values in columns\n",
    "data.info()"
   ]
  },
  {
   "cell_type": "code",
   "execution_count": 52,
   "metadata": {
    "id": "2eRjlzpaEkNL"
   },
   "outputs": [],
   "source": [
    "# data = data.drop(['Age_60_above','Sex'], axis = 1)"
   ]
  },
  {
   "cell_type": "code",
   "execution_count": 53,
   "metadata": {
    "id": "58O8HOeQ_mNT"
   },
   "outputs": [],
   "source": [
    "data = data.dropna()\n"
   ]
  },
  {
   "cell_type": "code",
   "execution_count": 54,
   "metadata": {
    "colab": {
     "base_uri": "https://localhost:8080/"
    },
    "id": "NCHDT4nAxsUg",
    "outputId": "dd239ad3-8b9e-4751-a8dd-dffb0eb45276"
   },
   "outputs": [
    {
     "data": {
      "text/plain": [
       "(278848, 11)"
      ]
     },
     "execution_count": 54,
     "metadata": {},
     "output_type": "execute_result"
    }
   ],
   "source": [
    "data.shape"
   ]
  },
  {
   "cell_type": "code",
   "execution_count": 55,
   "metadata": {
    "id": "UDCeKb0S0IdP"
   },
   "outputs": [],
   "source": [
    "data['Cough_symptoms'] = data['Cough_symptoms'].astype('bool').astype('int')\n",
    "data['Fever'] = data['Fever'].astype('bool').astype('int')\n",
    "data['Sore_throat'] = data['Sore_throat'].astype('bool').astype('int')\n",
    "data['Shortness_of_breath'] = data['Shortness_of_breath'].astype('bool').astype('int')\n",
    "data['Headache'] = data['Headache'].astype('bool').astype('int')\n",
    "# data['Age_60_above'] = data['Age_60_above'].astype('bool')\n",
    "# data['Sex'] = data['Sex'].astype('bool')\n",
    "# data['Known_contact'] = data['Known_contact'].astype('bool')"
   ]
  },
  {
   "cell_type": "code",
   "execution_count": 56,
   "metadata": {
    "colab": {
     "base_uri": "https://localhost:8080/",
     "height": 423
    },
    "id": "pQoIVuGMJnHO",
    "outputId": "26e1d7e4-f864-4a91-83b9-f0a96f16ad90"
   },
   "outputs": [
    {
     "data": {
      "text/html": [
       "<div>\n",
       "<style scoped>\n",
       "    .dataframe tbody tr th:only-of-type {\n",
       "        vertical-align: middle;\n",
       "    }\n",
       "\n",
       "    .dataframe tbody tr th {\n",
       "        vertical-align: top;\n",
       "    }\n",
       "\n",
       "    .dataframe thead th {\n",
       "        text-align: right;\n",
       "    }\n",
       "</style>\n",
       "<table border=\"1\" class=\"dataframe\">\n",
       "  <thead>\n",
       "    <tr style=\"text-align: right;\">\n",
       "      <th></th>\n",
       "      <th>Ind_ID</th>\n",
       "      <th>Test_date</th>\n",
       "      <th>Cough_symptoms</th>\n",
       "      <th>Fever</th>\n",
       "      <th>Sore_throat</th>\n",
       "      <th>Shortness_of_breath</th>\n",
       "      <th>Headache</th>\n",
       "      <th>Corona</th>\n",
       "      <th>Age_60_above</th>\n",
       "      <th>Sex</th>\n",
       "      <th>Known_contact</th>\n",
       "    </tr>\n",
       "  </thead>\n",
       "  <tbody>\n",
       "    <tr>\n",
       "      <th>0</th>\n",
       "      <td>1</td>\n",
       "      <td>11-03-2020</td>\n",
       "      <td>1</td>\n",
       "      <td>1</td>\n",
       "      <td>1</td>\n",
       "      <td>1</td>\n",
       "      <td>1</td>\n",
       "      <td>negative</td>\n",
       "      <td>None</td>\n",
       "      <td>None</td>\n",
       "      <td>Abroad</td>\n",
       "    </tr>\n",
       "    <tr>\n",
       "      <th>1</th>\n",
       "      <td>2</td>\n",
       "      <td>11-03-2020</td>\n",
       "      <td>1</td>\n",
       "      <td>1</td>\n",
       "      <td>1</td>\n",
       "      <td>1</td>\n",
       "      <td>1</td>\n",
       "      <td>positive</td>\n",
       "      <td>None</td>\n",
       "      <td>None</td>\n",
       "      <td>Abroad</td>\n",
       "    </tr>\n",
       "    <tr>\n",
       "      <th>2</th>\n",
       "      <td>3</td>\n",
       "      <td>11-03-2020</td>\n",
       "      <td>1</td>\n",
       "      <td>1</td>\n",
       "      <td>1</td>\n",
       "      <td>1</td>\n",
       "      <td>1</td>\n",
       "      <td>positive</td>\n",
       "      <td>None</td>\n",
       "      <td>None</td>\n",
       "      <td>Abroad</td>\n",
       "    </tr>\n",
       "    <tr>\n",
       "      <th>3</th>\n",
       "      <td>4</td>\n",
       "      <td>11-03-2020</td>\n",
       "      <td>1</td>\n",
       "      <td>1</td>\n",
       "      <td>1</td>\n",
       "      <td>1</td>\n",
       "      <td>1</td>\n",
       "      <td>negative</td>\n",
       "      <td>None</td>\n",
       "      <td>None</td>\n",
       "      <td>Abroad</td>\n",
       "    </tr>\n",
       "    <tr>\n",
       "      <th>4</th>\n",
       "      <td>5</td>\n",
       "      <td>11-03-2020</td>\n",
       "      <td>1</td>\n",
       "      <td>1</td>\n",
       "      <td>1</td>\n",
       "      <td>1</td>\n",
       "      <td>1</td>\n",
       "      <td>negative</td>\n",
       "      <td>None</td>\n",
       "      <td>None</td>\n",
       "      <td>Contact with confirmed</td>\n",
       "    </tr>\n",
       "    <tr>\n",
       "      <th>...</th>\n",
       "      <td>...</td>\n",
       "      <td>...</td>\n",
       "      <td>...</td>\n",
       "      <td>...</td>\n",
       "      <td>...</td>\n",
       "      <td>...</td>\n",
       "      <td>...</td>\n",
       "      <td>...</td>\n",
       "      <td>...</td>\n",
       "      <td>...</td>\n",
       "      <td>...</td>\n",
       "    </tr>\n",
       "    <tr>\n",
       "      <th>278843</th>\n",
       "      <td>278844</td>\n",
       "      <td>30-04-2020</td>\n",
       "      <td>0</td>\n",
       "      <td>0</td>\n",
       "      <td>0</td>\n",
       "      <td>0</td>\n",
       "      <td>0</td>\n",
       "      <td>positive</td>\n",
       "      <td>None</td>\n",
       "      <td>male</td>\n",
       "      <td>Other</td>\n",
       "    </tr>\n",
       "    <tr>\n",
       "      <th>278844</th>\n",
       "      <td>278845</td>\n",
       "      <td>30-04-2020</td>\n",
       "      <td>0</td>\n",
       "      <td>0</td>\n",
       "      <td>0</td>\n",
       "      <td>0</td>\n",
       "      <td>0</td>\n",
       "      <td>negative</td>\n",
       "      <td>None</td>\n",
       "      <td>female</td>\n",
       "      <td>Other</td>\n",
       "    </tr>\n",
       "    <tr>\n",
       "      <th>278845</th>\n",
       "      <td>278846</td>\n",
       "      <td>30-04-2020</td>\n",
       "      <td>0</td>\n",
       "      <td>0</td>\n",
       "      <td>0</td>\n",
       "      <td>0</td>\n",
       "      <td>0</td>\n",
       "      <td>negative</td>\n",
       "      <td>None</td>\n",
       "      <td>male</td>\n",
       "      <td>Other</td>\n",
       "    </tr>\n",
       "    <tr>\n",
       "      <th>278846</th>\n",
       "      <td>278847</td>\n",
       "      <td>30-04-2020</td>\n",
       "      <td>0</td>\n",
       "      <td>0</td>\n",
       "      <td>0</td>\n",
       "      <td>0</td>\n",
       "      <td>0</td>\n",
       "      <td>negative</td>\n",
       "      <td>None</td>\n",
       "      <td>male</td>\n",
       "      <td>Other</td>\n",
       "    </tr>\n",
       "    <tr>\n",
       "      <th>278847</th>\n",
       "      <td>278848</td>\n",
       "      <td>30-04-2020</td>\n",
       "      <td>0</td>\n",
       "      <td>0</td>\n",
       "      <td>0</td>\n",
       "      <td>0</td>\n",
       "      <td>0</td>\n",
       "      <td>negative</td>\n",
       "      <td>None</td>\n",
       "      <td>female</td>\n",
       "      <td>Other</td>\n",
       "    </tr>\n",
       "  </tbody>\n",
       "</table>\n",
       "<p>278848 rows × 11 columns</p>\n",
       "</div>"
      ],
      "text/plain": [
       "        Ind_ID   Test_date  Cough_symptoms  Fever  Sore_throat  \\\n",
       "0            1  11-03-2020               1      1            1   \n",
       "1            2  11-03-2020               1      1            1   \n",
       "2            3  11-03-2020               1      1            1   \n",
       "3            4  11-03-2020               1      1            1   \n",
       "4            5  11-03-2020               1      1            1   \n",
       "...        ...         ...             ...    ...          ...   \n",
       "278843  278844  30-04-2020               0      0            0   \n",
       "278844  278845  30-04-2020               0      0            0   \n",
       "278845  278846  30-04-2020               0      0            0   \n",
       "278846  278847  30-04-2020               0      0            0   \n",
       "278847  278848  30-04-2020               0      0            0   \n",
       "\n",
       "        Shortness_of_breath  Headache    Corona Age_60_above     Sex  \\\n",
       "0                         1         1  negative         None    None   \n",
       "1                         1         1  positive         None    None   \n",
       "2                         1         1  positive         None    None   \n",
       "3                         1         1  negative         None    None   \n",
       "4                         1         1  negative         None    None   \n",
       "...                     ...       ...       ...          ...     ...   \n",
       "278843                    0         0  positive         None    male   \n",
       "278844                    0         0  negative         None  female   \n",
       "278845                    0         0  negative         None    male   \n",
       "278846                    0         0  negative         None    male   \n",
       "278847                    0         0  negative         None  female   \n",
       "\n",
       "                 Known_contact  \n",
       "0                       Abroad  \n",
       "1                       Abroad  \n",
       "2                       Abroad  \n",
       "3                       Abroad  \n",
       "4       Contact with confirmed  \n",
       "...                        ...  \n",
       "278843                   Other  \n",
       "278844                   Other  \n",
       "278845                   Other  \n",
       "278846                   Other  \n",
       "278847                   Other  \n",
       "\n",
       "[278848 rows x 11 columns]"
      ]
     },
     "execution_count": 56,
     "metadata": {},
     "output_type": "execute_result"
    }
   ],
   "source": [
    "# data.describe()\n",
    "data"
   ]
  },
  {
   "cell_type": "code",
   "execution_count": 57,
   "metadata": {
    "colab": {
     "base_uri": "https://localhost:8080/"
    },
    "id": "TpUvrURdsTJQ",
    "outputId": "7ddc5b6c-2b30-4069-a0c5-30dbb3eb9f12"
   },
   "outputs": [
    {
     "name": "stdout",
     "output_type": "stream",
     "text": [
      "3892\n",
      "260227\n",
      "14729\n"
     ]
    }
   ],
   "source": [
    "print(len(data[data['Corona'] == 'other']))\n",
    "print(len(data[data['Corona'] == 'negative']))\n",
    "print(len(data[data['Corona'] == 'positive']))"
   ]
  },
  {
   "cell_type": "code",
   "execution_count": 58,
   "metadata": {
    "colab": {
     "base_uri": "https://localhost:8080/",
     "height": 423
    },
    "id": "pAm3PIkYOr2z",
    "outputId": "5f4012e4-efe4-4953-aa2f-9fb7c9655832"
   },
   "outputs": [
    {
     "data": {
      "text/html": [
       "<div>\n",
       "<style scoped>\n",
       "    .dataframe tbody tr th:only-of-type {\n",
       "        vertical-align: middle;\n",
       "    }\n",
       "\n",
       "    .dataframe tbody tr th {\n",
       "        vertical-align: top;\n",
       "    }\n",
       "\n",
       "    .dataframe thead th {\n",
       "        text-align: right;\n",
       "    }\n",
       "</style>\n",
       "<table border=\"1\" class=\"dataframe\">\n",
       "  <thead>\n",
       "    <tr style=\"text-align: right;\">\n",
       "      <th></th>\n",
       "      <th>Ind_ID</th>\n",
       "      <th>Test_date</th>\n",
       "      <th>Cough_symptoms</th>\n",
       "      <th>Fever</th>\n",
       "      <th>Sore_throat</th>\n",
       "      <th>Shortness_of_breath</th>\n",
       "      <th>Headache</th>\n",
       "      <th>Corona</th>\n",
       "      <th>Age_60_above</th>\n",
       "      <th>Sex</th>\n",
       "      <th>Known_contact</th>\n",
       "    </tr>\n",
       "  </thead>\n",
       "  <tbody>\n",
       "    <tr>\n",
       "      <th>0</th>\n",
       "      <td>1</td>\n",
       "      <td>11-03-2020</td>\n",
       "      <td>1</td>\n",
       "      <td>1</td>\n",
       "      <td>1</td>\n",
       "      <td>1</td>\n",
       "      <td>1</td>\n",
       "      <td>negative</td>\n",
       "      <td>None</td>\n",
       "      <td>None</td>\n",
       "      <td>Abroad</td>\n",
       "    </tr>\n",
       "    <tr>\n",
       "      <th>1</th>\n",
       "      <td>2</td>\n",
       "      <td>11-03-2020</td>\n",
       "      <td>1</td>\n",
       "      <td>1</td>\n",
       "      <td>1</td>\n",
       "      <td>1</td>\n",
       "      <td>1</td>\n",
       "      <td>positive</td>\n",
       "      <td>None</td>\n",
       "      <td>None</td>\n",
       "      <td>Abroad</td>\n",
       "    </tr>\n",
       "    <tr>\n",
       "      <th>2</th>\n",
       "      <td>3</td>\n",
       "      <td>11-03-2020</td>\n",
       "      <td>1</td>\n",
       "      <td>1</td>\n",
       "      <td>1</td>\n",
       "      <td>1</td>\n",
       "      <td>1</td>\n",
       "      <td>positive</td>\n",
       "      <td>None</td>\n",
       "      <td>None</td>\n",
       "      <td>Abroad</td>\n",
       "    </tr>\n",
       "    <tr>\n",
       "      <th>3</th>\n",
       "      <td>4</td>\n",
       "      <td>11-03-2020</td>\n",
       "      <td>1</td>\n",
       "      <td>1</td>\n",
       "      <td>1</td>\n",
       "      <td>1</td>\n",
       "      <td>1</td>\n",
       "      <td>negative</td>\n",
       "      <td>None</td>\n",
       "      <td>None</td>\n",
       "      <td>Abroad</td>\n",
       "    </tr>\n",
       "    <tr>\n",
       "      <th>4</th>\n",
       "      <td>5</td>\n",
       "      <td>11-03-2020</td>\n",
       "      <td>1</td>\n",
       "      <td>1</td>\n",
       "      <td>1</td>\n",
       "      <td>1</td>\n",
       "      <td>1</td>\n",
       "      <td>negative</td>\n",
       "      <td>None</td>\n",
       "      <td>None</td>\n",
       "      <td>Contact with confirmed</td>\n",
       "    </tr>\n",
       "    <tr>\n",
       "      <th>...</th>\n",
       "      <td>...</td>\n",
       "      <td>...</td>\n",
       "      <td>...</td>\n",
       "      <td>...</td>\n",
       "      <td>...</td>\n",
       "      <td>...</td>\n",
       "      <td>...</td>\n",
       "      <td>...</td>\n",
       "      <td>...</td>\n",
       "      <td>...</td>\n",
       "      <td>...</td>\n",
       "    </tr>\n",
       "    <tr>\n",
       "      <th>278843</th>\n",
       "      <td>278844</td>\n",
       "      <td>30-04-2020</td>\n",
       "      <td>0</td>\n",
       "      <td>0</td>\n",
       "      <td>0</td>\n",
       "      <td>0</td>\n",
       "      <td>0</td>\n",
       "      <td>positive</td>\n",
       "      <td>None</td>\n",
       "      <td>male</td>\n",
       "      <td>Other</td>\n",
       "    </tr>\n",
       "    <tr>\n",
       "      <th>278844</th>\n",
       "      <td>278845</td>\n",
       "      <td>30-04-2020</td>\n",
       "      <td>0</td>\n",
       "      <td>0</td>\n",
       "      <td>0</td>\n",
       "      <td>0</td>\n",
       "      <td>0</td>\n",
       "      <td>negative</td>\n",
       "      <td>None</td>\n",
       "      <td>female</td>\n",
       "      <td>Other</td>\n",
       "    </tr>\n",
       "    <tr>\n",
       "      <th>278845</th>\n",
       "      <td>278846</td>\n",
       "      <td>30-04-2020</td>\n",
       "      <td>0</td>\n",
       "      <td>0</td>\n",
       "      <td>0</td>\n",
       "      <td>0</td>\n",
       "      <td>0</td>\n",
       "      <td>negative</td>\n",
       "      <td>None</td>\n",
       "      <td>male</td>\n",
       "      <td>Other</td>\n",
       "    </tr>\n",
       "    <tr>\n",
       "      <th>278846</th>\n",
       "      <td>278847</td>\n",
       "      <td>30-04-2020</td>\n",
       "      <td>0</td>\n",
       "      <td>0</td>\n",
       "      <td>0</td>\n",
       "      <td>0</td>\n",
       "      <td>0</td>\n",
       "      <td>negative</td>\n",
       "      <td>None</td>\n",
       "      <td>male</td>\n",
       "      <td>Other</td>\n",
       "    </tr>\n",
       "    <tr>\n",
       "      <th>278847</th>\n",
       "      <td>278848</td>\n",
       "      <td>30-04-2020</td>\n",
       "      <td>0</td>\n",
       "      <td>0</td>\n",
       "      <td>0</td>\n",
       "      <td>0</td>\n",
       "      <td>0</td>\n",
       "      <td>negative</td>\n",
       "      <td>None</td>\n",
       "      <td>female</td>\n",
       "      <td>Other</td>\n",
       "    </tr>\n",
       "  </tbody>\n",
       "</table>\n",
       "<p>274956 rows × 11 columns</p>\n",
       "</div>"
      ],
      "text/plain": [
       "        Ind_ID   Test_date  Cough_symptoms  Fever  Sore_throat  \\\n",
       "0            1  11-03-2020               1      1            1   \n",
       "1            2  11-03-2020               1      1            1   \n",
       "2            3  11-03-2020               1      1            1   \n",
       "3            4  11-03-2020               1      1            1   \n",
       "4            5  11-03-2020               1      1            1   \n",
       "...        ...         ...             ...    ...          ...   \n",
       "278843  278844  30-04-2020               0      0            0   \n",
       "278844  278845  30-04-2020               0      0            0   \n",
       "278845  278846  30-04-2020               0      0            0   \n",
       "278846  278847  30-04-2020               0      0            0   \n",
       "278847  278848  30-04-2020               0      0            0   \n",
       "\n",
       "        Shortness_of_breath  Headache    Corona Age_60_above     Sex  \\\n",
       "0                         1         1  negative         None    None   \n",
       "1                         1         1  positive         None    None   \n",
       "2                         1         1  positive         None    None   \n",
       "3                         1         1  negative         None    None   \n",
       "4                         1         1  negative         None    None   \n",
       "...                     ...       ...       ...          ...     ...   \n",
       "278843                    0         0  positive         None    male   \n",
       "278844                    0         0  negative         None  female   \n",
       "278845                    0         0  negative         None    male   \n",
       "278846                    0         0  negative         None    male   \n",
       "278847                    0         0  negative         None  female   \n",
       "\n",
       "                 Known_contact  \n",
       "0                       Abroad  \n",
       "1                       Abroad  \n",
       "2                       Abroad  \n",
       "3                       Abroad  \n",
       "4       Contact with confirmed  \n",
       "...                        ...  \n",
       "278843                   Other  \n",
       "278844                   Other  \n",
       "278845                   Other  \n",
       "278846                   Other  \n",
       "278847                   Other  \n",
       "\n",
       "[274956 rows x 11 columns]"
      ]
     },
     "execution_count": 58,
     "metadata": {},
     "output_type": "execute_result"
    }
   ],
   "source": [
    "data = data[data['Corona'] != 'other']\n",
    "data"
   ]
  },
  {
   "cell_type": "code",
   "execution_count": 59,
   "metadata": {
    "colab": {
     "base_uri": "https://localhost:8080/"
    },
    "id": "zHzdbNlzaPTI",
    "outputId": "05f16128-c01d-4e06-e12b-941c3767d0f8"
   },
   "outputs": [
    {
     "name": "stdout",
     "output_type": "stream",
     "text": [
      "<class 'pandas.core.frame.DataFrame'>\n",
      "Int64Index: 274956 entries, 0 to 278847\n",
      "Data columns (total 11 columns):\n",
      " #   Column               Non-Null Count   Dtype \n",
      "---  ------               --------------   ----- \n",
      " 0   Ind_ID               274956 non-null  int64 \n",
      " 1   Test_date            274956 non-null  object\n",
      " 2   Cough_symptoms       274956 non-null  int32 \n",
      " 3   Fever                274956 non-null  int32 \n",
      " 4   Sore_throat          274956 non-null  int32 \n",
      " 5   Shortness_of_breath  274956 non-null  int32 \n",
      " 6   Headache             274956 non-null  int32 \n",
      " 7   Corona               274956 non-null  object\n",
      " 8   Age_60_above         274956 non-null  object\n",
      " 9   Sex                  274956 non-null  object\n",
      " 10  Known_contact        274956 non-null  object\n",
      "dtypes: int32(5), int64(1), object(5)\n",
      "memory usage: 19.9+ MB\n"
     ]
    }
   ],
   "source": [
    "data.info()"
   ]
  },
  {
   "cell_type": "code",
   "execution_count": 60,
   "metadata": {
    "id": "AY35Je9wOBQd"
   },
   "outputs": [],
   "source": [
    "data = data.iloc[:,2:]"
   ]
  },
  {
   "cell_type": "code",
   "execution_count": 61,
   "metadata": {
    "colab": {
     "base_uri": "https://localhost:8080/",
     "height": 423
    },
    "id": "Pw6urWu82toZ",
    "outputId": "f35ae9aa-66dd-4003-e487-44a7050afacd"
   },
   "outputs": [
    {
     "data": {
      "text/html": [
       "<div>\n",
       "<style scoped>\n",
       "    .dataframe tbody tr th:only-of-type {\n",
       "        vertical-align: middle;\n",
       "    }\n",
       "\n",
       "    .dataframe tbody tr th {\n",
       "        vertical-align: top;\n",
       "    }\n",
       "\n",
       "    .dataframe thead th {\n",
       "        text-align: right;\n",
       "    }\n",
       "</style>\n",
       "<table border=\"1\" class=\"dataframe\">\n",
       "  <thead>\n",
       "    <tr style=\"text-align: right;\">\n",
       "      <th></th>\n",
       "      <th>Cough_symptoms</th>\n",
       "      <th>Fever</th>\n",
       "      <th>Sore_throat</th>\n",
       "      <th>Shortness_of_breath</th>\n",
       "      <th>Headache</th>\n",
       "      <th>Corona</th>\n",
       "      <th>Age_60_above</th>\n",
       "      <th>Sex</th>\n",
       "      <th>Known_contact</th>\n",
       "    </tr>\n",
       "  </thead>\n",
       "  <tbody>\n",
       "    <tr>\n",
       "      <th>0</th>\n",
       "      <td>1</td>\n",
       "      <td>1</td>\n",
       "      <td>1</td>\n",
       "      <td>1</td>\n",
       "      <td>1</td>\n",
       "      <td>negative</td>\n",
       "      <td>None</td>\n",
       "      <td>None</td>\n",
       "      <td>Abroad</td>\n",
       "    </tr>\n",
       "    <tr>\n",
       "      <th>1</th>\n",
       "      <td>1</td>\n",
       "      <td>1</td>\n",
       "      <td>1</td>\n",
       "      <td>1</td>\n",
       "      <td>1</td>\n",
       "      <td>positive</td>\n",
       "      <td>None</td>\n",
       "      <td>None</td>\n",
       "      <td>Abroad</td>\n",
       "    </tr>\n",
       "    <tr>\n",
       "      <th>2</th>\n",
       "      <td>1</td>\n",
       "      <td>1</td>\n",
       "      <td>1</td>\n",
       "      <td>1</td>\n",
       "      <td>1</td>\n",
       "      <td>positive</td>\n",
       "      <td>None</td>\n",
       "      <td>None</td>\n",
       "      <td>Abroad</td>\n",
       "    </tr>\n",
       "    <tr>\n",
       "      <th>3</th>\n",
       "      <td>1</td>\n",
       "      <td>1</td>\n",
       "      <td>1</td>\n",
       "      <td>1</td>\n",
       "      <td>1</td>\n",
       "      <td>negative</td>\n",
       "      <td>None</td>\n",
       "      <td>None</td>\n",
       "      <td>Abroad</td>\n",
       "    </tr>\n",
       "    <tr>\n",
       "      <th>4</th>\n",
       "      <td>1</td>\n",
       "      <td>1</td>\n",
       "      <td>1</td>\n",
       "      <td>1</td>\n",
       "      <td>1</td>\n",
       "      <td>negative</td>\n",
       "      <td>None</td>\n",
       "      <td>None</td>\n",
       "      <td>Contact with confirmed</td>\n",
       "    </tr>\n",
       "    <tr>\n",
       "      <th>...</th>\n",
       "      <td>...</td>\n",
       "      <td>...</td>\n",
       "      <td>...</td>\n",
       "      <td>...</td>\n",
       "      <td>...</td>\n",
       "      <td>...</td>\n",
       "      <td>...</td>\n",
       "      <td>...</td>\n",
       "      <td>...</td>\n",
       "    </tr>\n",
       "    <tr>\n",
       "      <th>278843</th>\n",
       "      <td>0</td>\n",
       "      <td>0</td>\n",
       "      <td>0</td>\n",
       "      <td>0</td>\n",
       "      <td>0</td>\n",
       "      <td>positive</td>\n",
       "      <td>None</td>\n",
       "      <td>male</td>\n",
       "      <td>Other</td>\n",
       "    </tr>\n",
       "    <tr>\n",
       "      <th>278844</th>\n",
       "      <td>0</td>\n",
       "      <td>0</td>\n",
       "      <td>0</td>\n",
       "      <td>0</td>\n",
       "      <td>0</td>\n",
       "      <td>negative</td>\n",
       "      <td>None</td>\n",
       "      <td>female</td>\n",
       "      <td>Other</td>\n",
       "    </tr>\n",
       "    <tr>\n",
       "      <th>278845</th>\n",
       "      <td>0</td>\n",
       "      <td>0</td>\n",
       "      <td>0</td>\n",
       "      <td>0</td>\n",
       "      <td>0</td>\n",
       "      <td>negative</td>\n",
       "      <td>None</td>\n",
       "      <td>male</td>\n",
       "      <td>Other</td>\n",
       "    </tr>\n",
       "    <tr>\n",
       "      <th>278846</th>\n",
       "      <td>0</td>\n",
       "      <td>0</td>\n",
       "      <td>0</td>\n",
       "      <td>0</td>\n",
       "      <td>0</td>\n",
       "      <td>negative</td>\n",
       "      <td>None</td>\n",
       "      <td>male</td>\n",
       "      <td>Other</td>\n",
       "    </tr>\n",
       "    <tr>\n",
       "      <th>278847</th>\n",
       "      <td>0</td>\n",
       "      <td>0</td>\n",
       "      <td>0</td>\n",
       "      <td>0</td>\n",
       "      <td>0</td>\n",
       "      <td>negative</td>\n",
       "      <td>None</td>\n",
       "      <td>female</td>\n",
       "      <td>Other</td>\n",
       "    </tr>\n",
       "  </tbody>\n",
       "</table>\n",
       "<p>274956 rows × 9 columns</p>\n",
       "</div>"
      ],
      "text/plain": [
       "        Cough_symptoms  Fever  Sore_throat  Shortness_of_breath  Headache  \\\n",
       "0                    1      1            1                    1         1   \n",
       "1                    1      1            1                    1         1   \n",
       "2                    1      1            1                    1         1   \n",
       "3                    1      1            1                    1         1   \n",
       "4                    1      1            1                    1         1   \n",
       "...                ...    ...          ...                  ...       ...   \n",
       "278843               0      0            0                    0         0   \n",
       "278844               0      0            0                    0         0   \n",
       "278845               0      0            0                    0         0   \n",
       "278846               0      0            0                    0         0   \n",
       "278847               0      0            0                    0         0   \n",
       "\n",
       "          Corona Age_60_above     Sex           Known_contact  \n",
       "0       negative         None    None                  Abroad  \n",
       "1       positive         None    None                  Abroad  \n",
       "2       positive         None    None                  Abroad  \n",
       "3       negative         None    None                  Abroad  \n",
       "4       negative         None    None  Contact with confirmed  \n",
       "...          ...          ...     ...                     ...  \n",
       "278843  positive         None    male                   Other  \n",
       "278844  negative         None  female                   Other  \n",
       "278845  negative         None    male                   Other  \n",
       "278846  negative         None    male                   Other  \n",
       "278847  negative         None  female                   Other  \n",
       "\n",
       "[274956 rows x 9 columns]"
      ]
     },
     "execution_count": 61,
     "metadata": {},
     "output_type": "execute_result"
    }
   ],
   "source": [
    "data"
   ]
  },
  {
   "cell_type": "code",
   "execution_count": 62,
   "metadata": {
    "colab": {
     "base_uri": "https://localhost:8080/",
     "height": 423
    },
    "id": "lBGmnNF87lN8",
    "outputId": "5ed77498-dff1-45d7-e887-9d7b12996803"
   },
   "outputs": [
    {
     "data": {
      "text/html": [
       "<div>\n",
       "<style scoped>\n",
       "    .dataframe tbody tr th:only-of-type {\n",
       "        vertical-align: middle;\n",
       "    }\n",
       "\n",
       "    .dataframe tbody tr th {\n",
       "        vertical-align: top;\n",
       "    }\n",
       "\n",
       "    .dataframe thead th {\n",
       "        text-align: right;\n",
       "    }\n",
       "</style>\n",
       "<table border=\"1\" class=\"dataframe\">\n",
       "  <thead>\n",
       "    <tr style=\"text-align: right;\">\n",
       "      <th></th>\n",
       "      <th>Cough_symptoms</th>\n",
       "      <th>Fever</th>\n",
       "      <th>Sore_throat</th>\n",
       "      <th>Shortness_of_breath</th>\n",
       "      <th>Headache</th>\n",
       "      <th>Corona</th>\n",
       "      <th>Age_60_above</th>\n",
       "      <th>Sex</th>\n",
       "      <th>Known_contact</th>\n",
       "    </tr>\n",
       "  </thead>\n",
       "  <tbody>\n",
       "    <tr>\n",
       "      <th>0</th>\n",
       "      <td>1</td>\n",
       "      <td>1</td>\n",
       "      <td>1</td>\n",
       "      <td>1</td>\n",
       "      <td>1</td>\n",
       "      <td>negative</td>\n",
       "      <td>None</td>\n",
       "      <td>None</td>\n",
       "      <td>Abroad</td>\n",
       "    </tr>\n",
       "    <tr>\n",
       "      <th>1</th>\n",
       "      <td>1</td>\n",
       "      <td>1</td>\n",
       "      <td>1</td>\n",
       "      <td>1</td>\n",
       "      <td>1</td>\n",
       "      <td>positive</td>\n",
       "      <td>None</td>\n",
       "      <td>None</td>\n",
       "      <td>Abroad</td>\n",
       "    </tr>\n",
       "    <tr>\n",
       "      <th>2</th>\n",
       "      <td>1</td>\n",
       "      <td>1</td>\n",
       "      <td>1</td>\n",
       "      <td>1</td>\n",
       "      <td>1</td>\n",
       "      <td>positive</td>\n",
       "      <td>None</td>\n",
       "      <td>None</td>\n",
       "      <td>Abroad</td>\n",
       "    </tr>\n",
       "    <tr>\n",
       "      <th>3</th>\n",
       "      <td>1</td>\n",
       "      <td>1</td>\n",
       "      <td>1</td>\n",
       "      <td>1</td>\n",
       "      <td>1</td>\n",
       "      <td>negative</td>\n",
       "      <td>None</td>\n",
       "      <td>None</td>\n",
       "      <td>Abroad</td>\n",
       "    </tr>\n",
       "    <tr>\n",
       "      <th>4</th>\n",
       "      <td>1</td>\n",
       "      <td>1</td>\n",
       "      <td>1</td>\n",
       "      <td>1</td>\n",
       "      <td>1</td>\n",
       "      <td>negative</td>\n",
       "      <td>None</td>\n",
       "      <td>None</td>\n",
       "      <td>Contact with confirmed</td>\n",
       "    </tr>\n",
       "    <tr>\n",
       "      <th>...</th>\n",
       "      <td>...</td>\n",
       "      <td>...</td>\n",
       "      <td>...</td>\n",
       "      <td>...</td>\n",
       "      <td>...</td>\n",
       "      <td>...</td>\n",
       "      <td>...</td>\n",
       "      <td>...</td>\n",
       "      <td>...</td>\n",
       "    </tr>\n",
       "    <tr>\n",
       "      <th>278843</th>\n",
       "      <td>0</td>\n",
       "      <td>0</td>\n",
       "      <td>0</td>\n",
       "      <td>0</td>\n",
       "      <td>0</td>\n",
       "      <td>positive</td>\n",
       "      <td>None</td>\n",
       "      <td>male</td>\n",
       "      <td>Other</td>\n",
       "    </tr>\n",
       "    <tr>\n",
       "      <th>278844</th>\n",
       "      <td>0</td>\n",
       "      <td>0</td>\n",
       "      <td>0</td>\n",
       "      <td>0</td>\n",
       "      <td>0</td>\n",
       "      <td>negative</td>\n",
       "      <td>None</td>\n",
       "      <td>female</td>\n",
       "      <td>Other</td>\n",
       "    </tr>\n",
       "    <tr>\n",
       "      <th>278845</th>\n",
       "      <td>0</td>\n",
       "      <td>0</td>\n",
       "      <td>0</td>\n",
       "      <td>0</td>\n",
       "      <td>0</td>\n",
       "      <td>negative</td>\n",
       "      <td>None</td>\n",
       "      <td>male</td>\n",
       "      <td>Other</td>\n",
       "    </tr>\n",
       "    <tr>\n",
       "      <th>278846</th>\n",
       "      <td>0</td>\n",
       "      <td>0</td>\n",
       "      <td>0</td>\n",
       "      <td>0</td>\n",
       "      <td>0</td>\n",
       "      <td>negative</td>\n",
       "      <td>None</td>\n",
       "      <td>male</td>\n",
       "      <td>Other</td>\n",
       "    </tr>\n",
       "    <tr>\n",
       "      <th>278847</th>\n",
       "      <td>0</td>\n",
       "      <td>0</td>\n",
       "      <td>0</td>\n",
       "      <td>0</td>\n",
       "      <td>0</td>\n",
       "      <td>negative</td>\n",
       "      <td>None</td>\n",
       "      <td>female</td>\n",
       "      <td>Other</td>\n",
       "    </tr>\n",
       "  </tbody>\n",
       "</table>\n",
       "<p>274956 rows × 9 columns</p>\n",
       "</div>"
      ],
      "text/plain": [
       "        Cough_symptoms  Fever  Sore_throat  Shortness_of_breath  Headache  \\\n",
       "0                    1      1            1                    1         1   \n",
       "1                    1      1            1                    1         1   \n",
       "2                    1      1            1                    1         1   \n",
       "3                    1      1            1                    1         1   \n",
       "4                    1      1            1                    1         1   \n",
       "...                ...    ...          ...                  ...       ...   \n",
       "278843               0      0            0                    0         0   \n",
       "278844               0      0            0                    0         0   \n",
       "278845               0      0            0                    0         0   \n",
       "278846               0      0            0                    0         0   \n",
       "278847               0      0            0                    0         0   \n",
       "\n",
       "          Corona Age_60_above     Sex           Known_contact  \n",
       "0       negative         None    None                  Abroad  \n",
       "1       positive         None    None                  Abroad  \n",
       "2       positive         None    None                  Abroad  \n",
       "3       negative         None    None                  Abroad  \n",
       "4       negative         None    None  Contact with confirmed  \n",
       "...          ...          ...     ...                     ...  \n",
       "278843  positive         None    male                   Other  \n",
       "278844  negative         None  female                   Other  \n",
       "278845  negative         None    male                   Other  \n",
       "278846  negative         None    male                   Other  \n",
       "278847  negative         None  female                   Other  \n",
       "\n",
       "[274956 rows x 9 columns]"
      ]
     },
     "execution_count": 62,
     "metadata": {},
     "output_type": "execute_result"
    }
   ],
   "source": [
    "data = data.dropna()\n",
    "data"
   ]
  },
  {
   "cell_type": "code",
   "execution_count": 63,
   "metadata": {
    "id": "SW-3Zu5K3fl6"
   },
   "outputs": [],
   "source": [
    "from sklearn.preprocessing import OrdinalEncoder\n",
    "ord_enc = OrdinalEncoder()\n",
    "# data[\"Age_60_above\"] = ord_enc.fit_transform(data[[\"Age_60_above\"]]).astype('int')\n",
    "# data[\"Sex\"] = ord_enc.fit_transform(data[[\"Sex\"]]).astype('int')\n",
    "data[\"Known_contact\"] = ord_enc.fit_transform(data[[\"Known_contact\"]]).astype('int')\n",
    "data[\"Corona\"] = ord_enc.fit_transform(data[[\"Corona\"]]).astype('int')"
   ]
  },
  {
   "cell_type": "code",
   "execution_count": 64,
   "metadata": {
    "colab": {
     "base_uri": "https://localhost:8080/",
     "height": 423
    },
    "id": "ptP4pOPe4LVN",
    "outputId": "1a3f6a54-3f23-4cd8-f7bb-f65f003a363a"
   },
   "outputs": [
    {
     "data": {
      "text/html": [
       "<div>\n",
       "<style scoped>\n",
       "    .dataframe tbody tr th:only-of-type {\n",
       "        vertical-align: middle;\n",
       "    }\n",
       "\n",
       "    .dataframe tbody tr th {\n",
       "        vertical-align: top;\n",
       "    }\n",
       "\n",
       "    .dataframe thead th {\n",
       "        text-align: right;\n",
       "    }\n",
       "</style>\n",
       "<table border=\"1\" class=\"dataframe\">\n",
       "  <thead>\n",
       "    <tr style=\"text-align: right;\">\n",
       "      <th></th>\n",
       "      <th>Cough_symptoms</th>\n",
       "      <th>Fever</th>\n",
       "      <th>Sore_throat</th>\n",
       "      <th>Shortness_of_breath</th>\n",
       "      <th>Headache</th>\n",
       "      <th>Corona</th>\n",
       "      <th>Age_60_above</th>\n",
       "      <th>Sex</th>\n",
       "      <th>Known_contact</th>\n",
       "    </tr>\n",
       "  </thead>\n",
       "  <tbody>\n",
       "    <tr>\n",
       "      <th>0</th>\n",
       "      <td>1</td>\n",
       "      <td>1</td>\n",
       "      <td>1</td>\n",
       "      <td>1</td>\n",
       "      <td>1</td>\n",
       "      <td>0</td>\n",
       "      <td>None</td>\n",
       "      <td>None</td>\n",
       "      <td>0</td>\n",
       "    </tr>\n",
       "    <tr>\n",
       "      <th>1</th>\n",
       "      <td>1</td>\n",
       "      <td>1</td>\n",
       "      <td>1</td>\n",
       "      <td>1</td>\n",
       "      <td>1</td>\n",
       "      <td>1</td>\n",
       "      <td>None</td>\n",
       "      <td>None</td>\n",
       "      <td>0</td>\n",
       "    </tr>\n",
       "    <tr>\n",
       "      <th>2</th>\n",
       "      <td>1</td>\n",
       "      <td>1</td>\n",
       "      <td>1</td>\n",
       "      <td>1</td>\n",
       "      <td>1</td>\n",
       "      <td>1</td>\n",
       "      <td>None</td>\n",
       "      <td>None</td>\n",
       "      <td>0</td>\n",
       "    </tr>\n",
       "    <tr>\n",
       "      <th>3</th>\n",
       "      <td>1</td>\n",
       "      <td>1</td>\n",
       "      <td>1</td>\n",
       "      <td>1</td>\n",
       "      <td>1</td>\n",
       "      <td>0</td>\n",
       "      <td>None</td>\n",
       "      <td>None</td>\n",
       "      <td>0</td>\n",
       "    </tr>\n",
       "    <tr>\n",
       "      <th>4</th>\n",
       "      <td>1</td>\n",
       "      <td>1</td>\n",
       "      <td>1</td>\n",
       "      <td>1</td>\n",
       "      <td>1</td>\n",
       "      <td>0</td>\n",
       "      <td>None</td>\n",
       "      <td>None</td>\n",
       "      <td>1</td>\n",
       "    </tr>\n",
       "    <tr>\n",
       "      <th>...</th>\n",
       "      <td>...</td>\n",
       "      <td>...</td>\n",
       "      <td>...</td>\n",
       "      <td>...</td>\n",
       "      <td>...</td>\n",
       "      <td>...</td>\n",
       "      <td>...</td>\n",
       "      <td>...</td>\n",
       "      <td>...</td>\n",
       "    </tr>\n",
       "    <tr>\n",
       "      <th>278843</th>\n",
       "      <td>0</td>\n",
       "      <td>0</td>\n",
       "      <td>0</td>\n",
       "      <td>0</td>\n",
       "      <td>0</td>\n",
       "      <td>1</td>\n",
       "      <td>None</td>\n",
       "      <td>male</td>\n",
       "      <td>2</td>\n",
       "    </tr>\n",
       "    <tr>\n",
       "      <th>278844</th>\n",
       "      <td>0</td>\n",
       "      <td>0</td>\n",
       "      <td>0</td>\n",
       "      <td>0</td>\n",
       "      <td>0</td>\n",
       "      <td>0</td>\n",
       "      <td>None</td>\n",
       "      <td>female</td>\n",
       "      <td>2</td>\n",
       "    </tr>\n",
       "    <tr>\n",
       "      <th>278845</th>\n",
       "      <td>0</td>\n",
       "      <td>0</td>\n",
       "      <td>0</td>\n",
       "      <td>0</td>\n",
       "      <td>0</td>\n",
       "      <td>0</td>\n",
       "      <td>None</td>\n",
       "      <td>male</td>\n",
       "      <td>2</td>\n",
       "    </tr>\n",
       "    <tr>\n",
       "      <th>278846</th>\n",
       "      <td>0</td>\n",
       "      <td>0</td>\n",
       "      <td>0</td>\n",
       "      <td>0</td>\n",
       "      <td>0</td>\n",
       "      <td>0</td>\n",
       "      <td>None</td>\n",
       "      <td>male</td>\n",
       "      <td>2</td>\n",
       "    </tr>\n",
       "    <tr>\n",
       "      <th>278847</th>\n",
       "      <td>0</td>\n",
       "      <td>0</td>\n",
       "      <td>0</td>\n",
       "      <td>0</td>\n",
       "      <td>0</td>\n",
       "      <td>0</td>\n",
       "      <td>None</td>\n",
       "      <td>female</td>\n",
       "      <td>2</td>\n",
       "    </tr>\n",
       "  </tbody>\n",
       "</table>\n",
       "<p>274956 rows × 9 columns</p>\n",
       "</div>"
      ],
      "text/plain": [
       "        Cough_symptoms  Fever  Sore_throat  Shortness_of_breath  Headache  \\\n",
       "0                    1      1            1                    1         1   \n",
       "1                    1      1            1                    1         1   \n",
       "2                    1      1            1                    1         1   \n",
       "3                    1      1            1                    1         1   \n",
       "4                    1      1            1                    1         1   \n",
       "...                ...    ...          ...                  ...       ...   \n",
       "278843               0      0            0                    0         0   \n",
       "278844               0      0            0                    0         0   \n",
       "278845               0      0            0                    0         0   \n",
       "278846               0      0            0                    0         0   \n",
       "278847               0      0            0                    0         0   \n",
       "\n",
       "        Corona Age_60_above     Sex  Known_contact  \n",
       "0            0         None    None              0  \n",
       "1            1         None    None              0  \n",
       "2            1         None    None              0  \n",
       "3            0         None    None              0  \n",
       "4            0         None    None              1  \n",
       "...        ...          ...     ...            ...  \n",
       "278843       1         None    male              2  \n",
       "278844       0         None  female              2  \n",
       "278845       0         None    male              2  \n",
       "278846       0         None    male              2  \n",
       "278847       0         None  female              2  \n",
       "\n",
       "[274956 rows x 9 columns]"
      ]
     },
     "execution_count": 64,
     "metadata": {},
     "output_type": "execute_result"
    }
   ],
   "source": [
    "data"
   ]
  },
  {
   "cell_type": "code",
   "execution_count": 65,
   "metadata": {
    "colab": {
     "base_uri": "https://localhost:8080/"
    },
    "id": "Y5eXWw17TR-G",
    "outputId": "b67f3ecc-a0b4-41ac-8665-0dad44a2e509"
   },
   "outputs": [
    {
     "name": "stdout",
     "output_type": "stream",
     "text": [
      "<class 'pandas.core.frame.DataFrame'>\n",
      "Int64Index: 274956 entries, 0 to 278847\n",
      "Data columns (total 9 columns):\n",
      " #   Column               Non-Null Count   Dtype \n",
      "---  ------               --------------   ----- \n",
      " 0   Cough_symptoms       274956 non-null  int32 \n",
      " 1   Fever                274956 non-null  int32 \n",
      " 2   Sore_throat          274956 non-null  int32 \n",
      " 3   Shortness_of_breath  274956 non-null  int32 \n",
      " 4   Headache             274956 non-null  int32 \n",
      " 5   Corona               274956 non-null  int32 \n",
      " 6   Age_60_above         274956 non-null  object\n",
      " 7   Sex                  274956 non-null  object\n",
      " 8   Known_contact        274956 non-null  int32 \n",
      "dtypes: int32(7), object(2)\n",
      "memory usage: 13.6+ MB\n"
     ]
    }
   ],
   "source": [
    "data.info()"
   ]
  },
  {
   "cell_type": "code",
   "execution_count": 66,
   "metadata": {
    "colab": {
     "base_uri": "https://localhost:8080/"
    },
    "id": "svrhbtPaXSb3",
    "outputId": "3ec1cc9d-8dec-47a4-e14e-462d6ff3aebf"
   },
   "outputs": [
    {
     "data": {
      "text/plain": [
       "(274956, 9)"
      ]
     },
     "execution_count": 66,
     "metadata": {},
     "output_type": "execute_result"
    }
   ],
   "source": [
    "data.shape"
   ]
  },
  {
   "cell_type": "code",
   "execution_count": 67,
   "metadata": {
    "colab": {
     "base_uri": "https://localhost:8080/"
    },
    "id": "6o5tBSrKAarg",
    "outputId": "481ba3de-fcc6-4f98-83b8-948ee006ea34"
   },
   "outputs": [
    {
     "name": "stdout",
     "output_type": "stream",
     "text": [
      "14729\n",
      "14694\n"
     ]
    }
   ],
   "source": [
    "df1 = data[data['Corona'] == 1]\n",
    "df2 = data[data['Corona'] == 0].iloc[0:14694]\n",
    "print(len(df1))\n",
    "data = pd.concat([df1,df2])\n",
    "print(len(df2))"
   ]
  },
  {
   "cell_type": "code",
   "execution_count": 68,
   "metadata": {
    "id": "g68zH-HETEfA"
   },
   "outputs": [],
   "source": [
    "# data.shape"
   ]
  },
  {
   "cell_type": "code",
   "execution_count": 69,
   "metadata": {
    "colab": {
     "base_uri": "https://localhost:8080/",
     "height": 423
    },
    "id": "1GYeGijuwQ0V",
    "outputId": "81176e59-691e-4451-fa28-723201c73a18"
   },
   "outputs": [
    {
     "data": {
      "text/html": [
       "<div>\n",
       "<style scoped>\n",
       "    .dataframe tbody tr th:only-of-type {\n",
       "        vertical-align: middle;\n",
       "    }\n",
       "\n",
       "    .dataframe tbody tr th {\n",
       "        vertical-align: top;\n",
       "    }\n",
       "\n",
       "    .dataframe thead th {\n",
       "        text-align: right;\n",
       "    }\n",
       "</style>\n",
       "<table border=\"1\" class=\"dataframe\">\n",
       "  <thead>\n",
       "    <tr style=\"text-align: right;\">\n",
       "      <th></th>\n",
       "      <th>Cough_symptoms</th>\n",
       "      <th>Fever</th>\n",
       "      <th>Sore_throat</th>\n",
       "      <th>Shortness_of_breath</th>\n",
       "      <th>Headache</th>\n",
       "      <th>Corona</th>\n",
       "      <th>Age_60_above</th>\n",
       "      <th>Sex</th>\n",
       "      <th>Known_contact</th>\n",
       "    </tr>\n",
       "  </thead>\n",
       "  <tbody>\n",
       "    <tr>\n",
       "      <th>1</th>\n",
       "      <td>1</td>\n",
       "      <td>1</td>\n",
       "      <td>1</td>\n",
       "      <td>1</td>\n",
       "      <td>1</td>\n",
       "      <td>1</td>\n",
       "      <td>None</td>\n",
       "      <td>None</td>\n",
       "      <td>0</td>\n",
       "    </tr>\n",
       "    <tr>\n",
       "      <th>2</th>\n",
       "      <td>1</td>\n",
       "      <td>1</td>\n",
       "      <td>1</td>\n",
       "      <td>1</td>\n",
       "      <td>1</td>\n",
       "      <td>1</td>\n",
       "      <td>None</td>\n",
       "      <td>None</td>\n",
       "      <td>0</td>\n",
       "    </tr>\n",
       "    <tr>\n",
       "      <th>43</th>\n",
       "      <td>1</td>\n",
       "      <td>1</td>\n",
       "      <td>1</td>\n",
       "      <td>1</td>\n",
       "      <td>1</td>\n",
       "      <td>1</td>\n",
       "      <td>None</td>\n",
       "      <td>None</td>\n",
       "      <td>0</td>\n",
       "    </tr>\n",
       "    <tr>\n",
       "      <th>45</th>\n",
       "      <td>1</td>\n",
       "      <td>1</td>\n",
       "      <td>1</td>\n",
       "      <td>1</td>\n",
       "      <td>1</td>\n",
       "      <td>1</td>\n",
       "      <td>None</td>\n",
       "      <td>None</td>\n",
       "      <td>0</td>\n",
       "    </tr>\n",
       "    <tr>\n",
       "      <th>47</th>\n",
       "      <td>1</td>\n",
       "      <td>1</td>\n",
       "      <td>1</td>\n",
       "      <td>1</td>\n",
       "      <td>1</td>\n",
       "      <td>1</td>\n",
       "      <td>None</td>\n",
       "      <td>None</td>\n",
       "      <td>0</td>\n",
       "    </tr>\n",
       "    <tr>\n",
       "      <th>...</th>\n",
       "      <td>...</td>\n",
       "      <td>...</td>\n",
       "      <td>...</td>\n",
       "      <td>...</td>\n",
       "      <td>...</td>\n",
       "      <td>...</td>\n",
       "      <td>...</td>\n",
       "      <td>...</td>\n",
       "      <td>...</td>\n",
       "    </tr>\n",
       "    <tr>\n",
       "      <th>16233</th>\n",
       "      <td>1</td>\n",
       "      <td>1</td>\n",
       "      <td>1</td>\n",
       "      <td>1</td>\n",
       "      <td>1</td>\n",
       "      <td>0</td>\n",
       "      <td>No</td>\n",
       "      <td>female</td>\n",
       "      <td>2</td>\n",
       "    </tr>\n",
       "    <tr>\n",
       "      <th>16234</th>\n",
       "      <td>1</td>\n",
       "      <td>1</td>\n",
       "      <td>1</td>\n",
       "      <td>1</td>\n",
       "      <td>1</td>\n",
       "      <td>0</td>\n",
       "      <td>No</td>\n",
       "      <td>male</td>\n",
       "      <td>2</td>\n",
       "    </tr>\n",
       "    <tr>\n",
       "      <th>16235</th>\n",
       "      <td>1</td>\n",
       "      <td>1</td>\n",
       "      <td>1</td>\n",
       "      <td>1</td>\n",
       "      <td>1</td>\n",
       "      <td>0</td>\n",
       "      <td>No</td>\n",
       "      <td>female</td>\n",
       "      <td>0</td>\n",
       "    </tr>\n",
       "    <tr>\n",
       "      <th>16237</th>\n",
       "      <td>1</td>\n",
       "      <td>1</td>\n",
       "      <td>1</td>\n",
       "      <td>1</td>\n",
       "      <td>1</td>\n",
       "      <td>0</td>\n",
       "      <td>No</td>\n",
       "      <td>female</td>\n",
       "      <td>2</td>\n",
       "    </tr>\n",
       "    <tr>\n",
       "      <th>16238</th>\n",
       "      <td>1</td>\n",
       "      <td>1</td>\n",
       "      <td>1</td>\n",
       "      <td>1</td>\n",
       "      <td>1</td>\n",
       "      <td>0</td>\n",
       "      <td>No</td>\n",
       "      <td>male</td>\n",
       "      <td>0</td>\n",
       "    </tr>\n",
       "  </tbody>\n",
       "</table>\n",
       "<p>29423 rows × 9 columns</p>\n",
       "</div>"
      ],
      "text/plain": [
       "       Cough_symptoms  Fever  Sore_throat  Shortness_of_breath  Headache  \\\n",
       "1                   1      1            1                    1         1   \n",
       "2                   1      1            1                    1         1   \n",
       "43                  1      1            1                    1         1   \n",
       "45                  1      1            1                    1         1   \n",
       "47                  1      1            1                    1         1   \n",
       "...               ...    ...          ...                  ...       ...   \n",
       "16233               1      1            1                    1         1   \n",
       "16234               1      1            1                    1         1   \n",
       "16235               1      1            1                    1         1   \n",
       "16237               1      1            1                    1         1   \n",
       "16238               1      1            1                    1         1   \n",
       "\n",
       "       Corona Age_60_above     Sex  Known_contact  \n",
       "1           1         None    None              0  \n",
       "2           1         None    None              0  \n",
       "43          1         None    None              0  \n",
       "45          1         None    None              0  \n",
       "47          1         None    None              0  \n",
       "...       ...          ...     ...            ...  \n",
       "16233       0           No  female              2  \n",
       "16234       0           No    male              2  \n",
       "16235       0           No  female              0  \n",
       "16237       0           No  female              2  \n",
       "16238       0           No    male              0  \n",
       "\n",
       "[29423 rows x 9 columns]"
      ]
     },
     "execution_count": 69,
     "metadata": {},
     "output_type": "execute_result"
    }
   ],
   "source": [
    "data"
   ]
  },
  {
   "cell_type": "code",
   "execution_count": 70,
   "metadata": {
    "colab": {
     "base_uri": "https://localhost:8080/",
     "height": 423
    },
    "id": "t-EXQLDeAs-P",
    "outputId": "cb40e9e8-dba6-4669-928a-fffb5f8198e8"
   },
   "outputs": [
    {
     "data": {
      "text/html": [
       "<div>\n",
       "<style scoped>\n",
       "    .dataframe tbody tr th:only-of-type {\n",
       "        vertical-align: middle;\n",
       "    }\n",
       "\n",
       "    .dataframe tbody tr th {\n",
       "        vertical-align: top;\n",
       "    }\n",
       "\n",
       "    .dataframe thead th {\n",
       "        text-align: right;\n",
       "    }\n",
       "</style>\n",
       "<table border=\"1\" class=\"dataframe\">\n",
       "  <thead>\n",
       "    <tr style=\"text-align: right;\">\n",
       "      <th></th>\n",
       "      <th>Cough_symptoms</th>\n",
       "      <th>Fever</th>\n",
       "      <th>Sore_throat</th>\n",
       "      <th>Shortness_of_breath</th>\n",
       "      <th>Headache</th>\n",
       "      <th>Corona</th>\n",
       "      <th>Age_60_above</th>\n",
       "      <th>Sex</th>\n",
       "      <th>Known_contact</th>\n",
       "    </tr>\n",
       "  </thead>\n",
       "  <tbody>\n",
       "    <tr>\n",
       "      <th>35751</th>\n",
       "      <td>1</td>\n",
       "      <td>1</td>\n",
       "      <td>1</td>\n",
       "      <td>1</td>\n",
       "      <td>1</td>\n",
       "      <td>1</td>\n",
       "      <td>No</td>\n",
       "      <td>male</td>\n",
       "      <td>1</td>\n",
       "    </tr>\n",
       "    <tr>\n",
       "      <th>74771</th>\n",
       "      <td>1</td>\n",
       "      <td>1</td>\n",
       "      <td>1</td>\n",
       "      <td>1</td>\n",
       "      <td>1</td>\n",
       "      <td>1</td>\n",
       "      <td>No</td>\n",
       "      <td>male</td>\n",
       "      <td>2</td>\n",
       "    </tr>\n",
       "    <tr>\n",
       "      <th>271844</th>\n",
       "      <td>1</td>\n",
       "      <td>0</td>\n",
       "      <td>0</td>\n",
       "      <td>0</td>\n",
       "      <td>0</td>\n",
       "      <td>1</td>\n",
       "      <td>None</td>\n",
       "      <td>female</td>\n",
       "      <td>0</td>\n",
       "    </tr>\n",
       "    <tr>\n",
       "      <th>112661</th>\n",
       "      <td>1</td>\n",
       "      <td>1</td>\n",
       "      <td>0</td>\n",
       "      <td>0</td>\n",
       "      <td>0</td>\n",
       "      <td>1</td>\n",
       "      <td>No</td>\n",
       "      <td>female</td>\n",
       "      <td>1</td>\n",
       "    </tr>\n",
       "    <tr>\n",
       "      <th>10074</th>\n",
       "      <td>1</td>\n",
       "      <td>1</td>\n",
       "      <td>1</td>\n",
       "      <td>1</td>\n",
       "      <td>1</td>\n",
       "      <td>0</td>\n",
       "      <td>No</td>\n",
       "      <td>None</td>\n",
       "      <td>2</td>\n",
       "    </tr>\n",
       "    <tr>\n",
       "      <th>...</th>\n",
       "      <td>...</td>\n",
       "      <td>...</td>\n",
       "      <td>...</td>\n",
       "      <td>...</td>\n",
       "      <td>...</td>\n",
       "      <td>...</td>\n",
       "      <td>...</td>\n",
       "      <td>...</td>\n",
       "      <td>...</td>\n",
       "    </tr>\n",
       "    <tr>\n",
       "      <th>10965</th>\n",
       "      <td>1</td>\n",
       "      <td>1</td>\n",
       "      <td>1</td>\n",
       "      <td>1</td>\n",
       "      <td>1</td>\n",
       "      <td>0</td>\n",
       "      <td>No</td>\n",
       "      <td>None</td>\n",
       "      <td>2</td>\n",
       "    </tr>\n",
       "    <tr>\n",
       "      <th>132617</th>\n",
       "      <td>0</td>\n",
       "      <td>0</td>\n",
       "      <td>0</td>\n",
       "      <td>0</td>\n",
       "      <td>0</td>\n",
       "      <td>1</td>\n",
       "      <td>No</td>\n",
       "      <td>male</td>\n",
       "      <td>1</td>\n",
       "    </tr>\n",
       "    <tr>\n",
       "      <th>183276</th>\n",
       "      <td>0</td>\n",
       "      <td>0</td>\n",
       "      <td>0</td>\n",
       "      <td>0</td>\n",
       "      <td>0</td>\n",
       "      <td>1</td>\n",
       "      <td>None</td>\n",
       "      <td>male</td>\n",
       "      <td>1</td>\n",
       "    </tr>\n",
       "    <tr>\n",
       "      <th>12491</th>\n",
       "      <td>1</td>\n",
       "      <td>1</td>\n",
       "      <td>1</td>\n",
       "      <td>1</td>\n",
       "      <td>1</td>\n",
       "      <td>0</td>\n",
       "      <td>No</td>\n",
       "      <td>None</td>\n",
       "      <td>2</td>\n",
       "    </tr>\n",
       "    <tr>\n",
       "      <th>15561</th>\n",
       "      <td>1</td>\n",
       "      <td>1</td>\n",
       "      <td>1</td>\n",
       "      <td>1</td>\n",
       "      <td>1</td>\n",
       "      <td>0</td>\n",
       "      <td>No</td>\n",
       "      <td>female</td>\n",
       "      <td>2</td>\n",
       "    </tr>\n",
       "  </tbody>\n",
       "</table>\n",
       "<p>29423 rows × 9 columns</p>\n",
       "</div>"
      ],
      "text/plain": [
       "        Cough_symptoms  Fever  Sore_throat  Shortness_of_breath  Headache  \\\n",
       "35751                1      1            1                    1         1   \n",
       "74771                1      1            1                    1         1   \n",
       "271844               1      0            0                    0         0   \n",
       "112661               1      1            0                    0         0   \n",
       "10074                1      1            1                    1         1   \n",
       "...                ...    ...          ...                  ...       ...   \n",
       "10965                1      1            1                    1         1   \n",
       "132617               0      0            0                    0         0   \n",
       "183276               0      0            0                    0         0   \n",
       "12491                1      1            1                    1         1   \n",
       "15561                1      1            1                    1         1   \n",
       "\n",
       "        Corona Age_60_above     Sex  Known_contact  \n",
       "35751        1           No    male              1  \n",
       "74771        1           No    male              2  \n",
       "271844       1         None  female              0  \n",
       "112661       1           No  female              1  \n",
       "10074        0           No    None              2  \n",
       "...        ...          ...     ...            ...  \n",
       "10965        0           No    None              2  \n",
       "132617       1           No    male              1  \n",
       "183276       1         None    male              1  \n",
       "12491        0           No    None              2  \n",
       "15561        0           No  female              2  \n",
       "\n",
       "[29423 rows x 9 columns]"
      ]
     },
     "execution_count": 70,
     "metadata": {},
     "output_type": "execute_result"
    }
   ],
   "source": [
    "data = data.sample(frac = 1)\n",
    "data"
   ]
  },
  {
   "cell_type": "code",
   "execution_count": 71,
   "metadata": {
    "id": "TjK6JiwyprRZ"
   },
   "outputs": [],
   "source": [
    "# data.describe()"
   ]
  },
  {
   "cell_type": "code",
   "execution_count": 72,
   "metadata": {
    "colab": {
     "base_uri": "https://localhost:8080/",
     "height": 269
    },
    "id": "CB_WGOmV1Nhl",
    "outputId": "23421ad7-b163-4301-9e18-f98287339614"
   },
   "outputs": [
    {
     "data": {
      "text/html": [
       "<div>\n",
       "<style scoped>\n",
       "    .dataframe tbody tr th:only-of-type {\n",
       "        vertical-align: middle;\n",
       "    }\n",
       "\n",
       "    .dataframe tbody tr th {\n",
       "        vertical-align: top;\n",
       "    }\n",
       "\n",
       "    .dataframe thead th {\n",
       "        text-align: right;\n",
       "    }\n",
       "</style>\n",
       "<table border=\"1\" class=\"dataframe\">\n",
       "  <thead>\n",
       "    <tr style=\"text-align: right;\">\n",
       "      <th></th>\n",
       "      <th>Cough_symptoms</th>\n",
       "      <th>Fever</th>\n",
       "      <th>Sore_throat</th>\n",
       "      <th>Shortness_of_breath</th>\n",
       "      <th>Headache</th>\n",
       "      <th>Corona</th>\n",
       "      <th>Known_contact</th>\n",
       "    </tr>\n",
       "  </thead>\n",
       "  <tbody>\n",
       "    <tr>\n",
       "      <th>Cough_symptoms</th>\n",
       "      <td>1.000000</td>\n",
       "      <td>0.792712</td>\n",
       "      <td>0.501256</td>\n",
       "      <td>0.494681</td>\n",
       "      <td>0.510340</td>\n",
       "      <td>-0.320003</td>\n",
       "      <td>0.042136</td>\n",
       "    </tr>\n",
       "    <tr>\n",
       "      <th>Fever</th>\n",
       "      <td>0.792712</td>\n",
       "      <td>1.000000</td>\n",
       "      <td>0.558231</td>\n",
       "      <td>0.551288</td>\n",
       "      <td>0.571081</td>\n",
       "      <td>-0.356815</td>\n",
       "      <td>0.081923</td>\n",
       "    </tr>\n",
       "    <tr>\n",
       "      <th>Sore_throat</th>\n",
       "      <td>0.501256</td>\n",
       "      <td>0.558231</td>\n",
       "      <td>1.000000</td>\n",
       "      <td>0.929013</td>\n",
       "      <td>0.914775</td>\n",
       "      <td>-0.632200</td>\n",
       "      <td>0.160307</td>\n",
       "    </tr>\n",
       "    <tr>\n",
       "      <th>Shortness_of_breath</th>\n",
       "      <td>0.494681</td>\n",
       "      <td>0.551288</td>\n",
       "      <td>0.929013</td>\n",
       "      <td>1.000000</td>\n",
       "      <td>0.912731</td>\n",
       "      <td>-0.644211</td>\n",
       "      <td>0.167483</td>\n",
       "    </tr>\n",
       "    <tr>\n",
       "      <th>Headache</th>\n",
       "      <td>0.510340</td>\n",
       "      <td>0.571081</td>\n",
       "      <td>0.914775</td>\n",
       "      <td>0.912731</td>\n",
       "      <td>1.000000</td>\n",
       "      <td>-0.617545</td>\n",
       "      <td>0.156940</td>\n",
       "    </tr>\n",
       "    <tr>\n",
       "      <th>Corona</th>\n",
       "      <td>-0.320003</td>\n",
       "      <td>-0.356815</td>\n",
       "      <td>-0.632200</td>\n",
       "      <td>-0.644211</td>\n",
       "      <td>-0.617545</td>\n",
       "      <td>1.000000</td>\n",
       "      <td>-0.425866</td>\n",
       "    </tr>\n",
       "    <tr>\n",
       "      <th>Known_contact</th>\n",
       "      <td>0.042136</td>\n",
       "      <td>0.081923</td>\n",
       "      <td>0.160307</td>\n",
       "      <td>0.167483</td>\n",
       "      <td>0.156940</td>\n",
       "      <td>-0.425866</td>\n",
       "      <td>1.000000</td>\n",
       "    </tr>\n",
       "  </tbody>\n",
       "</table>\n",
       "</div>"
      ],
      "text/plain": [
       "                     Cough_symptoms     Fever  Sore_throat  \\\n",
       "Cough_symptoms             1.000000  0.792712     0.501256   \n",
       "Fever                      0.792712  1.000000     0.558231   \n",
       "Sore_throat                0.501256  0.558231     1.000000   \n",
       "Shortness_of_breath        0.494681  0.551288     0.929013   \n",
       "Headache                   0.510340  0.571081     0.914775   \n",
       "Corona                    -0.320003 -0.356815    -0.632200   \n",
       "Known_contact              0.042136  0.081923     0.160307   \n",
       "\n",
       "                     Shortness_of_breath  Headache    Corona  Known_contact  \n",
       "Cough_symptoms                  0.494681  0.510340 -0.320003       0.042136  \n",
       "Fever                           0.551288  0.571081 -0.356815       0.081923  \n",
       "Sore_throat                     0.929013  0.914775 -0.632200       0.160307  \n",
       "Shortness_of_breath             1.000000  0.912731 -0.644211       0.167483  \n",
       "Headache                        0.912731  1.000000 -0.617545       0.156940  \n",
       "Corona                         -0.644211 -0.617545  1.000000      -0.425866  \n",
       "Known_contact                   0.167483  0.156940 -0.425866       1.000000  "
      ]
     },
     "execution_count": 72,
     "metadata": {},
     "output_type": "execute_result"
    }
   ],
   "source": [
    "data.corr()"
   ]
  },
  {
   "cell_type": "code",
   "execution_count": 73,
   "metadata": {
    "colab": {
     "base_uri": "https://localhost:8080/",
     "height": 759
    },
    "id": "1qVKjoYmaQkK",
    "outputId": "5537bc7a-0a55-4df5-ccaa-216309bf1b5f"
   },
   "outputs": [
    {
     "data": {
      "image/png": "[encoded data removed]",
      "text/plain": [
       "<Figure size 1152x648 with 2 Axes>"
      ]
     },
     "metadata": {
      "needs_background": "light"
     },
     "output_type": "display_data"
    }
   ],
   "source": [
    "plt.figure(figsize=(16,9))\n",
    "corr = data.corr()\n",
    "sns.heatmap(corr, annot=True, cmap='Set2')\n",
    "plt.show()\n"
   ]
  },
  {
   "cell_type": "code",
   "execution_count": 74,
   "metadata": {
    "colab": {
     "base_uri": "https://localhost:8080/"
    },
    "id": "CUCY4a-P6rt0",
    "outputId": "0f6f1a34-5c04-4432-b027-979e0e8abed5"
   },
   "outputs": [
    {
     "data": {
      "text/plain": [
       "Index(['Cough_symptoms', 'Fever', 'Sore_throat', 'Shortness_of_breath',\n",
       "       'Headache', 'Corona', 'Age_60_above', 'Sex', 'Known_contact'],\n",
       "      dtype='object')"
      ]
     },
     "execution_count": 74,
     "metadata": {},
     "output_type": "execute_result"
    }
   ],
   "source": [
    "data.columns"
   ]
  },
  {
   "cell_type": "code",
   "execution_count": 75,
   "metadata": {
    "id": "wCStK0zZbC77"
   },
   "outputs": [],
   "source": [
    "# training and normalization of data\n",
    "X = data[['Cough_symptoms', 'Fever','Sore_throat', 'Shortness_of_breath', 'Headache', 'Known_contact']]\n",
    "Y = data['Corona']\n",
    "\n",
    "X_train, X_test, Y_train, Y_test = train_test_split(X,Y, test_size = 0.20, random_state=1)\n",
    "\n",
    "# SScaler = StandardScaler()\n",
    "# X_train = SScaler.fit_transform(X_train)\n",
    "# X_test = SScaler.fit_transform(X_test)"
   ]
  },
  {
   "cell_type": "code",
   "execution_count": 77,
   "metadata": {
    "colab": {
     "base_uri": "https://localhost:8080/",
     "height": 80
    },
    "id": "R9SLJWvKbYLw",
    "outputId": "ef41ba60-0cb9-40f7-8b60-6d680ac788a1"
   },
   "outputs": [
    {
     "data": {
      "text/plain": [
       "SVC()"
      ]
     },
     "execution_count": 77,
     "metadata": {},
     "output_type": "execute_result"
    }
   ],
   "source": [
    "from sklearn.svm import SVC\n",
    "svc= SVC()\n",
    "svc.fit(X_train,Y_train)\n",
    "\n"
   ]
  },
  {
   "cell_type": "code",
   "execution_count": 78,
   "metadata": {
    "colab": {
     "base_uri": "https://localhost:8080/",
     "height": 423
    },
    "id": "WlD8_dCW3l_6",
    "outputId": "888a7444-4a1d-4c64-fded-ffa55988c0a7"
   },
   "outputs": [
    {
     "data": {
      "text/html": [
       "<div>\n",
       "<style scoped>\n",
       "    .dataframe tbody tr th:only-of-type {\n",
       "        vertical-align: middle;\n",
       "    }\n",
       "\n",
       "    .dataframe tbody tr th {\n",
       "        vertical-align: top;\n",
       "    }\n",
       "\n",
       "    .dataframe thead th {\n",
       "        text-align: right;\n",
       "    }\n",
       "</style>\n",
       "<table border=\"1\" class=\"dataframe\">\n",
       "  <thead>\n",
       "    <tr style=\"text-align: right;\">\n",
       "      <th></th>\n",
       "      <th>Cough_symptoms</th>\n",
       "      <th>Fever</th>\n",
       "      <th>Sore_throat</th>\n",
       "      <th>Shortness_of_breath</th>\n",
       "      <th>Headache</th>\n",
       "      <th>Known_contact</th>\n",
       "    </tr>\n",
       "  </thead>\n",
       "  <tbody>\n",
       "    <tr>\n",
       "      <th>10287</th>\n",
       "      <td>1</td>\n",
       "      <td>1</td>\n",
       "      <td>1</td>\n",
       "      <td>1</td>\n",
       "      <td>1</td>\n",
       "      <td>2</td>\n",
       "    </tr>\n",
       "    <tr>\n",
       "      <th>158411</th>\n",
       "      <td>0</td>\n",
       "      <td>0</td>\n",
       "      <td>0</td>\n",
       "      <td>0</td>\n",
       "      <td>0</td>\n",
       "      <td>1</td>\n",
       "    </tr>\n",
       "    <tr>\n",
       "      <th>151385</th>\n",
       "      <td>1</td>\n",
       "      <td>1</td>\n",
       "      <td>0</td>\n",
       "      <td>0</td>\n",
       "      <td>0</td>\n",
       "      <td>1</td>\n",
       "    </tr>\n",
       "    <tr>\n",
       "      <th>4481</th>\n",
       "      <td>1</td>\n",
       "      <td>1</td>\n",
       "      <td>1</td>\n",
       "      <td>1</td>\n",
       "      <td>1</td>\n",
       "      <td>0</td>\n",
       "    </tr>\n",
       "    <tr>\n",
       "      <th>1142</th>\n",
       "      <td>1</td>\n",
       "      <td>1</td>\n",
       "      <td>1</td>\n",
       "      <td>1</td>\n",
       "      <td>1</td>\n",
       "      <td>2</td>\n",
       "    </tr>\n",
       "    <tr>\n",
       "      <th>...</th>\n",
       "      <td>...</td>\n",
       "      <td>...</td>\n",
       "      <td>...</td>\n",
       "      <td>...</td>\n",
       "      <td>...</td>\n",
       "      <td>...</td>\n",
       "    </tr>\n",
       "    <tr>\n",
       "      <th>13802</th>\n",
       "      <td>1</td>\n",
       "      <td>1</td>\n",
       "      <td>1</td>\n",
       "      <td>1</td>\n",
       "      <td>1</td>\n",
       "      <td>0</td>\n",
       "    </tr>\n",
       "    <tr>\n",
       "      <th>419</th>\n",
       "      <td>1</td>\n",
       "      <td>1</td>\n",
       "      <td>1</td>\n",
       "      <td>1</td>\n",
       "      <td>1</td>\n",
       "      <td>2</td>\n",
       "    </tr>\n",
       "    <tr>\n",
       "      <th>223292</th>\n",
       "      <td>0</td>\n",
       "      <td>0</td>\n",
       "      <td>0</td>\n",
       "      <td>0</td>\n",
       "      <td>0</td>\n",
       "      <td>1</td>\n",
       "    </tr>\n",
       "    <tr>\n",
       "      <th>12548</th>\n",
       "      <td>1</td>\n",
       "      <td>1</td>\n",
       "      <td>1</td>\n",
       "      <td>1</td>\n",
       "      <td>1</td>\n",
       "      <td>2</td>\n",
       "    </tr>\n",
       "    <tr>\n",
       "      <th>151856</th>\n",
       "      <td>1</td>\n",
       "      <td>0</td>\n",
       "      <td>0</td>\n",
       "      <td>0</td>\n",
       "      <td>0</td>\n",
       "      <td>2</td>\n",
       "    </tr>\n",
       "  </tbody>\n",
       "</table>\n",
       "<p>5885 rows × 6 columns</p>\n",
       "</div>"
      ],
      "text/plain": [
       "        Cough_symptoms  Fever  Sore_throat  Shortness_of_breath  Headache  \\\n",
       "10287                1      1            1                    1         1   \n",
       "158411               0      0            0                    0         0   \n",
       "151385               1      1            0                    0         0   \n",
       "4481                 1      1            1                    1         1   \n",
       "1142                 1      1            1                    1         1   \n",
       "...                ...    ...          ...                  ...       ...   \n",
       "13802                1      1            1                    1         1   \n",
       "419                  1      1            1                    1         1   \n",
       "223292               0      0            0                    0         0   \n",
       "12548                1      1            1                    1         1   \n",
       "151856               1      0            0                    0         0   \n",
       "\n",
       "        Known_contact  \n",
       "10287               2  \n",
       "158411              1  \n",
       "151385              1  \n",
       "4481                0  \n",
       "1142                2  \n",
       "...               ...  \n",
       "13802               0  \n",
       "419                 2  \n",
       "223292              1  \n",
       "12548               2  \n",
       "151856              2  \n",
       "\n",
       "[5885 rows x 6 columns]"
      ]
     },
     "execution_count": 78,
     "metadata": {},
     "output_type": "execute_result"
    }
   ],
   "source": [
    "X_test"
   ]
  },
  {
   "cell_type": "code",
   "execution_count": 79,
   "metadata": {
    "colab": {
     "base_uri": "https://localhost:8080/"
    },
    "id": "c9fgU1YaNWlh",
    "outputId": "75c5ea02-3006-41be-d9b9-5d290493ba5e"
   },
   "outputs": [
    {
     "data": {
      "text/plain": [
       "array([0, 1, 1, ..., 1, 0, 1])"
      ]
     },
     "execution_count": 79,
     "metadata": {},
     "output_type": "execute_result"
    }
   ],
   "source": [
    "Y_pred = svc.predict(X_test)\n",
    "Y_pred"
   ]
  },
  {
   "cell_type": "code",
   "execution_count": 80,
   "metadata": {
    "colab": {
     "base_uri": "https://localhost:8080/"
    },
    "id": "Eu21DPrA3LxB",
    "outputId": "eeb84886-fc68-4fda-8cf7-b201ebedabae"
   },
   "outputs": [
    {
     "data": {
      "text/plain": [
       "89.4"
      ]
     },
     "execution_count": 80,
     "metadata": {},
     "output_type": "execute_result"
    }
   ],
   "source": [
    "#test aucc\n",
    "test_svc_accuracy= round(accuracy_score(Y_test,Y_pred), 4)*100 # Accuracy\n",
    "test_svc_accuracy"
   ]
  },
  {
   "cell_type": "code",
   "execution_count": 81,
   "metadata": {
    "colab": {
     "base_uri": "https://localhost:8080/"
    },
    "id": "HLT_1VEoA5no",
    "outputId": "5377de56-f511-4d11-b26c-315152d8a9c4"
   },
   "outputs": [
    {
     "data": {
      "text/plain": [
       "89.32"
      ]
     },
     "execution_count": 81,
     "metadata": {},
     "output_type": "execute_result"
    }
   ],
   "source": [
    "#Train aucc\n",
    "train_svc_accuracy= round(accuracy_score(Y_train,svc.predict(X_train)), 4)*100 # Accuracy\n",
    "train_svc_accuracy"
   ]
  },
  {
   "cell_type": "code",
   "execution_count": 82,
   "metadata": {
    "id": "63AArN12-Tvf"
   },
   "outputs": [],
   "source": [
    "# Y_pred = svc.predict(X_test)\n"
   ]
  },
  {
   "cell_type": "code",
   "execution_count": 83,
   "metadata": {
    "id": "TFaj09ePHwup"
   },
   "outputs": [],
   "source": [
    "#to dump model\n",
    "import pickle as pk\n",
    "filename = 'model.pickle'\n",
    "pk.dump(svc, open(filename, 'wb'))"
   ]
  },
  {
   "cell_type": "code",
   "execution_count": 84,
   "metadata": {
    "colab": {
     "base_uri": "https://localhost:8080/",
     "height": 474
    },
    "id": "llZlufIyHsAL",
    "outputId": "be0b070c-21ad-42c0-fd63-255c3f3799fb"
   },
   "outputs": [
    {
     "data": {
      "image/png": "[encoded data removed]",
      "text/plain": [
       "<Figure size 432x288 with 2 Axes>"
      ]
     },
     "metadata": {
      "needs_background": "light"
     },
     "output_type": "display_data"
    }
   ],
   "source": [
    "# def impressions(model,accuracy):\n",
    "# print('Mean squared error: ', round(mean_squared_error(Y_test,Y_pred),3))\n",
    "cm=confusion_matrix(Y_test,Y_pred)\n",
    "class_label = ['negative', 'positive']\n",
    "df_cm = pd.DataFrame(cm, index=class_label,columns=class_label)\n",
    "sns.heatmap(df_cm,annot=True,cmap='Set2',linewidths=2,fmt='d')\n",
    "plt.title(\"Confusion Matrix\",fontsize=15)\n",
    "plt.xlabel(\"Predicted\")\n",
    "plt.ylabel(\"True\")\n",
    "plt.show()"
   ]
  },
  {
   "cell_type": "code",
   "execution_count": 85,
   "metadata": {
    "colab": {
     "base_uri": "https://localhost:8080/"
    },
    "id": "fqHJCMzF72Jc",
    "outputId": "1e55281b-8d5a-401c-f23d-41df59f06bf3"
   },
   "outputs": [
    {
     "data": {
      "text/plain": [
       "array([[2615,  293],\n",
       "       [ 331, 2646]], dtype=int64)"
      ]
     },
     "execution_count": 85,
     "metadata": {},
     "output_type": "execute_result"
    }
   ],
   "source": [
    "cm=confusion_matrix(Y_test,Y_pred)\n",
    "cm"
   ]
  },
  {
   "cell_type": "code",
   "execution_count": 86,
   "metadata": {
    "colab": {
     "base_uri": "https://localhost:8080/"
    },
    "id": "YjiEuDrRQHlm",
    "outputId": "765d1334-ddf1-4e35-f3e5-c2f97e62aeea"
   },
   "outputs": [
    {
     "name": "stdout",
     "output_type": "stream",
     "text": [
      "              precision    recall  f1-score   support\n",
      "\n",
      "           0       0.89      0.90      0.89      2908\n",
      "           1       0.90      0.89      0.89      2977\n",
      "\n",
      "    accuracy                           0.89      5885\n",
      "   macro avg       0.89      0.89      0.89      5885\n",
      "weighted avg       0.89      0.89      0.89      5885\n",
      "\n"
     ]
    }
   ],
   "source": [
    "from sklearn.metrics import classification_report, confusion_matrix\n",
    "ytest = np.array(Y_test)\n",
    "print(classification_report(ytest,svc.predict(X_test)))"
   ]
  },
  {
   "cell_type": "code",
   "execution_count": 87,
   "metadata": {
    "colab": {
     "base_uri": "https://localhost:8080/"
    },
    "id": "6Nl7wmeWPoia",
    "outputId": "f9546a2f-674c-4526-f2fc-5fd7401b26ab"
   },
   "outputs": [
    {
     "data": {
      "text/plain": [
       "80.44"
      ]
     },
     "execution_count": 87,
     "metadata": {},
     "output_type": "execute_result"
    }
   ],
   "source": [
    "from sklearn.linear_model import LogisticRegression\n",
    "log_regression = LogisticRegression()\n",
    "log_regression.fit(X_train,Y_train)\n",
    "Y_pred = log_regression.predict(X_test)\n",
    "lg_accuracy= round(accuracy_score(Y_test,Y_pred), 4)*100 # Accuracy\n",
    "lg_accuracy"
   ]
  },
  {
   "cell_type": "code",
   "execution_count": 88,
   "metadata": {
    "colab": {
     "base_uri": "https://localhost:8080/",
     "height": 474
    },
    "id": "pAyhLCMJUrdg",
    "outputId": "0298d1ac-7c67-4f63-f0f3-d6d7fe9de50d"
   },
   "outputs": [
    {
     "data": {
      "image/png": "[encoded data removed]",
      "text/plain": [
       "<Figure size 432x288 with 2 Axes>"
      ]
     },
     "metadata": {
      "needs_background": "light"
     },
     "output_type": "display_data"
    }
   ],
   "source": [
    "# def impressions(model,accuracy):\n",
    "# print('Mean squared error: ', round(mean_squared_error(Y_test,Y_pred),3))\n",
    "cm=confusion_matrix(Y_test,Y_pred)\n",
    "class_label = ['negative', 'positive']\n",
    "df_cm = pd.DataFrame(cm, index=class_label,columns=class_label)\n",
    "sns.heatmap(df_cm,annot=True,cmap='Set2',linewidths=2,fmt='d')\n",
    "plt.title(\"Confusion Matrix\",fontsize=15)\n",
    "plt.xlabel(\"Predicted\")\n",
    "plt.ylabel(\"True\")\n",
    "plt.show()\n"
   ]
  },
  {
   "cell_type": "code",
   "execution_count": 89,
   "metadata": {
    "id": "MAL29skyU-TY"
   },
   "outputs": [],
   "source": [
    "from sklearn.neighbors import KNeighborsClassifier\n",
    "from sklearn.metrics import mean_squared_error,r2_score\n",
    "\n",
    "test_accuracy = []\n",
    "test_mse_value = []\n",
    "train_accuracy = []\n",
    "train_mse_value = []\n",
    "\n",
    "for i in range(1,50):\n",
    "  KNN= KNeighborsClassifier(n_neighbors=i)\n",
    "  KNN.fit(X_train,Y_train)\n",
    "  test_pred = KNN.predict(X_test)\n",
    "  train_pred = KNN.predict(X_train)\n",
    "\n",
    "  test_acc= round(accuracy_score(Y_test,test_pred), 5)*100 # Accuracy\n",
    "  train_acc= round(accuracy_score(Y_train,train_pred), 5)*100 # Accuracy\n",
    "\n",
    "  mse1 = round(mean_squared_error(Y_test,test_pred),3)\n",
    "  mse2 = round(mean_squared_error(Y_train,train_pred),3)\n",
    "\n",
    "  test_accuracy.append(test_acc)\n",
    "  train_accuracy.append(train_acc)\n",
    "\n",
    "  test_mse_value.append(mse1)\n",
    "  train_mse_value.append(mse2)"
   ]
  },
  {
   "cell_type": "code",
   "execution_count": 90,
   "metadata": {
    "colab": {
     "base_uri": "https://localhost:8080/",
     "height": 472
    },
    "id": "h1hnkVBCyDql",
    "outputId": "08ed31ac-15bd-4ac3-e298-37d127ad2655"
   },
   "outputs": [
    {
     "data": {
      "image/png": "[encoded data removed]",
      "text/plain": [
       "<Figure size 432x288 with 1 Axes>"
      ]
     },
     "metadata": {
      "needs_background": "light"
     },
     "output_type": "display_data"
    }
   ],
   "source": [
    "import matplotlib.pyplot as plt\n",
    "x = [i for i in range(1,50)]\n",
    "y = test_accuracy\n",
    "y1 = train_accuracy\n",
    "plt.plot(x,y,label = 'Test accuracy')\n",
    "plt.plot(x,y1,label = 'Train accuracy')\n",
    "plt.title('Aucc plot vs k')\n",
    "plt.xlabel('Value of K')\n",
    "plt.ylabel('Auccracy')\n",
    "plt.legend()\n",
    "plt.show()"
   ]
  },
  {
   "cell_type": "code",
   "execution_count": 91,
   "metadata": {
    "colab": {
     "base_uri": "https://localhost:8080/",
     "height": 472
    },
    "id": "6dbyWNopyugD",
    "outputId": "04d9a9d5-299d-41d6-b43b-8d620be4f605"
   },
   "outputs": [
    {
     "data": {
      "image/png": "[encoded data removed]",
      "text/plain": [
       "<Figure size 432x288 with 1 Axes>"
      ]
     },
     "metadata": {
      "needs_background": "light"
     },
     "output_type": "display_data"
    }
   ],
   "source": [
    "import matplotlib.pyplot as plt\n",
    "x = [i for i in range(1,50)]\n",
    "y = train_mse_value\n",
    "y1 = test_mse_value\n",
    "plt.plot(x,y,label = 'train loss')\n",
    "plt.plot(x,y1,label = 'test loss')\n",
    "\n",
    "plt.title('loss plot vs k')\n",
    "plt.xlabel('Value of K')\n",
    "plt.ylabel('loss')\n",
    "plt.legend()\n",
    "plt.show()"
   ]
  },
  {
   "cell_type": "code",
   "execution_count": 92,
   "metadata": {
    "colab": {
     "base_uri": "https://localhost:8080/"
    },
    "id": "u2T-gFr-yzj9",
    "outputId": "519f5238-18f5-4981-ddc6-a750c0663b94"
   },
   "outputs": [
    {
     "name": "stdout",
     "output_type": "stream",
     "text": [
      "89.21\n"
     ]
    }
   ],
   "source": [
    "# test accu\n",
    "KNN = KNeighborsClassifier(n_neighbors=5)\n",
    "KNN.fit(X_train,Y_train)\n",
    "Y_pred= KNN.predict(X_test)\n",
    "\n",
    "KNN_accuracy= round(accuracy_score(Y_test,Y_pred), 5)*100 # Accuracy\n",
    "print(KNN_accuracy)"
   ]
  },
  {
   "cell_type": "code",
   "execution_count": 93,
   "metadata": {
    "colab": {
     "base_uri": "https://localhost:8080/"
    },
    "id": "xfhTK9z5cOSW",
    "outputId": "89ca5be9-5dbf-4494-f588-20f27c3b7df2"
   },
   "outputs": [
    {
     "name": "stdout",
     "output_type": "stream",
     "text": [
      "88.661\n"
     ]
    }
   ],
   "source": [
    "#train accu\n",
    "Y_pred_train= KNN.predict(X_train)\n",
    "KNN_accuracy= round(accuracy_score(Y_train,Y_pred_train), 5)*100 # Accuracy\n",
    "print(KNN_accuracy)"
   ]
  },
  {
   "cell_type": "code",
   "execution_count": 94,
   "metadata": {
    "colab": {
     "base_uri": "https://localhost:8080/",
     "height": 474
    },
    "id": "UOMD7L5Ly19r",
    "outputId": "dfe66286-9bcb-46ac-b9e2-c35c12bfccfe"
   },
   "outputs": [
    {
     "data": {
      "image/png": "[encoded data removed]",
      "text/plain": [
       "<Figure size 432x288 with 2 Axes>"
      ]
     },
     "metadata": {
      "needs_background": "light"
     },
     "output_type": "display_data"
    }
   ],
   "source": [
    "\n",
    "\n",
    "cm=confusion_matrix(Y_test,Y_pred)\n",
    "class_label = [0, 1]\n",
    "df_cm = pd.DataFrame(cm, index=class_label,columns=class_label)\n",
    "sns.heatmap(df_cm,annot=True,cmap='Set2',linewidths=2,fmt='d')\n",
    "plt.title(\"Confusion Matrix\",fontsize=15)\n",
    "plt.xlabel(\"Predicted\")\n",
    "plt.ylabel(\"True\")\n",
    "plt.show()\n",
    "\n"
   ]
  }
 ],
 "metadata": {
  "colab": {
   "provenance": []
  },
  "kernelspec": {
   "display_name": "Python 3 (ipykernel)",
   "language": "python",
   "name": "python3"
  },
  "language_info": {
   "codemirror_mode": {
    "name": "ipython",
    "version": 3
   },
   "file_extension": ".py",
   "mimetype": "text/x-python",
   "name": "python",
   "nbconvert_exporter": "python",
   "pygments_lexer": "ipython3",
   "version": "3.9.12"
  }
 },
 "nbformat": 4,
 "nbformat_minor": 1
}
